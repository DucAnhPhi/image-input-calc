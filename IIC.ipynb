{
 "cells": [
  {
   "cell_type": "markdown",
   "metadata": {},
   "source": [
    "# IIC #"
   ]
  },
  {
   "cell_type": "code",
   "execution_count": 20,
   "metadata": {},
   "outputs": [
    {
     "name": "stdout",
     "output_type": "stream",
     "text": [
      "Test\n"
     ]
    }
   ],
   "source": [
    "print(\"Test\")"
   ]
  },
  {
   "cell_type": "code",
   "execution_count": 21,
   "metadata": {},
   "outputs": [],
   "source": [
    "import numpy as np\n",
    "import cv2\n"
   ]
  },
  {
   "cell_type": "code",
   "execution_count": 209,
   "metadata": {},
   "outputs": [],
   "source": [
    "def PreProcess(InIm):\n",
    "    ret=None\n",
    "    ret=InIm\n",
    "    print(\"Preprocess Done\")\n",
    "    \n",
    "    mean=cv2.mean(InIm)[0]\n",
    "    var=np.var(InIm)\n",
    "    \n",
    "    print(\"Mean: \", mean)\n",
    "    print(\"Var: \", var)\n",
    "    \n",
    "    \n",
    "    h = ret.shape[0]\n",
    "    w = ret.shape[1]\n",
    "    \n",
    "    \n",
    "    #for y in range(0, h):\n",
    "     #   for x in range(0, w):\n",
    "      #      #print(ret[y][x])\n",
    "       #     ret[y][x] = 255 if ret[y][x] >= 100 else 0\n",
    "    kernel = np.ones((5,5),np.uint8)\n",
    "    gradient = cv2.morphologyEx(InIm, cv2.MORPH_GRADIENT, kernel)\n",
    "    closing = cv2.morphologyEx(gradient, cv2.MORPH_CLOSE, kernel,iterations= 2)\n",
    "    opening = cv2.morphologyEx(closing, cv2.MORPH_OPEN, kernel,iterations= 1)\n",
    "    #ret = cv2.dilate(gradient,kernel,iterations = 3)\n",
    "    ret=(255-opening)\n",
    "    \n",
    "    return ret"
   ]
  },
  {
   "cell_type": "code",
   "execution_count": 210,
   "metadata": {},
   "outputs": [],
   "source": [
    "\n",
    "# Load an color image in grayscale\n",
    "before1 = cv2.imread('Image1.png',0)\n",
    "before2 = cv2.imread('Image2.png',0)\n",
    "before3 = cv2.imread('Image3.png',0)\n",
    "\n",
    "\n",
    "img = cv2.imread('SilverOwl.png',0)\n",
    "\n",
    "if(before1 is None):\n",
    "    print(\"before1.png not found\")\n",
    "if(before2 is None):\n",
    "    print(\"before2.png not found\")\n",
    "if(before3 is None):\n",
    "    print(\"before3.png not found\")"
   ]
  },
  {
   "cell_type": "code",
   "execution_count": null,
   "metadata": {},
   "outputs": [],
   "source": []
  },
  {
   "cell_type": "code",
   "execution_count": 211,
   "metadata": {},
   "outputs": [
    {
     "name": "stdout",
     "output_type": "stream",
     "text": [
      "Preprocess Done\n",
      "Mean:  164.76252891159845\n",
      "Var:  1026.7315023864421\n"
     ]
    }
   ],
   "source": [
    "im1=PreProcess(before1)\n",
    "#im2=PreProcess(before2)\n",
    "#im3=PreProcess(before3)"
   ]
  },
  {
   "cell_type": "code",
   "execution_count": null,
   "metadata": {},
   "outputs": [],
   "source": []
  },
  {
   "cell_type": "code",
   "execution_count": 212,
   "metadata": {},
   "outputs": [],
   "source": [
    "\n",
    "cv2.imshow('Before 1',before1)\n",
    "\n",
    "cv2.imshow('After 1',im1)\n",
    "\n",
    "cv2.waitKey(0)\n",
    "cv2.destroyAllWindows()"
   ]
  },
  {
   "cell_type": "code",
   "execution_count": 213,
   "metadata": {},
   "outputs": [
    {
     "data": {
      "text/plain": [
       "True"
      ]
     },
     "execution_count": 213,
     "metadata": {},
     "output_type": "execute_result"
    }
   ],
   "source": [
    "cv2.imwrite('After1.png',im1)"
   ]
  },
  {
   "cell_type": "code",
   "execution_count": null,
   "metadata": {},
   "outputs": [],
   "source": []
  }
 ],
 "metadata": {
  "kernelspec": {
   "display_name": "Python 3",
   "language": "python",
   "name": "python3"
  },
  "language_info": {
   "codemirror_mode": {
    "name": "ipython",
    "version": 3
   },
   "file_extension": ".py",
   "mimetype": "text/x-python",
   "name": "python",
   "nbconvert_exporter": "python",
   "pygments_lexer": "ipython3",
   "version": "3.6.9"
  }
 },
 "nbformat": 4,
 "nbformat_minor": 2
}
