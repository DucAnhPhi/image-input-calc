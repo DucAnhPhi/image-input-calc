{
 "cells": [
  {
   "cell_type": "code",
   "execution_count": 1,
   "metadata": {},
   "outputs": [
    {
     "name": "stderr",
     "output_type": "stream",
     "text": [
      "100%|██████████| 151241/151241 [00:02<00:00, 74350.53it/s]\n",
      "100%|██████████| 60000/60000 [00:14<00:00, 4162.49it/s]\n",
      "100%|██████████| 60000/60000 [00:00<00:00, 210981.62it/s]\n",
      "100%|██████████| 16992/16992 [00:00<00:00, 79507.73it/s] \n",
      "100%|██████████| 10000/10000 [00:02<00:00, 4005.66it/s]\n",
      "100%|██████████| 10000/10000 [00:00<00:00, 233256.62it/s]"
     ]
    },
    {
     "name": "stdout",
     "output_type": "stream",
     "text": [
      "Train data length: 65690\n",
      "Test data length: 10644\n",
      "Img Shape: torch.Size([1, 28, 28])\n",
      "Number of Labels: 15\n"
     ]
    },
    {
     "name": "stderr",
     "output_type": "stream",
     "text": [
      "\n"
     ]
    }
   ],
   "source": [
    "import torch\n",
    "import os\n",
    "import torch.nn as nn\n",
    "import numpy as np\n",
    "from torch.utils.data import DataLoader\n",
    "from tqdm import tqdm\n",
    "from training_data import CombinedData\n",
    "from PIL import Image\n",
    "from matplotlib import pyplot as plt\n",
    "\n",
    "data_train = CombinedData('HASY')\n",
    "data_test = CombinedData('HASY', train=False)\n",
    "\n",
    "print(\"Train data length: {0}\".format(len(data_train.data)))\n",
    "print(\"Test data length: {0}\".format(len(data_test.data)))\n",
    "print(\"Img Shape: {0}\".format(data_train.data[0].shape))\n",
    "print(\"Number of Labels: {0}\".format(data_train.no_labels))"
   ]
  },
  {
   "cell_type": "code",
   "execution_count": null,
   "metadata": {},
   "outputs": [
    {
     "name": "stderr",
     "output_type": "stream",
     "text": [
      "\r",
      "  0%|          | 0/666 [00:00<?, ?it/s]"
     ]
    },
    {
     "name": "stdout",
     "output_type": "stream",
     "text": [
      "Epoch 0\n"
     ]
    },
    {
     "name": "stderr",
     "output_type": "stream",
     "text": [
      "100%|██████████| 666/666 [04:27<00:00,  2.72it/s]\n",
      "  0%|          | 0/4106 [00:00<?, ?it/s]"
     ]
    },
    {
     "name": "stdout",
     "output_type": "stream",
     "text": [
      "Accuracy: 7.272897720336914\n"
     ]
    },
    {
     "name": "stderr",
     "output_type": "stream",
     "text": [
      "\r",
      "  0%|          | 1/4106 [00:01<1:40:32,  1.47s/it]"
     ]
    },
    {
     "name": "stdout",
     "output_type": "stream",
     "text": [
      "Loss: 2.765979528427124\n"
     ]
    },
    {
     "name": "stderr",
     "output_type": "stream",
     "text": [
      "  2%|▏         | 101/4106 [02:36<1:40:30,  1.51s/it]"
     ]
    },
    {
     "name": "stdout",
     "output_type": "stream",
     "text": [
      "Loss: 1.2769800424575806\n"
     ]
    },
    {
     "name": "stderr",
     "output_type": "stream",
     "text": [
      "  5%|▍         | 201/4106 [05:16<2:34:13,  2.37s/it]"
     ]
    },
    {
     "name": "stdout",
     "output_type": "stream",
     "text": [
      "Loss: 0.8478285074234009\n"
     ]
    },
    {
     "name": "stderr",
     "output_type": "stream",
     "text": [
      "  7%|▋         | 301/4106 [08:05<1:39:03,  1.56s/it]"
     ]
    },
    {
     "name": "stdout",
     "output_type": "stream",
     "text": [
      "Loss: 0.4498547613620758\n"
     ]
    },
    {
     "name": "stderr",
     "output_type": "stream",
     "text": [
      " 10%|▉         | 401/4106 [10:59<2:12:40,  2.15s/it]"
     ]
    },
    {
     "name": "stdout",
     "output_type": "stream",
     "text": [
      "Loss: 0.7750710248947144\n"
     ]
    },
    {
     "name": "stderr",
     "output_type": "stream",
     "text": [
      " 10%|▉         | 404/4106 [11:05<2:10:03,  2.11s/it]"
     ]
    }
   ],
   "source": [
    "# Train with a pretrained model from PyTorch\n",
    "from torchvision import models\n",
    "from torch.nn import Conv2d\n",
    "\n",
    "pretrained = False\n",
    "torch_model = models.densenet201(num_classes=15)\n",
    "torch_model.features.conv0 = Conv2d(1, 64, kernel_size=(7, 7), stride=(2, 2), padding=(3, 3), bias=False)\n",
    "if pretrained:\n",
    "    torch_model.load_state_dict(torch.load('pretrained-model-01.ckpt'))\n",
    "epochs = 10\n",
    "optimizer = torch.optim.Adam(torch_model.parameters(), lr=0.001, betas=(0.8, 0.925), weight_decay=0.01)\n",
    "criterion = nn.CrossEntropyLoss()\n",
    "\n",
    "def calc_accuracy(model):\n",
    "    accuracies = []\n",
    "    for idx, [x_test, y_test] in enumerate(tqdm(test_loader)):\n",
    "        test_pred = model(x_test)\n",
    "        accuracy = 100 * torch.mean((torch.argmax(test_pred, dim=1) == y_test).float())\n",
    "        accuracies.append(accuracy)\n",
    "    return np.mean(accuracies)  \n",
    "\n",
    "train_loader = DataLoader(data_train, batch_size=16, shuffle=True)\n",
    "test_loader = DataLoader(data_test, batch_size=16, shuffle=False)\n",
    "\n",
    "for epoch in range(epochs):\n",
    "    print(\"Epoch {0}\".format(epoch))\n",
    "    acc = calc_accuracy(torch_model)\n",
    "    print(\"Accuracy: {0}\".format(acc))\n",
    "    if acc > 95:\n",
    "        torch.save(torch_model.state_dict(), 'combined-model-{0}.ckpt'.format(acc))\n",
    "    for step, [x_train, y_train] in enumerate(tqdm(train_loader)):\n",
    "        optimizer.zero_grad()\n",
    "        train_pred = torch_model(x_train)\n",
    "        loss = criterion(train_pred, y_train)\n",
    "        loss.backward()\n",
    "        optimizer.step()\n",
    "        if step % 100 == 0:\n",
    "            print('Loss: {}'.format(loss))\n",
    "torch.save(torch_model.state_dict(), 'combined-model.ckpt')"
   ]
  },
  {
   "cell_type": "code",
   "execution_count": null,
   "metadata": {},
   "outputs": [],
   "source": [
    "torch.save(torch_model.state_dict(), 'combined-model.ckpt')\n",
    "calc_accuracy(torch_model)"
   ]
  },
  {
   "cell_type": "code",
   "execution_count": null,
   "metadata": {},
   "outputs": [],
   "source": []
  }
 ],
 "metadata": {
  "kernelspec": {
   "display_name": "Python 3",
   "language": "python",
   "name": "python3"
  },
  "language_info": {
   "codemirror_mode": {
    "name": "ipython",
    "version": 3
   },
   "file_extension": ".py",
   "mimetype": "text/x-python",
   "name": "python",
   "nbconvert_exporter": "python",
   "pygments_lexer": "ipython3",
   "version": "3.7.3"
  }
 },
 "nbformat": 4,
 "nbformat_minor": 2
}
