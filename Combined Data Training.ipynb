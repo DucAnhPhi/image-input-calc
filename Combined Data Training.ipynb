{
 "cells": [
  {
   "cell_type": "code",
   "execution_count": 1,
   "metadata": {},
   "outputs": [
    {
     "name": "stderr",
     "output_type": "stream",
     "text": [
      "  1%|▏         | 852/60000 [00:00<00:07, 8355.77it/s]"
     ]
    },
    {
     "name": "stdout",
     "output_type": "stream",
     "text": [
      "Preprocessing MNIST training data...\n"
     ]
    },
    {
     "name": "stderr",
     "output_type": "stream",
     "text": [
      "100%|██████████| 60000/60000 [00:11<00:00, 5066.14it/s]\n",
      " 11%|█         | 1059/10000 [00:00<00:00, 10583.78it/s]"
     ]
    },
    {
     "name": "stdout",
     "output_type": "stream",
     "text": [
      "Preprocessing MNIST training data...\n"
     ]
    },
    {
     "name": "stderr",
     "output_type": "stream",
     "text": [
      "100%|██████████| 10000/10000 [00:02<00:00, 4570.86it/s]\n"
     ]
    }
   ],
   "source": [
    "# Create MNIST data arrays\n",
    "%run ./generate_mnist_dataset.ipynb"
   ]
  },
  {
   "cell_type": "code",
   "execution_count": 3,
   "metadata": {},
   "outputs": [
    {
     "name": "stderr",
     "output_type": "stream",
     "text": [
      "100%|██████████| 151241/151241 [00:00<00:00, 244465.00it/s]\n",
      "100%|██████████| 60000/60000 [00:15<00:00, 3791.37it/s]\n",
      "100%|██████████| 60000/60000 [00:00<00:00, 188372.73it/s]\n",
      "  0%|          | 0/16992 [00:00<?, ?it/s]"
     ]
    },
    {
     "name": "stdout",
     "output_type": "stream",
     "text": [
      "No training data for ). Skipping\n"
     ]
    },
    {
     "name": "stderr",
     "output_type": "stream",
     "text": [
      "100%|██████████| 16992/16992 [00:00<00:00, 227611.91it/s]\n",
      "100%|██████████| 10000/10000 [00:02<00:00, 3975.25it/s]\n",
      "100%|██████████| 10000/10000 [00:00<00:00, 121282.95it/s]\n"
     ]
    },
    {
     "name": "stdout",
     "output_type": "stream",
     "text": [
      "No training data for ). Skipping\n",
      "No training data for 0. Skipping\n",
      "No training data for 1. Skipping\n",
      "No training data for 2. Skipping\n",
      "No training data for 3. Skipping\n",
      "No training data for 4. Skipping\n",
      "No training data for 5. Skipping\n",
      "No training data for 6. Skipping\n",
      "No training data for 7. Skipping\n",
      "No training data for 8. Skipping\n",
      "No training data for 9. Skipping\n",
      "No training data for brckts. Skipping\n",
      "No training data for ). Skipping\n",
      "No training data for 0. Skipping\n",
      "No training data for 1. Skipping\n",
      "No training data for 2. Skipping\n",
      "No training data for 3. Skipping\n",
      "No training data for 4. Skipping\n",
      "No training data for 5. Skipping\n",
      "No training data for 6. Skipping\n",
      "No training data for 7. Skipping\n",
      "No training data for 8. Skipping\n",
      "No training data for 9. Skipping\n",
      "No training data for brckts. Skipping\n",
      "No training data for ). Skipping\n",
      "No training data for 0. Skipping\n",
      "No training data for 1. Skipping\n",
      "No training data for 2. Skipping\n",
      "No training data for 3. Skipping\n",
      "No training data for 4. Skipping\n",
      "No training data for 5. Skipping\n",
      "No training data for 6. Skipping\n",
      "No training data for 7. Skipping\n",
      "No training data for 8. Skipping\n",
      "No training data for 9. Skipping\n",
      "No training data for -. Skipping\n",
      "No training data for div. Skipping\n",
      "No training data for ). Skipping\n",
      "No training data for 0. Skipping\n",
      "No training data for 1. Skipping\n",
      "No training data for 2. Skipping\n",
      "No training data for 3. Skipping\n",
      "No training data for 4. Skipping\n",
      "No training data for 5. Skipping\n",
      "No training data for 6. Skipping\n",
      "No training data for 7. Skipping\n",
      "No training data for 8. Skipping\n",
      "No training data for 9. Skipping\n",
      "No training data for -. Skipping\n",
      "No training data for div. Skipping\n",
      "No training data for ). Skipping\n",
      "Train data length: 71969\n",
      "Test data length: 14427\n",
      "Img Shape: torch.Size([1, 32, 32])\n",
      "Number of Labels: 15\n",
      "Train data length: 3831\n",
      "Test data length: 1155\n",
      "Img Shape: torch.Size([1, 32, 32])\n",
      "Number of Labels: 15\n",
      "Train data length: 7730\n",
      "Test data length: 2940\n",
      "Img Shape: torch.Size([1, 32, 32])\n",
      "Number of Labels: 15\n"
     ]
    }
   ],
   "source": [
    "# Load and prepare the data\n",
    "\n",
    "import torch\n",
    "import os\n",
    "import torch.nn as nn\n",
    "import numpy as np\n",
    "from torch.utils.data import DataLoader\n",
    "from tqdm import tqdm\n",
    "from training_data import DataCollection\n",
    "from PIL import Image\n",
    "from matplotlib import pyplot as plt\n",
    "\n",
    "def print_data_infos(data_train, data_test):\n",
    "    print(\"Train data length: {0}\".format(len(data_train.data)))\n",
    "    print(\"Test data length: {0}\".format(len(data_test.data)))\n",
    "    print(\"Img Shape: {0}\".format(data_train.data[0].shape))\n",
    "    print(\"Number of Labels: {0}\".format(data_train.no_labels))\n",
    "    \n",
    "data_all_train = DataCollection()\n",
    "data_all_test = DataCollection(train=False)\n",
    "\n",
    "data_ops_train = DataCollection(use_hasy=False, use_mnist=False, own_path='plus-min-div')\n",
    "data_ops_test = DataCollection(use_hasy=False, use_mnist=False, own_path='plus-min-div', train=False)\n",
    "\n",
    "data_brckts_train = DataCollection(use_hasy=False, use_mnist=False, own_path='plus-brckts')\n",
    "data_brckts_test = DataCollection(use_hasy=False, use_mnist=False, own_path='plus-brckts', train=False)\n",
    "\n",
    "print_data_infos(data_all_train, data_all_test)\n",
    "print_data_infos(data_ops_train, data_ops_test)\n",
    "print_data_infos(data_brckts_train, data_brckts_test)\n"
   ]
  },
  {
   "cell_type": "code",
   "execution_count": 5,
   "metadata": {},
   "outputs": [
    {
     "data": {
      "image/png": "[encoded data removed]",
      "text/plain": [
       "<Figure size 432x288 with 1 Axes>"
      ]
     },
     "metadata": {
      "needs_background": "light"
     },
     "output_type": "display_data"
    },
    {
     "name": "stdout",
     "output_type": "stream",
     "text": [
      "Label: 1\n"
     ]
    },
    {
     "data": {
      "image/png": "[encoded data removed]",
      "text/plain": [
       "<Figure size 432x288 with 1 Axes>"
      ]
     },
     "metadata": {
      "needs_background": "light"
     },
     "output_type": "display_data"
    },
    {
     "name": "stdout",
     "output_type": "stream",
     "text": [
      "Label: 1\n"
     ]
    },
    {
     "data": {
      "image/png": "[encoded data removed]",
      "text/plain": [
       "<Figure size 432x288 with 1 Axes>"
      ]
     },
     "metadata": {
      "needs_background": "light"
     },
     "output_type": "display_data"
    },
    {
     "name": "stdout",
     "output_type": "stream",
     "text": [
      "Label: 1\n"
     ]
    },
    {
     "data": {
      "image/png": "[encoded data removed]",
      "text/plain": [
       "<Figure size 432x288 with 1 Axes>"
      ]
     },
     "metadata": {
      "needs_background": "light"
     },
     "output_type": "display_data"
    },
    {
     "name": "stdout",
     "output_type": "stream",
     "text": [
      "Label: 1\n"
     ]
    },
    {
     "data": {
      "image/png": "[encoded data removed]",
      "text/plain": [
       "<Figure size 432x288 with 1 Axes>"
      ]
     },
     "metadata": {
      "needs_background": "light"
     },
     "output_type": "display_data"
    },
    {
     "name": "stdout",
     "output_type": "stream",
     "text": [
      "Label: 1\n"
     ]
    },
    {
     "data": {
      "image/png": "[encoded data removed]",
      "text/plain": [
       "<Figure size 432x288 with 1 Axes>"
      ]
     },
     "metadata": {
      "needs_background": "light"
     },
     "output_type": "display_data"
    },
    {
     "name": "stdout",
     "output_type": "stream",
     "text": [
      "Label: 11\n"
     ]
    },
    {
     "data": {
      "image/png": "[encoded data removed]",
      "text/plain": [
       "<Figure size 432x288 with 1 Axes>"
      ]
     },
     "metadata": {
      "needs_background": "light"
     },
     "output_type": "display_data"
    },
    {
     "name": "stdout",
     "output_type": "stream",
     "text": [
      "Label: 11\n"
     ]
    },
    {
     "data": {
      "image/png": "[encoded data removed]",
      "text/plain": [
       "<Figure size 432x288 with 1 Axes>"
      ]
     },
     "metadata": {
      "needs_background": "light"
     },
     "output_type": "display_data"
    },
    {
     "name": "stdout",
     "output_type": "stream",
     "text": [
      "Label: 11\n"
     ]
    },
    {
     "data": {
      "image/png": "[encoded data removed]",
      "text/plain": [
       "<Figure size 432x288 with 1 Axes>"
      ]
     },
     "metadata": {
      "needs_background": "light"
     },
     "output_type": "display_data"
    },
    {
     "name": "stdout",
     "output_type": "stream",
     "text": [
      "Label: 11\n"
     ]
    },
    {
     "data": {
      "image/png": "[encoded data removed]",
      "text/plain": [
       "<Figure size 432x288 with 1 Axes>"
      ]
     },
     "metadata": {
      "needs_background": "light"
     },
     "output_type": "display_data"
    },
    {
     "name": "stdout",
     "output_type": "stream",
     "text": [
      "Label: 11\n"
     ]
    },
    {
     "data": {
      "image/png": "[encoded data removed]",
      "text/plain": [
       "<Figure size 432x288 with 1 Axes>"
      ]
     },
     "metadata": {
      "needs_background": "light"
     },
     "output_type": "display_data"
    },
    {
     "name": "stdout",
     "output_type": "stream",
     "text": [
      "Label: 13\n"
     ]
    },
    {
     "data": {
      "image/png": "[encoded data removed]",
      "text/plain": [
       "<Figure size 432x288 with 1 Axes>"
      ]
     },
     "metadata": {
      "needs_background": "light"
     },
     "output_type": "display_data"
    },
    {
     "name": "stdout",
     "output_type": "stream",
     "text": [
      "Label: 13\n"
     ]
    },
    {
     "data": {
      "image/png": "[encoded data removed]",
      "text/plain": [
       "<Figure size 432x288 with 1 Axes>"
      ]
     },
     "metadata": {
      "needs_background": "light"
     },
     "output_type": "display_data"
    },
    {
     "name": "stdout",
     "output_type": "stream",
     "text": [
      "Label: 13\n"
     ]
    },
    {
     "data": {
      "image/png": "[encoded data removed]",
      "text/plain": [
       "<Figure size 432x288 with 1 Axes>"
      ]
     },
     "metadata": {
      "needs_background": "light"
     },
     "output_type": "display_data"
    },
    {
     "name": "stdout",
     "output_type": "stream",
     "text": [
      "Label: 14\n"
     ]
    },
    {
     "data": {
      "image/png": "[encoded data removed]",
      "text/plain": [
       "<Figure size 432x288 with 1 Axes>"
      ]
     },
     "metadata": {
      "needs_background": "light"
     },
     "output_type": "display_data"
    },
    {
     "name": "stdout",
     "output_type": "stream",
     "text": [
      "Label: 14\n"
     ]
    }
   ],
   "source": [
    "\n",
    "\n",
    "# Plot some images for control\n",
    "\n",
    "from torchvision import transforms\n",
    "for i in range(61000, 61005):\n",
    "    test_img = transforms.ToPILImage()(data_all_train.data[i])\n",
    "    plt.imshow(test_img, cmap='gray')\n",
    "    plt.show()\n",
    "    print(\"Label:\", data_all_train.targets[i])\n",
    "\n",
    "for i in range(3000, 3005):\n",
    "    test_img = transforms.ToPILImage()(data_ops_train.data[i])\n",
    "    plt.imshow(test_img, cmap='gray')\n",
    "    plt.show()\n",
    "    print(\"Label:\", data_ops_train.targets[i])\n",
    "    \n",
    "for i in range(7000, 7005):\n",
    "    test_img = transforms.ToPILImage()(data_brckts_train.data[i])\n",
    "    plt.imshow(test_img, cmap='gray')\n",
    "    plt.show()\n",
    "    print(\"Label:\", data_brckts_train.targets[i])"
   ]
  },
  {
   "cell_type": "code",
   "execution_count": 2,
   "metadata": {},
   "outputs": [],
   "source": [
    "# Declare the network and some utilities\n",
    "\n",
    "from torchvision import models\n",
    "from torch.nn import Conv2d\n",
    "\n",
    "\n",
    "device = torch.device(\"cuda:0\" if torch.cuda.is_available() else \"cpu\")\n",
    "\n",
    "def train(train_loader, test_loader, model_name, print_step, epochs=5):\n",
    "    model = models.alexnet(num_classes=15)\n",
    "    model.features[0] = Conv2d(1, 64, kernel_size=(7, 7), stride=(2, 2), padding=(3, 3), bias=False)\n",
    "    if torch.cuda.is_available():\n",
    "        model.to(device)\n",
    "    optimizer = torch.optim.Adam(model.parameters(), lr=0.001, betas=(0.8, 0.99), weight_decay=0.001)\n",
    "    criterion = nn.CrossEntropyLoss()\n",
    "    for epoch in range(epochs):\n",
    "        print(\"Epoch {0}\".format(epoch))\n",
    "        for step, [x_train, y_train] in enumerate(tqdm(train_loader)):\n",
    "            if torch.cuda.is_available():\n",
    "                 x_train, y_train = x_train.to(device), y_train.to(device)\n",
    "            optimizer.zero_grad()\n",
    "            train_pred = model(x_train)\n",
    "            loss = criterion(train_pred, y_train)\n",
    "            loss.backward()\n",
    "            optimizer.step()\n",
    "            if step % print_step == 0:\n",
    "                print('Loss: {}'.format(loss))\n",
    "        \n",
    "        acc = calc_accuracy(model, test_loader)\n",
    "        print(\"Accuracy: {0}\".format(acc))\n",
    "        if acc > 98:\n",
    "            torch.save(model.state_dict(), '{0}-{1}.ckpt'.format(model_name,acc))\n",
    "    print(\"Accuracy: {0}\".format(acc))\n",
    "    torch.save(model.state_dict(), '{0}.ckpt'.format(model_name))\n",
    "\n",
    "def calc_accuracy(model, test_loader):\n",
    "    accuracies = []\n",
    "    for idx, [x_test, y_test] in enumerate(tqdm(test_loader)):\n",
    "        if torch.cuda.is_available():\n",
    "            x_test, y_test = x_test.to(device), y_test.to(device)\n",
    "        test_pred = model(x_test)\n",
    "        accuracy = 100 * torch.mean((torch.argmax(test_pred, dim=1) == y_test).float())\n",
    "        accuracies.append(accuracy.item() if torch.cuda.is_available() else accuracy)\n",
    "    return np.mean(accuracies)  \n",
    "\n",
    "train_all_loader = DataLoader(data_all_train, batch_size=16, shuffle=True)\n",
    "test_all_loader = DataLoader(data_all_test, batch_size=16, shuffle=False)\n",
    "\n",
    "train_ops_loader = DataLoader(data_ops_train, batch_size=16, shuffle=True)\n",
    "test_ops_loader = DataLoader(data_ops_test, batch_size=16, shuffle=False)\n",
    "\n",
    "train_brckts_loader = DataLoader(data_brckts_train, batch_size=16, shuffle=True)\n",
    "test_brckts_loader = DataLoader(data_brckts_test, batch_size=16, shuffle=False)\n",
    "\n"
   ]
  },
  {
   "cell_type": "code",
   "execution_count": null,
   "metadata": {},
   "outputs": [
    {
     "name": "stderr",
     "output_type": "stream",
     "text": [
      "\r",
      "  0%|          | 0/4259 [00:00<?, ?it/s]"
     ]
    },
    {
     "name": "stdout",
     "output_type": "stream",
     "text": [
      "Epoch 0\n"
     ]
    },
    {
     "name": "stderr",
     "output_type": "stream",
     "text": [
      "\r",
      "  0%|          | 1/4259 [00:00<32:25,  2.19it/s]"
     ]
    },
    {
     "name": "stdout",
     "output_type": "stream",
     "text": [
      "Loss: 2.708343505859375\n"
     ]
    },
    {
     "name": "stderr",
     "output_type": "stream",
     "text": [
      " 12%|█▏        | 501/4259 [05:14<34:45,  1.80it/s]  "
     ]
    },
    {
     "name": "stdout",
     "output_type": "stream",
     "text": [
      "Loss: 1.2580705881118774\n"
     ]
    },
    {
     "name": "stderr",
     "output_type": "stream",
     "text": [
      " 24%|██▎       | 1001/4259 [14:32<1:03:55,  1.18s/it]"
     ]
    },
    {
     "name": "stdout",
     "output_type": "stream",
     "text": [
      "Loss: 0.10727978497743607\n"
     ]
    },
    {
     "name": "stderr",
     "output_type": "stream",
     "text": [
      " 35%|███▌      | 1501/4259 [22:53<41:48,  1.10it/s]  "
     ]
    },
    {
     "name": "stdout",
     "output_type": "stream",
     "text": [
      "Loss: 0.029521822929382324\n"
     ]
    },
    {
     "name": "stderr",
     "output_type": "stream",
     "text": [
      " 47%|████▋     | 2001/4259 [30:25<34:04,  1.10it/s]"
     ]
    },
    {
     "name": "stdout",
     "output_type": "stream",
     "text": [
      "Loss: 0.0038171857595443726\n"
     ]
    },
    {
     "name": "stderr",
     "output_type": "stream",
     "text": [
      " 59%|█████▊    | 2501/4259 [38:12<27:58,  1.05it/s]"
     ]
    },
    {
     "name": "stdout",
     "output_type": "stream",
     "text": [
      "Loss: 0.10790929943323135\n"
     ]
    },
    {
     "name": "stderr",
     "output_type": "stream",
     "text": [
      " 70%|███████   | 3001/4259 [46:43<28:33,  1.36s/it]"
     ]
    },
    {
     "name": "stdout",
     "output_type": "stream",
     "text": [
      "Loss: 0.012806504964828491\n"
     ]
    },
    {
     "name": "stderr",
     "output_type": "stream",
     "text": [
      " 82%|████████▏ | 3501/4259 [55:01<11:06,  1.14it/s]"
     ]
    },
    {
     "name": "stdout",
     "output_type": "stream",
     "text": [
      "Loss: 0.012121886014938354\n"
     ]
    },
    {
     "name": "stderr",
     "output_type": "stream",
     "text": [
      " 94%|█████████▍| 4001/4259 [1:03:01<04:05,  1.05it/s]"
     ]
    },
    {
     "name": "stdout",
     "output_type": "stream",
     "text": [
      "Loss: 0.017300494015216827\n"
     ]
    },
    {
     "name": "stderr",
     "output_type": "stream",
     "text": [
      "100%|██████████| 4259/4259 [1:07:13<00:00,  1.13it/s]\n",
      "100%|██████████| 802/802 [01:02<00:00, 12.86it/s]\n",
      "  0%|          | 0/4259 [00:00<?, ?it/s]"
     ]
    },
    {
     "name": "stdout",
     "output_type": "stream",
     "text": [
      "Accuracy: 97.23348236083984\n",
      "Epoch 1\n"
     ]
    },
    {
     "name": "stderr",
     "output_type": "stream",
     "text": [
      "\r",
      "  0%|          | 1/4259 [00:00<59:37,  1.19it/s]"
     ]
    },
    {
     "name": "stdout",
     "output_type": "stream",
     "text": [
      "Loss: 0.08350574970245361\n"
     ]
    },
    {
     "name": "stderr",
     "output_type": "stream",
     "text": [
      " 12%|█▏        | 501/4259 [08:19<1:06:46,  1.07s/it]"
     ]
    },
    {
     "name": "stdout",
     "output_type": "stream",
     "text": [
      "Loss: 0.20002050697803497\n"
     ]
    },
    {
     "name": "stderr",
     "output_type": "stream",
     "text": [
      " 24%|██▎       | 1001/4259 [16:15<53:37,  1.01it/s] "
     ]
    },
    {
     "name": "stdout",
     "output_type": "stream",
     "text": [
      "Loss: 0.0005107969045639038\n"
     ]
    },
    {
     "name": "stderr",
     "output_type": "stream",
     "text": [
      " 35%|███▌      | 1501/4259 [24:07<40:56,  1.12it/s]  "
     ]
    },
    {
     "name": "stdout",
     "output_type": "stream",
     "text": [
      "Loss: 0.0026123225688934326\n"
     ]
    },
    {
     "name": "stderr",
     "output_type": "stream",
     "text": [
      " 47%|████▋     | 2001/4259 [32:06<35:20,  1.06it/s]"
     ]
    },
    {
     "name": "stdout",
     "output_type": "stream",
     "text": [
      "Loss: 0.10357918590307236\n"
     ]
    },
    {
     "name": "stderr",
     "output_type": "stream",
     "text": [
      " 59%|█████▊    | 2501/4259 [39:50<26:40,  1.10it/s]"
     ]
    },
    {
     "name": "stdout",
     "output_type": "stream",
     "text": [
      "Loss: 0.06995148211717606\n"
     ]
    },
    {
     "name": "stderr",
     "output_type": "stream",
     "text": [
      " 70%|███████   | 3001/4259 [47:08<16:41,  1.26it/s]"
     ]
    },
    {
     "name": "stdout",
     "output_type": "stream",
     "text": [
      "Loss: 0.35300710797309875\n"
     ]
    },
    {
     "name": "stderr",
     "output_type": "stream",
     "text": [
      " 82%|████████▏ | 3501/4259 [54:21<15:45,  1.25s/it]"
     ]
    },
    {
     "name": "stdout",
     "output_type": "stream",
     "text": [
      "Loss: 0.09422300010919571\n"
     ]
    },
    {
     "name": "stderr",
     "output_type": "stream",
     "text": [
      " 94%|█████████▍| 4001/4259 [1:04:34<04:11,  1.03it/s]"
     ]
    },
    {
     "name": "stdout",
     "output_type": "stream",
     "text": [
      "Loss: 0.14568957686424255\n"
     ]
    },
    {
     "name": "stderr",
     "output_type": "stream",
     "text": [
      "100%|██████████| 4259/4259 [1:08:46<00:00,  1.08s/it]\n",
      "100%|██████████| 802/802 [01:02<00:00, 12.84it/s]\n",
      "  0%|          | 0/4259 [00:00<?, ?it/s]"
     ]
    },
    {
     "name": "stdout",
     "output_type": "stream",
     "text": [
      "Accuracy: 95.57356262207031\n",
      "Epoch 2\n"
     ]
    },
    {
     "name": "stderr",
     "output_type": "stream",
     "text": [
      "\r",
      "  0%|          | 1/4259 [00:00<1:02:11,  1.14it/s]"
     ]
    },
    {
     "name": "stdout",
     "output_type": "stream",
     "text": [
      "Loss: 0.00037425756454467773\n"
     ]
    },
    {
     "name": "stderr",
     "output_type": "stream",
     "text": [
      " 12%|█▏        | 501/4259 [07:36<57:51,  1.08it/s]  "
     ]
    },
    {
     "name": "stdout",
     "output_type": "stream",
     "text": [
      "Loss: 0.4852687120437622\n"
     ]
    },
    {
     "name": "stderr",
     "output_type": "stream",
     "text": [
      " 24%|██▎       | 1001/4259 [15:43<51:13,  1.06it/s] "
     ]
    },
    {
     "name": "stdout",
     "output_type": "stream",
     "text": [
      "Loss: 0.027386248111724854\n"
     ]
    },
    {
     "name": "stderr",
     "output_type": "stream",
     "text": [
      " 35%|███▌      | 1501/4259 [24:12<42:58,  1.07it/s]  "
     ]
    },
    {
     "name": "stdout",
     "output_type": "stream",
     "text": [
      "Loss: 0.1979708969593048\n"
     ]
    },
    {
     "name": "stderr",
     "output_type": "stream",
     "text": [
      " 47%|████▋     | 2001/4259 [31:43<44:10,  1.17s/it]"
     ]
    },
    {
     "name": "stdout",
     "output_type": "stream",
     "text": [
      "Loss: 0.0018292814493179321\n"
     ]
    },
    {
     "name": "stderr",
     "output_type": "stream",
     "text": [
      " 59%|█████▊    | 2501/4259 [39:54<1:01:41,  2.11s/it]"
     ]
    },
    {
     "name": "stdout",
     "output_type": "stream",
     "text": [
      "Loss: 0.0013107508420944214\n"
     ]
    },
    {
     "name": "stderr",
     "output_type": "stream",
     "text": [
      " 70%|███████   | 3001/4259 [48:02<17:30,  1.20it/s]  "
     ]
    },
    {
     "name": "stdout",
     "output_type": "stream",
     "text": [
      "Loss: 0.1647205948829651\n"
     ]
    },
    {
     "name": "stderr",
     "output_type": "stream",
     "text": [
      " 82%|████████▏ | 3501/4259 [55:40<17:05,  1.35s/it]"
     ]
    },
    {
     "name": "stdout",
     "output_type": "stream",
     "text": [
      "Loss: 0.3683150112628937\n"
     ]
    },
    {
     "name": "stderr",
     "output_type": "stream",
     "text": [
      " 88%|████████▊ | 3734/4259 [1:00:08<10:45,  1.23s/it]"
     ]
    }
   ],
   "source": [
    "train(train_all_loader, test_all_loader, 'model-all-symbols', 500)\n",
    "train(train_ops_loader, test_ops_loader, 'model-plus-minus-div', 60)\n",
    "train(train_brckts_loader, test_brckts_loader, 'model-plus-brackets', 60)"
   ]
  },
  {
   "cell_type": "code",
   "execution_count": null,
   "metadata": {},
   "outputs": [],
   "source": [
    "acc = calc_accuracy(torch_model)\n",
    "print(\"Accuracy: {0}\".format(acc))\n",
    "torch.save(torch_model.state_dict(), 'combined-model-v3.ckpt')"
   ]
  },
  {
   "cell_type": "code",
   "execution_count": null,
   "metadata": {},
   "outputs": [],
   "source": []
  }
 ],
 "metadata": {
  "kernelspec": {
   "display_name": "Python 3",
   "language": "python",
   "name": "python3"
  },
  "language_info": {
   "codemirror_mode": {
    "name": "ipython",
    "version": 3
   },
   "file_extension": ".py",
   "mimetype": "text/x-python",
   "name": "python",
   "nbconvert_exporter": "python",
   "pygments_lexer": "ipython3",
   "version": "3.7.3"
  }
 },
 "nbformat": 4,
 "nbformat_minor": 2
}
