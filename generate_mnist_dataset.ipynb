{
 "cells": [
  {
   "cell_type": "code",
   "execution_count": 1,
   "metadata": {
    "scrolled": true
   },
   "outputs": [
    {
     "name": "stderr",
     "output_type": "stream",
     "text": [
      "/home/duc/anaconda3/lib/python3.6/site-packages/tensorflow/python/framework/dtypes.py:523: FutureWarning: Passing (type, 1) or '1type' as a synonym of type is deprecated; in a future version of numpy, it will be understood as (type, (1,)) / '(1,)type'.\n",
      "  _np_qint8 = np.dtype([(\"qint8\", np.int8, 1)])\n",
      "/home/duc/anaconda3/lib/python3.6/site-packages/tensorflow/python/framework/dtypes.py:524: FutureWarning: Passing (type, 1) or '1type' as a synonym of type is deprecated; in a future version of numpy, it will be understood as (type, (1,)) / '(1,)type'.\n",
      "  _np_quint8 = np.dtype([(\"quint8\", np.uint8, 1)])\n",
      "/home/duc/anaconda3/lib/python3.6/site-packages/tensorflow/python/framework/dtypes.py:525: FutureWarning: Passing (type, 1) or '1type' as a synonym of type is deprecated; in a future version of numpy, it will be understood as (type, (1,)) / '(1,)type'.\n",
      "  _np_qint16 = np.dtype([(\"qint16\", np.int16, 1)])\n",
      "/home/duc/anaconda3/lib/python3.6/site-packages/tensorflow/python/framework/dtypes.py:526: FutureWarning: Passing (type, 1) or '1type' as a synonym of type is deprecated; in a future version of numpy, it will be understood as (type, (1,)) / '(1,)type'.\n",
      "  _np_quint16 = np.dtype([(\"quint16\", np.uint16, 1)])\n",
      "/home/duc/anaconda3/lib/python3.6/site-packages/tensorflow/python/framework/dtypes.py:527: FutureWarning: Passing (type, 1) or '1type' as a synonym of type is deprecated; in a future version of numpy, it will be understood as (type, (1,)) / '(1,)type'.\n",
      "  _np_qint32 = np.dtype([(\"qint32\", np.int32, 1)])\n",
      "/home/duc/anaconda3/lib/python3.6/site-packages/tensorflow/python/framework/dtypes.py:532: FutureWarning: Passing (type, 1) or '1type' as a synonym of type is deprecated; in a future version of numpy, it will be understood as (type, (1,)) / '(1,)type'.\n",
      "  np_resource = np.dtype([(\"resource\", np.ubyte, 1)])\n"
     ]
    }
   ],
   "source": [
    "import tensorflow as tf\n",
    "import matplotlib.pyplot as plt\n",
    "import cv2 as cv\n",
    "import numpy as np"
   ]
  },
  {
   "cell_type": "code",
   "execution_count": 2,
   "metadata": {},
   "outputs": [],
   "source": [
    "(x_train, y_train), (x_test, y_test) = tf.keras.datasets.mnist.load_data()"
   ]
  },
  {
   "cell_type": "code",
   "execution_count": 6,
   "metadata": {},
   "outputs": [],
   "source": [
    "def resize_keep_ratio(img, size=32, interpolation=cv.INTER_AREA):\n",
    "        # get height and width of given image\n",
    "        h, w = img.shape[:2]\n",
    "        c = None if len(img.shape) < 3 else img.shape[2]\n",
    "        if h == w:\n",
    "            return cv.resize(img, (size, size), interpolation)\n",
    "        # get longest edge\n",
    "        dif = max(h, w)\n",
    "        # calculate offsets\n",
    "        xOffset = int((dif-w)/2.)\n",
    "        yOffset = int((dif-h)/2.)\n",
    "        # generate mask with longest edge and offsets\n",
    "        if c is None:\n",
    "            mask = np.zeros((dif, dif), dtype=img.dtype)\n",
    "            mask[yOffset:yOffset+h, xOffset:xOffset+w] = img[:h, :w]\n",
    "        else:\n",
    "            mask = np.zeros((dif, dif, c), dtype=img.dtype)\n",
    "            mask[yOffset:yOffset+h, xOffset:xOffset+w,\n",
    "                 :] = img[:h, :w, :] = img[:h, :w, :]\n",
    "        # return resized mask\n",
    "        resized = cv.resize(mask, (size, size), interpolation)\n",
    "        return resized\n",
    "\n",
    "def convert_gray(img):\n",
    "    return cv.cvtColor(img, cv.COLOR_BGR2GRAY)\n",
    "\n",
    "def erode(img):\n",
    "    kernel = np.ones((3, 3), np.uint8)\n",
    "    return cv.erode(img, kernel, iterations=1)\n",
    "\n",
    "def gaussian_blur(img):\n",
    "    return cv.GaussianBlur(img, (7, 7), 0)\n",
    "\n",
    "def morph_open(img):\n",
    "    kernel = np.ones((3, 3), np.uint8)\n",
    "    return cv.morphologyEx(img, cv.MORPH_OPEN, kernel, iterations=1)\n",
    "\n",
    "def binarize(img):\n",
    "    # adaptive gaussian thresholding\n",
    "    binarized = cv.adaptiveThreshold(img, 255, cv.ADAPTIVE_THRESH_GAUSSIAN_C,\n",
    "                                     cv.THRESH_BINARY, 11, 2)\n",
    "    return binarized\n",
    "\n",
    "def preprocess(img):\n",
    "    preprocessed = convert_gray(img)\n",
    "    preprocessed = gaussian_blur(preprocessed)\n",
    "    preprocessed = binarize(preprocessed)\n",
    "    return preprocessed\n",
    "\n",
    "def convert(img):\n",
    "    converted = resize_keep_ratio(img)\n",
    "    converted = cv.cvtColor(converted, cv.COLOR_GRAY2BGR)\n",
    "    converted = cv.bitwise_not(converted)\n",
    "    converted = preprocess(converted)\n",
    "    converted = converted.reshape((1,32,32))\n",
    "    return converted"
   ]
  },
  {
   "cell_type": "code",
   "execution_count": 7,
   "metadata": {},
   "outputs": [
    {
     "data": {
      "image/png": "[encoded data removed]",
      "text/plain": [
       "<Figure size 432x288 with 1 Axes>"
      ]
     },
     "metadata": {
      "needs_background": "light"
     },
     "output_type": "display_data"
    }
   ],
   "source": [
    "x_train_processed = []\n",
    "for i in range(len(x_train)):\n",
    "    curr = x_train[i]\n",
    "    x_train_processed.append(convert(curr))\n",
    "\n",
    "x_train_processed = np.array(x_train_processed)\n",
    "\n",
    "np.save('mnist_x_train', x_train_processed)\n",
    "\n",
    "x_test_processed = []\n",
    "for i in range(len(x_test)):\n",
    "    curr = x_test[i]\n",
    "    x_test_processed.append(convert(curr))\n",
    "\n",
    "x_test_processed = np.array(x_test_processed)\n",
    "\n",
    "np.save(\"minst_x_test\", x_test_processed)  \n"
   ]
  }
 ],
 "metadata": {
  "kernelspec": {
   "display_name": "Python 3",
   "language": "python",
   "name": "python3"
  },
  "language_info": {
   "codemirror_mode": {
    "name": "ipython",
    "version": 3
   },
   "file_extension": ".py",
   "mimetype": "text/x-python",
   "name": "python",
   "nbconvert_exporter": "python",
   "pygments_lexer": "ipython3",
   "version": "3.6.8"
  }
 },
 "nbformat": 4,
 "nbformat_minor": 2
}
