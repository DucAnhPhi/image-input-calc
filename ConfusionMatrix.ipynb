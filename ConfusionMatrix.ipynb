{
 "cells": [
  {
   "cell_type": "code",
   "execution_count": null,
   "metadata": {},
   "outputs": [
    {
     "name": "stderr",
     "output_type": "stream",
     "text": [
      "100%|██████████| 16992/16992 [00:00<00:00, 387872.40it/s]\n",
      " 69%|██████▊   | 6868/10000 [00:00<00:00, 9128.42it/s]"
     ]
    }
   ],
   "source": [
    "# Load and prepare the data\n",
    "\n",
    "import torch\n",
    "import os\n",
    "import torch.nn as nn\n",
    "import numpy as np\n",
    "from torch.utils.data import DataLoader\n",
    "from tqdm import tqdm\n",
    "import training_data as td\n",
    "from PIL import Image\n",
    "from matplotlib import pyplot as plt\n",
    "\n",
    "def print_data_infos(data_test):\n",
    "    print(\"Test data length: {0}\".format(len(data_test.data)))\n",
    "    print(\"Img Shape: {0}\".format(data_test.data[0].shape))\n",
    "    print(\"Number of Labels: {0}\".format(data_test.no_labels))\n",
    "    \n",
    "data_all_test = td.DataCollection(train=False)\n",
    "print_data_infos(data_all_test)"
   ]
  },
  {
   "cell_type": "code",
   "execution_count": null,
   "metadata": {},
   "outputs": [],
   "source": [
    "from torchvision.models import alexnet\n",
    "from torch.nn import Conv2d\n",
    "import numpy as np\n",
    "\n",
    "def classify(imgs, model_all, model_ops, model_brckts):\n",
    "    pred_all = model_all(imgs).detach().numpy()\n",
    "    labels_all = np.argmax(pred_all, axis=1)\n",
    "    pred_best_all = np.max(pred_all, axis=1)[None,:]\n",
    "    \n",
    "    pred_ops = model_ops(imgs).detach().numpy()\n",
    "    labels_ops = np.argmax(pred_ops, axis=1)\n",
    "    pred_best_ops = np.max(pred_ops, axis=1)[None,:]\n",
    "    \n",
    "    pred_brckts = model_brckts(imgs).detach().numpy()\n",
    "    labels_brckts = np.argmax(pred_brckts, axis=1)\n",
    "    pred_best_brckts = np.max(pred_brckts, axis=1)[None,:]\n",
    "    \n",
    "    best_preds = np.concatenate((pred_best_all.T, pred_best_ops.T), axis=1)\n",
    "    best_preds = np.argmax(np.concatenate((best_preds, pred_best_brckts.T), axis=1), axis=1)\n",
    "    labels = np.where(best_preds == 1, labels_ops, labels_all)\n",
    "    labels = np.where(best_preds == 2, labels_brckts, labels)\n",
    "    return labels"
   ]
  },
  {
   "cell_type": "code",
   "execution_count": null,
   "metadata": {},
   "outputs": [],
   "source": [
    "from classifier import MathSymbolClassifier\n",
    "\n",
    "models = {'model-all-symbols.ckpt':15, 'model-no_strokes.ckpt':13, 'combined-model-BEST.ckpt':15}\n",
    "classifier = MathSymbolClassifier(num_classes=15, models=models)"
   ]
  },
  {
   "cell_type": "code",
   "execution_count": null,
   "metadata": {},
   "outputs": [],
   "source": [
    "\n",
    "\n",
    "imgs = torch.nn.utils.rnn.pad_sequence(data_all_test.data, batch_first=True, padding_value=0)\n",
    "#labels = classify(imgs, model_all, model_ops, model_brckts)\n",
    "labels = torch.argmax(classifier(imgs), dim=1).detach().numpy()"
   ]
  },
  {
   "cell_type": "code",
   "execution_count": null,
   "metadata": {},
   "outputs": [],
   "source": [
    "confusion_matrix = np.zeros((num_classes+1, num_classes+1))   \n",
    "for i in range(labels.shape[0]):\n",
    "    ground_truth = data_all_test.targets[i]\n",
    "    label = labels[i]\n",
    "    confusion_matrix[ground_truth][label] = int(confusion_matrix[ground_truth][label]) + 1\n"
   ]
  },
  {
   "cell_type": "code",
   "execution_count": null,
   "metadata": {},
   "outputs": [],
   "source": [
    "fig, ax = plt.subplots(figsize=(15, 15))\n",
    "im = ax.imshow(confusion_matrix)\n",
    "\n",
    "# We want to show all ticks...\n",
    "ax.set_xticks(np.arange(num_classes))\n",
    "ax.set_yticks(np.arange(num_classes))\n",
    "# ... and label them with the respective list entries\n",
    "ax.set_xticklabels(td.MATH_SYMBOLS)\n",
    "ax.set_yticklabels(td.MATH_SYMBOLS)\n",
    "\n",
    "# Rotate the tick labels and set their alignment.\n",
    "plt.setp(ax.get_xticklabels(), rotation=45, ha=\"right\",\n",
    "         rotation_mode=\"anchor\")\n",
    "\n",
    "# Loop over data dimensions and create text annotations.\n",
    "for i in range(num_classes):\n",
    "    for j in range(num_classes):\n",
    "        text = ax.text(j, i, confusion_matrix[i, j],\n",
    "                       ha=\"center\", va=\"center\", color=\"w\")\n",
    "\n",
    "plt.show()\n"
   ]
  },
  {
   "cell_type": "code",
   "execution_count": null,
   "metadata": {},
   "outputs": [],
   "source": []
  }
 ],
 "metadata": {
  "kernelspec": {
   "display_name": "Python 3",
   "language": "python",
   "name": "python3"
  },
  "language_info": {
   "codemirror_mode": {
    "name": "ipython",
    "version": 3
   },
   "file_extension": ".py",
   "mimetype": "text/x-python",
   "name": "python",
   "nbconvert_exporter": "python",
   "pygments_lexer": "ipython3",
   "version": "3.7.3"
  }
 },
 "nbformat": 4,
 "nbformat_minor": 2
}
