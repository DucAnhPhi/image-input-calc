{
 "cells": [
  {
   "cell_type": "code",
   "execution_count": 1,
   "metadata": {},
   "outputs": [
    {
     "name": "stderr",
     "output_type": "stream",
     "text": [
      "  3%|▎         | 2035/60000 [00:00<00:02, 20344.93it/s]"
     ]
    },
    {
     "name": "stdout",
     "output_type": "stream",
     "text": [
      "Preprocessing MNIST training data...\n"
     ]
    },
    {
     "name": "stderr",
     "output_type": "stream",
     "text": [
      "100%|██████████| 60000/60000 [00:02<00:00, 20569.54it/s]\n",
      "  4%|▍         | 380/10000 [00:00<00:02, 3799.14it/s]"
     ]
    },
    {
     "name": "stdout",
     "output_type": "stream",
     "text": [
      "Preprocessing MNIST training data...\n"
     ]
    },
    {
     "name": "stderr",
     "output_type": "stream",
     "text": [
      "100%|██████████| 10000/10000 [00:00<00:00, 15296.56it/s]\n"
     ]
    }
   ],
   "source": [
    "# Create MNIST data arrays\n",
    "%run ./generate_mnist_dataset.ipynb"
   ]
  },
  {
   "cell_type": "code",
   "execution_count": 2,
   "metadata": {},
   "outputs": [
    {
     "name": "stderr",
     "output_type": "stream",
     "text": [
      "100%|██████████| 151241/151241 [00:00<00:00, 601881.63it/s]\n",
      "100%|██████████| 60000/60000 [00:06<00:00, 9333.52it/s] \n",
      "100%|██████████| 60000/60000 [00:00<00:00, 360489.21it/s]\n",
      "100%|██████████| 16992/16992 [00:00<00:00, 521369.26it/s]\n",
      "  0%|          | 0/10000 [00:00<?, ?it/s]"
     ]
    },
    {
     "name": "stdout",
     "output_type": "stream",
     "text": [
      "No training data for ). Skipping\n"
     ]
    },
    {
     "name": "stderr",
     "output_type": "stream",
     "text": [
      "100%|██████████| 10000/10000 [00:01<00:00, 6545.97it/s]\n",
      "100%|██████████| 10000/10000 [00:00<00:00, 341580.73it/s]\n"
     ]
    },
    {
     "name": "stdout",
     "output_type": "stream",
     "text": [
      "No training data for ). Skipping\n",
      "Train data length: 71969\n",
      "Test data length: 14427\n",
      "Img Shape: torch.Size([1, 32, 32])\n",
      "Number of Labels: 15\n"
     ]
    }
   ],
   "source": [
    "# Load and prepare the data\n",
    "\n",
    "import torch\n",
    "import os\n",
    "import torch.nn as nn\n",
    "import numpy as np\n",
    "from torch.utils.data import DataLoader\n",
    "from tqdm import tqdm\n",
    "from training_data import DataCollection\n",
    "from PIL import Image\n",
    "from matplotlib import pyplot as plt\n",
    "\n",
    "def print_data_infos(data_train, data_test):\n",
    "    print(\"Train data length: {0}\".format(len(data_train.data)))\n",
    "    print(\"Test data length: {0}\".format(len(data_test.data)))\n",
    "    print(\"Img Shape: {0}\".format(data_train.data[0].shape))\n",
    "    print(\"Number of Labels: {0}\".format(data_train.no_labels))\n",
    "    \n",
    "data_all_train = DataCollection()\n",
    "data_all_test = DataCollection(train=False)\n",
    "\n",
    "\n",
    "print_data_infos(data_all_train, data_all_test)\n"
   ]
  },
  {
   "cell_type": "code",
   "execution_count": 4,
   "metadata": {},
   "outputs": [],
   "source": [
    "# Declare the network and some utilities\n",
    "\n",
    "from torchvision import models\n",
    "from torch.nn import Conv2d\n",
    "\n",
    "\n",
    "device = torch.device(\"cuda:0\" if torch.cuda.is_available() else \"cpu\")\n",
    "\n",
    "def train(train_loader, test_loader, model_name, print_step, num_classes=15, epochs=15):\n",
    "    model = models.alexnet(num_classes=num_classes)\n",
    "    model.features[0] = Conv2d(1, 64, kernel_size=(7, 7), stride=(2, 2), padding=(3, 3), bias=False)\n",
    "    if torch.cuda.is_available():\n",
    "        model.to(device)\n",
    "    optimizer = torch.optim.Adam(model.parameters(), lr=0.001, betas=(0.8, 0.99), weight_decay=0.001)\n",
    "    criterion = nn.CrossEntropyLoss()\n",
    "    for epoch in range(epochs):\n",
    "        print(\"Epoch {0}\".format(epoch))\n",
    "        for step, [x_train, y_train] in enumerate(tqdm(train_loader)):\n",
    "            if torch.cuda.is_available():\n",
    "                 x_train, y_train = x_train.to(device), y_train.to(device)\n",
    "            optimizer.zero_grad()\n",
    "            train_pred = model(x_train)\n",
    "            loss = criterion(train_pred, y_train)\n",
    "            loss.backward()\n",
    "            optimizer.step()\n",
    "            if step % print_step == 0:\n",
    "                print('Loss: {}'.format(loss))\n",
    "        \n",
    "        acc = calc_accuracy(model, test_loader)\n",
    "        print(\"Accuracy: {0}\".format(acc))\n",
    "        if acc > 98:\n",
    "            torch.save(model.state_dict(), '{0}-{1}.ckpt'.format(model_name,acc))\n",
    "    print(\"Accuracy: {0}\".format(acc))\n",
    "    torch.save(model.state_dict(), '{0}.ckpt'.format(model_name))\n",
    "\n",
    "def calc_accuracy(model, test_loader):\n",
    "    accuracies = []\n",
    "    for idx, [x_test, y_test] in enumerate(tqdm(test_loader)):\n",
    "        if torch.cuda.is_available():\n",
    "            x_test, y_test = x_test.to(device), y_test.to(device)\n",
    "        test_pred = model(x_test)\n",
    "        accuracy = 100 * torch.mean((torch.argmax(test_pred, dim=1) == y_test).float())\n",
    "        accuracies.append(accuracy.item() if torch.cuda.is_available() else accuracy)\n",
    "    return np.mean(accuracies)  \n",
    "\n",
    "train_all_loader = DataLoader(data_all_train, batch_size=16, shuffle=True)\n",
    "test_all_loader = DataLoader(data_all_test, batch_size=16, shuffle=False)\n",
    "\n"
   ]
  },
  {
   "cell_type": "code",
   "execution_count": null,
   "metadata": {},
   "outputs": [
    {
     "name": "stderr",
     "output_type": "stream",
     "text": [
      "\r",
      "  0%|          | 0/4499 [00:00<?, ?it/s]"
     ]
    },
    {
     "name": "stdout",
     "output_type": "stream",
     "text": [
      "Epoch 0\n"
     ]
    },
    {
     "name": "stderr",
     "output_type": "stream",
     "text": [
      "\r",
      "  0%|          | 1/4499 [00:00<50:49,  1.48it/s]"
     ]
    },
    {
     "name": "stdout",
     "output_type": "stream",
     "text": [
      "Loss: 2.7100908756256104\n"
     ]
    },
    {
     "name": "stderr",
     "output_type": "stream",
     "text": [
      " 11%|█         | 501/4499 [06:30<41:07,  1.62it/s]  "
     ]
    },
    {
     "name": "stdout",
     "output_type": "stream",
     "text": [
      "Loss: 1.1029101610183716\n"
     ]
    },
    {
     "name": "stderr",
     "output_type": "stream",
     "text": [
      " 22%|██▏       | 1001/4499 [15:18<1:00:02,  1.03s/it]"
     ]
    },
    {
     "name": "stdout",
     "output_type": "stream",
     "text": [
      "Loss: 0.9149488210678101\n"
     ]
    },
    {
     "name": "stderr",
     "output_type": "stream",
     "text": [
      " 33%|███▎      | 1501/4499 [23:52<51:24,  1.03s/it]  "
     ]
    },
    {
     "name": "stdout",
     "output_type": "stream",
     "text": [
      "Loss: 0.5153787136077881\n"
     ]
    },
    {
     "name": "stderr",
     "output_type": "stream",
     "text": [
      " 44%|████▍     | 2001/4499 [32:48<40:14,  1.03it/s]  "
     ]
    },
    {
     "name": "stdout",
     "output_type": "stream",
     "text": [
      "Loss: 0.1105327233672142\n"
     ]
    },
    {
     "name": "stderr",
     "output_type": "stream",
     "text": [
      " 45%|████▍     | 2018/4499 [33:04<39:15,  1.05it/s]"
     ]
    }
   ],
   "source": [
    "train(train_all_loader, test_all_loader, 'model-all-symbols', 500)"
   ]
  },
  {
   "cell_type": "code",
   "execution_count": null,
   "metadata": {},
   "outputs": [],
   "source": [
    "train_no_strokes = DataCollection(own_path='digits-plus-brackets', no_strokes=True)\n",
    "test_no_strokes = DataCollection(own_path='digits-plus-brackets', train=False, no_strokes=True)\n",
    "print_data_infos(train_no_strokes, test_no_strokes)\n",
    "\n",
    "train_no_strokes_loader = DataLoader(train_no_strokes, batch_size=16, shuffle=True)\n",
    "test_no_strokes_loader = DataLoader(test_no_strokes, batch_size=16, shuffle=False)\n",
    "\n",
    "train(train_no_strokes_loader, test_no_strokes_loader, 'model-no_strokes', 500, num_classes=13)"
   ]
  },
  {
   "cell_type": "code",
   "execution_count": null,
   "metadata": {},
   "outputs": [],
   "source": []
  }
 ],
 "metadata": {
  "kernelspec": {
   "display_name": "Python 3",
   "language": "python",
   "name": "python3"
  },
  "language_info": {
   "codemirror_mode": {
    "name": "ipython",
    "version": 3
   },
   "file_extension": ".py",
   "mimetype": "text/x-python",
   "name": "python",
   "nbconvert_exporter": "python",
   "pygments_lexer": "ipython3",
   "version": "3.7.3"
  }
 },
 "nbformat": 4,
 "nbformat_minor": 2
}
