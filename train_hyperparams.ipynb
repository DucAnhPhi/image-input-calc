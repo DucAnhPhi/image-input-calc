{
 "cells": [
  {
   "cell_type": "code",
   "execution_count": 1,
   "metadata": {},
   "outputs": [
    {
     "name": "stderr",
     "output_type": "stream",
     "text": [
      "100%|██████████| 151241/151241 [00:00<00:00, 697768.85it/s]\n",
      "100%|██████████| 60000/60000 [00:07<00:00, 7881.00it/s]\n",
      "100%|██████████| 60000/60000 [00:00<00:00, 362894.99it/s]\n",
      "100%|██████████| 16992/16992 [00:00<00:00, 623492.99it/s]\n",
      "  8%|▊         | 812/10000 [00:00<00:01, 8116.37it/s]"
     ]
    },
    {
     "name": "stdout",
     "output_type": "stream",
     "text": [
      "No training data for 0. Skipping\n",
      "No training data for 1. Skipping\n",
      "No training data for 2. Skipping\n",
      "No training data for 3. Skipping\n",
      "No training data for 4. Skipping\n",
      "No training data for 5. Skipping\n",
      "No training data for 6. Skipping\n",
      "No training data for 7. Skipping\n",
      "No training data for 8. Skipping\n",
      "No training data for 9. Skipping\n",
      "No training data for +. Skipping\n"
     ]
    },
    {
     "name": "stderr",
     "output_type": "stream",
     "text": [
      "100%|██████████| 10000/10000 [00:01<00:00, 8259.05it/s]\n",
      "100%|██████████| 10000/10000 [00:00<00:00, 363253.28it/s]"
     ]
    },
    {
     "name": "stdout",
     "output_type": "stream",
     "text": [
      "No training data for 0. Skipping\n",
      "No training data for 1. Skipping\n",
      "No training data for 2. Skipping\n",
      "No training data for 3. Skipping\n",
      "No training data for 4. Skipping\n",
      "No training data for 5. Skipping\n",
      "No training data for 6. Skipping\n",
      "No training data for 7. Skipping\n",
      "No training data for 8. Skipping\n",
      "No training data for 9. Skipping\n",
      "No training data for +. Skipping\n",
      "Train data length: 60405\n",
      "Test data length: 10045\n",
      "Img Shape: torch.Size([1, 32, 32])\n",
      "Number of Labels: 11\n"
     ]
    },
    {
     "name": "stderr",
     "output_type": "stream",
     "text": [
      "\n"
     ]
    }
   ],
   "source": [
    "import torch\n",
    "import os\n",
    "import torch.nn as nn\n",
    "import numpy as np\n",
    "from torch.utils.data import DataLoader\n",
    "from network import CharacterClassifier\n",
    "from tqdm import tqdm\n",
    "from training_data import CombinedData\n",
    "from PIL import Image\n",
    "from matplotlib import pyplot as plt\n",
    "\n",
    "hasy_train = CombinedData('HASY')\n",
    "hasy_test = CombinedData('HASY', train=False)\n",
    "\n",
    "print(\"Train data length: {0}\".format(len(hasy_train.data)))\n",
    "print(\"Test data length: {0}\".format(len(hasy_test.data)))\n",
    "print(\"Img Shape: {0}\".format(hasy_train.data[0].shape))\n",
    "print(\"Number of Labels: {0}\".format(hasy_train.no_labels))"
   ]
  },
  {
   "cell_type": "code",
   "execution_count": 3,
   "metadata": {},
   "outputs": [
    {
     "name": "stderr",
     "output_type": "stream",
     "text": [
      "100%|██████████| 3776/3776 [01:43<00:00, 36.46it/s]\n"
     ]
    },
    {
     "name": "stdout",
     "output_type": "stream",
     "text": [
      "Learning rate: 0.01\n",
      "Beta 1: 0.8\n",
      "Beta 2: 0.9\n",
      "Weight decay: 0\n",
      "Accuracy: 11.298076923485775\n"
     ]
    },
    {
     "name": "stderr",
     "output_type": "stream",
     "text": [
      "100%|██████████| 3776/3776 [01:55<00:00, 32.78it/s]\n"
     ]
    },
    {
     "name": "stdout",
     "output_type": "stream",
     "text": [
      "Learning rate: 0.01\n",
      "Beta 1: 0.8\n",
      "Beta 2: 0.9\n",
      "Weight decay: 0.01\n",
      "Accuracy: 10.733096522130785\n"
     ]
    },
    {
     "name": "stderr",
     "output_type": "stream",
     "text": [
      "100%|██████████| 3776/3776 [01:54<00:00, 32.89it/s]\n"
     ]
    },
    {
     "name": "stdout",
     "output_type": "stream",
     "text": [
      "Learning rate: 0.01\n",
      "Beta 1: 0.8\n",
      "Beta 2: 0.9\n",
      "Weight decay: 0.001\n",
      "Accuracy: 9.7554813820845\n"
     ]
    },
    {
     "name": "stderr",
     "output_type": "stream",
     "text": [
      "100%|██████████| 3776/3776 [01:55<00:00, 32.66it/s]\n"
     ]
    },
    {
     "name": "stdout",
     "output_type": "stream",
     "text": [
      "Learning rate: 0.01\n",
      "Beta 1: 0.8\n",
      "Beta 2: 0.9\n",
      "Weight decay: 0.0001\n",
      "Accuracy: 11.34018250939193\n"
     ]
    },
    {
     "name": "stderr",
     "output_type": "stream",
     "text": [
      "100%|██████████| 3776/3776 [01:45<00:00, 35.90it/s]\n"
     ]
    },
    {
     "name": "stdout",
     "output_type": "stream",
     "text": [
      "Learning rate: 0.01\n",
      "Beta 1: 0.8\n",
      "Beta 2: 0.925\n",
      "Weight decay: 0\n",
      "Accuracy: 10.27299730565138\n"
     ]
    },
    {
     "name": "stderr",
     "output_type": "stream",
     "text": [
      "100%|██████████| 3776/3776 [01:57<00:00, 32.13it/s]\n"
     ]
    },
    {
     "name": "stdout",
     "output_type": "stream",
     "text": [
      "Learning rate: 0.01\n",
      "Beta 1: 0.8\n",
      "Beta 2: 0.925\n",
      "Weight decay: 0.01\n",
      "Accuracy: 10.233188388453927\n"
     ]
    },
    {
     "name": "stderr",
     "output_type": "stream",
     "text": [
      "100%|██████████| 3776/3776 [01:53<00:00, 33.21it/s]\n"
     ]
    },
    {
     "name": "stdout",
     "output_type": "stream",
     "text": [
      "Learning rate: 0.01\n",
      "Beta 1: 0.8\n",
      "Beta 2: 0.925\n",
      "Weight decay: 0.001\n",
      "Accuracy: 9.77768250939193\n"
     ]
    },
    {
     "name": "stderr",
     "output_type": "stream",
     "text": [
      "100%|██████████| 3776/3776 [01:54<00:00, 32.99it/s]\n"
     ]
    },
    {
     "name": "stdout",
     "output_type": "stream",
     "text": [
      "Learning rate: 0.01\n",
      "Beta 1: 0.8\n",
      "Beta 2: 0.925\n",
      "Weight decay: 0.0001\n",
      "Accuracy: 10.054048261065391\n"
     ]
    },
    {
     "name": "stderr",
     "output_type": "stream",
     "text": [
      "100%|██████████| 3776/3776 [01:43<00:00, 36.54it/s]\n"
     ]
    },
    {
     "name": "stdout",
     "output_type": "stream",
     "text": [
      "Learning rate: 0.01\n",
      "Beta 1: 0.8\n",
      "Beta 2: 0.95\n",
      "Weight decay: 0\n",
      "Accuracy: 11.298076923485775\n"
     ]
    },
    {
     "name": "stderr",
     "output_type": "stream",
     "text": [
      "100%|██████████| 3776/3776 [01:52<00:00, 33.43it/s]\n"
     ]
    },
    {
     "name": "stdout",
     "output_type": "stream",
     "text": [
      "Learning rate: 0.01\n",
      "Beta 1: 0.8\n",
      "Beta 2: 0.95\n",
      "Weight decay: 0.01\n",
      "Accuracy: 10.253092847052653\n"
     ]
    },
    {
     "name": "stderr",
     "output_type": "stream",
     "text": [
      "100%|██████████| 3776/3776 [01:52<00:00, 33.47it/s]\n"
     ]
    },
    {
     "name": "stdout",
     "output_type": "stream",
     "text": [
      "Learning rate: 0.01\n",
      "Beta 1: 0.8\n",
      "Beta 2: 0.95\n",
      "Weight decay: 0.001\n",
      "Accuracy: 11.298076923485775\n"
     ]
    },
    {
     "name": "stderr",
     "output_type": "stream",
     "text": [
      "100%|██████████| 3776/3776 [01:52<00:00, 33.54it/s]\n"
     ]
    },
    {
     "name": "stdout",
     "output_type": "stream",
     "text": [
      "Learning rate: 0.01\n",
      "Beta 1: 0.8\n",
      "Beta 2: 0.95\n",
      "Weight decay: 0.0001\n",
      "Accuracy: 11.298076923485775\n"
     ]
    },
    {
     "name": "stderr",
     "output_type": "stream",
     "text": [
      "100%|██████████| 3776/3776 [01:42<00:00, 36.90it/s]\n"
     ]
    },
    {
     "name": "stdout",
     "output_type": "stream",
     "text": [
      "Learning rate: 0.01\n",
      "Beta 1: 0.8\n",
      "Beta 2: 0.99\n",
      "Weight decay: 0\n",
      "Accuracy: 10.233188388453927\n"
     ]
    },
    {
     "name": "stderr",
     "output_type": "stream",
     "text": [
      "100%|██████████| 3776/3776 [01:52<00:00, 33.64it/s]\n"
     ]
    },
    {
     "name": "stdout",
     "output_type": "stream",
     "text": [
      "Learning rate: 0.01\n",
      "Beta 1: 0.8\n",
      "Beta 2: 0.99\n",
      "Weight decay: 0.01\n",
      "Accuracy: 11.298076923485775\n"
     ]
    },
    {
     "name": "stderr",
     "output_type": "stream",
     "text": [
      "100%|██████████| 3776/3776 [01:52<00:00, 33.62it/s]\n"
     ]
    },
    {
     "name": "stdout",
     "output_type": "stream",
     "text": [
      "Learning rate: 0.01\n",
      "Beta 1: 0.8\n",
      "Beta 2: 0.99\n",
      "Weight decay: 0.001\n",
      "Accuracy: 10.429936305732484\n"
     ]
    },
    {
     "name": "stderr",
     "output_type": "stream",
     "text": [
      "100%|██████████| 3776/3776 [01:52<00:00, 33.61it/s]\n"
     ]
    },
    {
     "name": "stdout",
     "output_type": "stream",
     "text": [
      "Learning rate: 0.01\n",
      "Beta 1: 0.8\n",
      "Beta 2: 0.99\n",
      "Weight decay: 0.0001\n",
      "Accuracy: 9.864955904377494\n"
     ]
    },
    {
     "name": "stderr",
     "output_type": "stream",
     "text": [
      "100%|██████████| 3776/3776 [01:42<00:00, 36.95it/s]\n"
     ]
    },
    {
     "name": "stdout",
     "output_type": "stream",
     "text": [
      "Learning rate: 0.01\n",
      "Beta 1: 0.85\n",
      "Beta 2: 0.9\n",
      "Weight decay: 0\n",
      "Accuracy: 10.233188388453927\n"
     ]
    },
    {
     "name": "stderr",
     "output_type": "stream",
     "text": [
      "100%|██████████| 3776/3776 [01:52<00:00, 33.65it/s]\n"
     ]
    },
    {
     "name": "stdout",
     "output_type": "stream",
     "text": [
      "Learning rate: 0.01\n",
      "Beta 1: 0.85\n",
      "Beta 2: 0.9\n",
      "Weight decay: 0.01\n",
      "Accuracy: 10.153570554059023\n"
     ]
    },
    {
     "name": "stderr",
     "output_type": "stream",
     "text": [
      "100%|██████████| 3776/3776 [01:55<00:00, 32.67it/s]\n"
     ]
    },
    {
     "name": "stdout",
     "output_type": "stream",
     "text": [
      "Learning rate: 0.01\n",
      "Beta 1: 0.85\n",
      "Beta 2: 0.9\n",
      "Weight decay: 0.001\n",
      "Accuracy: 11.298076923485775\n"
     ]
    },
    {
     "name": "stderr",
     "output_type": "stream",
     "text": [
      "100%|██████████| 3776/3776 [01:56<00:00, 32.40it/s]\n"
     ]
    },
    {
     "name": "stdout",
     "output_type": "stream",
     "text": [
      "Learning rate: 0.01\n",
      "Beta 1: 0.85\n",
      "Beta 2: 0.9\n",
      "Weight decay: 0.0001\n",
      "Accuracy: 9.538829006207218\n"
     ]
    },
    {
     "name": "stderr",
     "output_type": "stream",
     "text": [
      "100%|██████████| 3776/3776 [01:44<00:00, 36.09it/s]\n"
     ]
    },
    {
     "name": "stdout",
     "output_type": "stream",
     "text": [
      "Learning rate: 0.01\n",
      "Beta 1: 0.85\n",
      "Beta 2: 0.925\n",
      "Weight decay: 0\n",
      "Accuracy: 11.298076923485775\n"
     ]
    },
    {
     "name": "stderr",
     "output_type": "stream",
     "text": [
      "100%|██████████| 3776/3776 [01:55<00:00, 32.75it/s]\n"
     ]
    },
    {
     "name": "stdout",
     "output_type": "stream",
     "text": [
      "Learning rate: 0.01\n",
      "Beta 1: 0.85\n",
      "Beta 2: 0.925\n",
      "Weight decay: 0.01\n",
      "Accuracy: 10.054048261065391\n"
     ]
    },
    {
     "name": "stderr",
     "output_type": "stream",
     "text": [
      "100%|██████████| 3776/3776 [01:55<00:00, 32.61it/s]\n"
     ]
    },
    {
     "name": "stdout",
     "output_type": "stream",
     "text": [
      "Learning rate: 0.01\n",
      "Beta 1: 0.85\n",
      "Beta 2: 0.925\n",
      "Weight decay: 0.001\n",
      "Accuracy: 10.233188388453927\n"
     ]
    },
    {
     "name": "stderr",
     "output_type": "stream",
     "text": [
      "100%|██████████| 3776/3776 [01:53<00:00, 33.41it/s]\n"
     ]
    },
    {
     "name": "stdout",
     "output_type": "stream",
     "text": [
      "Learning rate: 0.01\n",
      "Beta 1: 0.85\n",
      "Beta 2: 0.925\n",
      "Weight decay: 0.0001\n",
      "Accuracy: 10.066297159073459\n"
     ]
    },
    {
     "name": "stderr",
     "output_type": "stream",
     "text": [
      "100%|██████████| 3776/3776 [01:47<00:00, 35.18it/s]\n"
     ]
    },
    {
     "name": "stdout",
     "output_type": "stream",
     "text": [
      "Learning rate: 0.01\n",
      "Beta 1: 0.85\n",
      "Beta 2: 0.95\n",
      "Weight decay: 0\n",
      "Accuracy: 11.298076923485775\n"
     ]
    },
    {
     "name": "stderr",
     "output_type": "stream",
     "text": [
      "100%|██████████| 3776/3776 [01:59<00:00, 31.63it/s]\n"
     ]
    },
    {
     "name": "stdout",
     "output_type": "stream",
     "text": [
      "Learning rate: 0.01\n",
      "Beta 1: 0.85\n",
      "Beta 2: 0.95\n",
      "Weight decay: 0.01\n",
      "Accuracy: 10.633574229137153\n"
     ]
    },
    {
     "name": "stderr",
     "output_type": "stream",
     "text": [
      "100%|██████████| 3776/3776 [01:58<00:00, 31.97it/s]\n"
     ]
    },
    {
     "name": "stdout",
     "output_type": "stream",
     "text": [
      "Learning rate: 0.01\n",
      "Beta 1: 0.85\n",
      "Beta 2: 0.95\n",
      "Weight decay: 0.001\n",
      "Accuracy: 11.298076923485775\n"
     ]
    },
    {
     "name": "stderr",
     "output_type": "stream",
     "text": [
      "100%|██████████| 3776/3776 [01:58<00:00, 31.91it/s]\n"
     ]
    },
    {
     "name": "stdout",
     "output_type": "stream",
     "text": [
      "Learning rate: 0.01\n",
      "Beta 1: 0.85\n",
      "Beta 2: 0.95\n",
      "Weight decay: 0.0001\n",
      "Accuracy: 11.298076923485775\n"
     ]
    },
    {
     "name": "stderr",
     "output_type": "stream",
     "text": [
      "100%|██████████| 3776/3776 [01:49<00:00, 34.52it/s]\n"
     ]
    },
    {
     "name": "stdout",
     "output_type": "stream",
     "text": [
      "Learning rate: 0.01\n",
      "Beta 1: 0.85\n",
      "Beta 2: 0.99\n",
      "Weight decay: 0\n",
      "Accuracy: 11.298076923485775\n"
     ]
    },
    {
     "name": "stderr",
     "output_type": "stream",
     "text": [
      "100%|██████████| 3776/3776 [01:57<00:00, 32.13it/s]\n"
     ]
    },
    {
     "name": "stdout",
     "output_type": "stream",
     "text": [
      "Learning rate: 0.01\n",
      "Beta 1: 0.85\n",
      "Beta 2: 0.99\n",
      "Weight decay: 0.01\n",
      "Accuracy: 10.263045076352016\n"
     ]
    },
    {
     "name": "stderr",
     "output_type": "stream",
     "text": [
      "100%|██████████| 3776/3776 [01:53<00:00, 33.17it/s]\n"
     ]
    },
    {
     "name": "stdout",
     "output_type": "stream",
     "text": [
      "Learning rate: 0.01\n",
      "Beta 1: 0.85\n",
      "Beta 2: 0.99\n",
      "Weight decay: 0.001\n",
      "Accuracy: 28.338590152704032\n"
     ]
    },
    {
     "name": "stderr",
     "output_type": "stream",
     "text": [
      "100%|██████████| 3776/3776 [01:54<00:00, 33.07it/s]\n"
     ]
    },
    {
     "name": "stdout",
     "output_type": "stream",
     "text": [
      "Learning rate: 0.01\n",
      "Beta 1: 0.85\n",
      "Beta 2: 0.99\n",
      "Weight decay: 0.0001\n",
      "Accuracy: 10.253092847052653\n"
     ]
    },
    {
     "name": "stderr",
     "output_type": "stream",
     "text": [
      "100%|██████████| 3776/3776 [01:43<00:00, 36.52it/s]\n"
     ]
    },
    {
     "name": "stdout",
     "output_type": "stream",
     "text": [
      "Learning rate: 0.01\n",
      "Beta 1: 0.9\n",
      "Beta 2: 0.9\n",
      "Weight decay: 0\n",
      "Accuracy: 10.04409603176603\n"
     ]
    },
    {
     "name": "stderr",
     "output_type": "stream",
     "text": [
      "100%|██████████| 3776/3776 [01:54<00:00, 33.11it/s]\n"
     ]
    },
    {
     "name": "stdout",
     "output_type": "stream",
     "text": [
      "Learning rate: 0.01\n",
      "Beta 1: 0.9\n",
      "Beta 2: 0.9\n",
      "Weight decay: 0.01\n",
      "Accuracy: 9.695768006288322\n"
     ]
    },
    {
     "name": "stderr",
     "output_type": "stream",
     "text": [
      "100%|██████████| 3776/3776 [01:54<00:00, 32.98it/s]\n"
     ]
    },
    {
     "name": "stdout",
     "output_type": "stream",
     "text": [
      "Learning rate: 0.01\n",
      "Beta 1: 0.9\n",
      "Beta 2: 0.9\n",
      "Weight decay: 0.001\n",
      "Accuracy: 9.887157031684923\n"
     ]
    },
    {
     "name": "stderr",
     "output_type": "stream",
     "text": [
      "100%|██████████| 3776/3776 [01:53<00:00, 33.26it/s]\n"
     ]
    },
    {
     "name": "stdout",
     "output_type": "stream",
     "text": [
      "Learning rate: 0.01\n",
      "Beta 1: 0.9\n",
      "Beta 2: 0.9\n",
      "Weight decay: 0.0001\n",
      "Accuracy: 24.347746203659447\n"
     ]
    },
    {
     "name": "stderr",
     "output_type": "stream",
     "text": [
      "100%|██████████| 3776/3776 [01:43<00:00, 36.54it/s]\n"
     ]
    },
    {
     "name": "stdout",
     "output_type": "stream",
     "text": [
      "Learning rate: 0.01\n",
      "Beta 1: 0.9\n",
      "Beta 2: 0.925\n",
      "Weight decay: 0\n",
      "Accuracy: 11.298076923485775\n"
     ]
    },
    {
     "name": "stderr",
     "output_type": "stream",
     "text": [
      "100%|██████████| 3776/3776 [01:55<00:00, 32.60it/s]\n"
     ]
    },
    {
     "name": "stdout",
     "output_type": "stream",
     "text": [
      "Learning rate: 0.01\n",
      "Beta 1: 0.9\n",
      "Beta 2: 0.925\n",
      "Weight decay: 0.01\n",
      "Accuracy: 10.27299730565138\n"
     ]
    },
    {
     "name": "stderr",
     "output_type": "stream",
     "text": [
      "100%|██████████| 3776/3776 [01:54<00:00, 33.04it/s]\n"
     ]
    },
    {
     "name": "stdout",
     "output_type": "stream",
     "text": [
      "Learning rate: 0.01\n",
      "Beta 1: 0.9\n",
      "Beta 2: 0.925\n",
      "Weight decay: 0.001\n",
      "Accuracy: 10.27299730565138\n"
     ]
    },
    {
     "name": "stderr",
     "output_type": "stream",
     "text": [
      "100%|██████████| 3776/3776 [01:54<00:00, 33.10it/s]\n"
     ]
    },
    {
     "name": "stdout",
     "output_type": "stream",
     "text": [
      "Learning rate: 0.01\n",
      "Beta 1: 0.9\n",
      "Beta 2: 0.925\n",
      "Weight decay: 0.0001\n",
      "Accuracy: 11.298076923485775\n"
     ]
    },
    {
     "name": "stderr",
     "output_type": "stream",
     "text": [
      "100%|██████████| 3776/3776 [01:44<00:00, 36.29it/s]\n"
     ]
    },
    {
     "name": "stdout",
     "output_type": "stream",
     "text": [
      "Learning rate: 0.01\n",
      "Beta 1: 0.9\n",
      "Beta 2: 0.95\n",
      "Weight decay: 0\n",
      "Accuracy: 11.298076923485775\n"
     ]
    },
    {
     "name": "stderr",
     "output_type": "stream",
     "text": [
      "100%|██████████| 3776/3776 [01:54<00:00, 32.98it/s]\n"
     ]
    },
    {
     "name": "stdout",
     "output_type": "stream",
     "text": [
      "Learning rate: 0.01\n",
      "Beta 1: 0.9\n",
      "Beta 2: 0.95\n",
      "Weight decay: 0.01\n",
      "Accuracy: 8.941695248245434\n"
     ]
    },
    {
     "name": "stderr",
     "output_type": "stream",
     "text": [
      "100%|██████████| 3776/3776 [01:54<00:00, 32.97it/s]\n"
     ]
    },
    {
     "name": "stdout",
     "output_type": "stream",
     "text": [
      "Learning rate: 0.01\n",
      "Beta 1: 0.9\n",
      "Beta 2: 0.95\n",
      "Weight decay: 0.001\n",
      "Accuracy: 10.233188388453927\n"
     ]
    },
    {
     "name": "stderr",
     "output_type": "stream",
     "text": [
      "100%|██████████| 3776/3776 [01:53<00:00, 33.30it/s]\n"
     ]
    },
    {
     "name": "stdout",
     "output_type": "stream",
     "text": [
      "Learning rate: 0.01\n",
      "Beta 1: 0.9\n",
      "Beta 2: 0.95\n",
      "Weight decay: 0.0001\n",
      "Accuracy: 71.32839295211112\n"
     ]
    },
    {
     "name": "stderr",
     "output_type": "stream",
     "text": [
      "100%|██████████| 3776/3776 [01:42<00:00, 36.87it/s]\n"
     ]
    },
    {
     "name": "stdout",
     "output_type": "stream",
     "text": [
      "Learning rate: 0.01\n",
      "Beta 1: 0.9\n",
      "Beta 2: 0.99\n",
      "Weight decay: 0\n",
      "Accuracy: 11.298076923485775\n"
     ]
    },
    {
     "name": "stderr",
     "output_type": "stream",
     "text": [
      "100%|██████████| 3776/3776 [01:53<00:00, 33.34it/s]\n"
     ]
    },
    {
     "name": "stdout",
     "output_type": "stream",
     "text": [
      "Learning rate: 0.01\n",
      "Beta 1: 0.9\n",
      "Beta 2: 0.99\n",
      "Weight decay: 0.01\n",
      "Accuracy: 10.312806222848831\n"
     ]
    },
    {
     "name": "stderr",
     "output_type": "stream",
     "text": [
      "100%|██████████| 3776/3776 [01:55<00:00, 32.76it/s]\n"
     ]
    },
    {
     "name": "stdout",
     "output_type": "stream",
     "text": [
      "Learning rate: 0.01\n",
      "Beta 1: 0.9\n",
      "Beta 2: 0.99\n",
      "Weight decay: 0.001\n",
      "Accuracy: 9.85500367507813\n"
     ]
    },
    {
     "name": "stderr",
     "output_type": "stream",
     "text": [
      "100%|██████████| 3776/3776 [01:56<00:00, 32.51it/s]\n"
     ]
    },
    {
     "name": "stdout",
     "output_type": "stream",
     "text": [
      "Learning rate: 0.01\n",
      "Beta 1: 0.9\n",
      "Beta 2: 0.99\n",
      "Weight decay: 0.0001\n",
      "Accuracy: 10.755297651716099\n"
     ]
    },
    {
     "name": "stderr",
     "output_type": "stream",
     "text": [
      "100%|██████████| 3776/3776 [01:44<00:00, 36.07it/s]\n"
     ]
    },
    {
     "name": "stdout",
     "output_type": "stream",
     "text": [
      "Learning rate: 0.01\n",
      "Beta 1: 0.95\n",
      "Beta 2: 0.9\n",
      "Weight decay: 0\n",
      "Accuracy: 10.153570554059023\n"
     ]
    },
    {
     "name": "stderr",
     "output_type": "stream",
     "text": [
      "100%|██████████| 3776/3776 [01:55<00:00, 32.78it/s]\n"
     ]
    },
    {
     "name": "stdout",
     "output_type": "stream",
     "text": [
      "Learning rate: 0.01\n",
      "Beta 1: 0.95\n",
      "Beta 2: 0.9\n",
      "Weight decay: 0.01\n",
      "Accuracy: 77.00805366418923\n"
     ]
    },
    {
     "name": "stderr",
     "output_type": "stream",
     "text": [
      "100%|██████████| 3776/3776 [01:54<00:00, 33.03it/s]\n"
     ]
    },
    {
     "name": "stdout",
     "output_type": "stream",
     "text": [
      "Learning rate: 0.01\n",
      "Beta 1: 0.95\n",
      "Beta 2: 0.9\n",
      "Weight decay: 0.001\n",
      "Accuracy: 40.489496577317546\n"
     ]
    },
    {
     "name": "stderr",
     "output_type": "stream",
     "text": [
      "100%|██████████| 3776/3776 [01:54<00:00, 32.96it/s]\n"
     ]
    },
    {
     "name": "stdout",
     "output_type": "stream",
     "text": [
      "Learning rate: 0.01\n",
      "Beta 1: 0.95\n",
      "Beta 2: 0.9\n",
      "Weight decay: 0.0001\n",
      "Accuracy: 30.935356449929014\n"
     ]
    },
    {
     "name": "stderr",
     "output_type": "stream",
     "text": [
      "100%|██████████| 3776/3776 [01:43<00:00, 36.50it/s]\n"
     ]
    },
    {
     "name": "stdout",
     "output_type": "stream",
     "text": [
      "Learning rate: 0.01\n",
      "Beta 1: 0.95\n",
      "Beta 2: 0.925\n",
      "Weight decay: 0\n",
      "Accuracy: 10.233188388453927\n"
     ]
    },
    {
     "name": "stderr",
     "output_type": "stream",
     "text": [
      "100%|██████████| 3776/3776 [01:54<00:00, 33.09it/s]\n"
     ]
    },
    {
     "name": "stdout",
     "output_type": "stream",
     "text": [
      "Learning rate: 0.01\n",
      "Beta 1: 0.95\n",
      "Beta 2: 0.925\n",
      "Weight decay: 0.01\n",
      "Accuracy: 64.0112077445741\n"
     ]
    },
    {
     "name": "stderr",
     "output_type": "stream",
     "text": [
      "100%|██████████| 3776/3776 [01:54<00:00, 32.84it/s]\n"
     ]
    },
    {
     "name": "stdout",
     "output_type": "stream",
     "text": [
      "Learning rate: 0.01\n",
      "Beta 1: 0.95\n",
      "Beta 2: 0.925\n",
      "Weight decay: 0.001\n",
      "Accuracy: 51.88250245258307\n"
     ]
    },
    {
     "name": "stderr",
     "output_type": "stream",
     "text": [
      "100%|██████████| 3776/3776 [01:54<00:00, 32.95it/s]\n"
     ]
    },
    {
     "name": "stdout",
     "output_type": "stream",
     "text": [
      "Learning rate: 0.01\n",
      "Beta 1: 0.95\n",
      "Beta 2: 0.925\n",
      "Weight decay: 0.0001\n",
      "Accuracy: 55.22338927323651\n"
     ]
    },
    {
     "name": "stderr",
     "output_type": "stream",
     "text": [
      "100%|██████████| 3776/3776 [01:45<00:00, 35.78it/s]\n"
     ]
    },
    {
     "name": "stdout",
     "output_type": "stream",
     "text": [
      "Learning rate: 0.01\n",
      "Beta 1: 0.95\n",
      "Beta 2: 0.95\n",
      "Weight decay: 0\n",
      "Accuracy: 11.298076923485775\n"
     ]
    },
    {
     "name": "stderr",
     "output_type": "stream",
     "text": [
      "100%|██████████| 3776/3776 [01:52<00:00, 33.47it/s]\n"
     ]
    },
    {
     "name": "stdout",
     "output_type": "stream",
     "text": [
      "Learning rate: 0.01\n",
      "Beta 1: 0.95\n",
      "Beta 2: 0.95\n",
      "Weight decay: 0.01\n",
      "Accuracy: 9.695768006288322\n"
     ]
    },
    {
     "name": "stderr",
     "output_type": "stream",
     "text": [
      "100%|██████████| 3776/3776 [01:53<00:00, 33.21it/s]\n"
     ]
    },
    {
     "name": "stdout",
     "output_type": "stream",
     "text": [
      "Learning rate: 0.01\n",
      "Beta 1: 0.95\n",
      "Beta 2: 0.95\n",
      "Weight decay: 0.001\n",
      "Accuracy: 52.008819209542246\n"
     ]
    },
    {
     "name": "stderr",
     "output_type": "stream",
     "text": [
      "100%|██████████| 3776/3776 [01:54<00:00, 32.98it/s]\n"
     ]
    },
    {
     "name": "stdout",
     "output_type": "stream",
     "text": [
      "Learning rate: 0.01\n",
      "Beta 1: 0.95\n",
      "Beta 2: 0.95\n",
      "Weight decay: 0.0001\n",
      "Accuracy: 58.13939245794989\n"
     ]
    },
    {
     "name": "stderr",
     "output_type": "stream",
     "text": [
      "100%|██████████| 3776/3776 [01:45<00:00, 35.96it/s]\n"
     ]
    },
    {
     "name": "stdout",
     "output_type": "stream",
     "text": [
      "Learning rate: 0.01\n",
      "Beta 1: 0.95\n",
      "Beta 2: 0.99\n",
      "Weight decay: 0\n",
      "Accuracy: 11.298076923485775\n"
     ]
    },
    {
     "name": "stderr",
     "output_type": "stream",
     "text": [
      "100%|██████████| 3776/3776 [01:55<00:00, 32.79it/s]\n"
     ]
    },
    {
     "name": "stdout",
     "output_type": "stream",
     "text": [
      "Learning rate: 0.01\n",
      "Beta 1: 0.95\n",
      "Beta 2: 0.99\n",
      "Weight decay: 0.01\n",
      "Accuracy: 10.223236159154563\n"
     ]
    },
    {
     "name": "stderr",
     "output_type": "stream",
     "text": [
      "100%|██████████| 3776/3776 [01:54<00:00, 33.05it/s]\n"
     ]
    },
    {
     "name": "stdout",
     "output_type": "stream",
     "text": [
      "Learning rate: 0.01\n",
      "Beta 1: 0.95\n",
      "Beta 2: 0.99\n",
      "Weight decay: 0.001\n",
      "Accuracy: 10.454434101748618\n"
     ]
    },
    {
     "name": "stderr",
     "output_type": "stream",
     "text": [
      "100%|██████████| 3776/3776 [01:53<00:00, 33.14it/s]\n"
     ]
    },
    {
     "name": "stdout",
     "output_type": "stream",
     "text": [
      "Learning rate: 0.01\n",
      "Beta 1: 0.95\n",
      "Beta 2: 0.99\n",
      "Weight decay: 0.0001\n",
      "Accuracy: 30.32138045426387\n"
     ]
    },
    {
     "name": "stderr",
     "output_type": "stream",
     "text": [
      "100%|██████████| 3776/3776 [01:44<00:00, 36.26it/s]\n"
     ]
    },
    {
     "name": "stdout",
     "output_type": "stream",
     "text": [
      "Learning rate: 0.001\n",
      "Beta 1: 0.8\n",
      "Beta 2: 0.9\n",
      "Weight decay: 0\n",
      "Accuracy: 95.59116242038216\n"
     ]
    },
    {
     "name": "stderr",
     "output_type": "stream",
     "text": [
      "100%|██████████| 3776/3776 [01:55<00:00, 32.73it/s]\n"
     ]
    },
    {
     "name": "stdout",
     "output_type": "stream",
     "text": [
      "Learning rate: 0.001\n",
      "Beta 1: 0.8\n",
      "Beta 2: 0.9\n",
      "Weight decay: 0.01\n",
      "Accuracy: 11.298076923485775\n"
     ]
    },
    {
     "name": "stderr",
     "output_type": "stream",
     "text": [
      "100%|██████████| 3776/3776 [01:54<00:00, 33.10it/s]\n"
     ]
    },
    {
     "name": "stdout",
     "output_type": "stream",
     "text": [
      "Learning rate: 0.001\n",
      "Beta 1: 0.8\n",
      "Beta 2: 0.9\n",
      "Weight decay: 0.001\n",
      "Accuracy: 94.34483710367968\n"
     ]
    },
    {
     "name": "stderr",
     "output_type": "stream",
     "text": [
      "100%|██████████| 3776/3776 [01:52<00:00, 33.42it/s]\n"
     ]
    },
    {
     "name": "stdout",
     "output_type": "stream",
     "text": [
      "Learning rate: 0.001\n",
      "Beta 1: 0.8\n",
      "Beta 2: 0.9\n",
      "Weight decay: 0.0001\n",
      "Accuracy: 95.92953821656052\n"
     ]
    },
    {
     "name": "stderr",
     "output_type": "stream",
     "text": [
      "100%|██████████| 3776/3776 [01:42<00:00, 36.81it/s]\n"
     ]
    },
    {
     "name": "stdout",
     "output_type": "stream",
     "text": [
      "Learning rate: 0.001\n",
      "Beta 1: 0.8\n",
      "Beta 2: 0.925\n",
      "Weight decay: 0\n",
      "Accuracy: 88.63991303656512\n"
     ]
    },
    {
     "name": "stderr",
     "output_type": "stream",
     "text": [
      "100%|██████████| 3776/3776 [01:52<00:00, 33.46it/s]\n"
     ]
    },
    {
     "name": "stdout",
     "output_type": "stream",
     "text": [
      "Learning rate: 0.001\n",
      "Beta 1: 0.8\n",
      "Beta 2: 0.925\n",
      "Weight decay: 0.01\n",
      "Accuracy: 9.695768006288322\n"
     ]
    },
    {
     "name": "stderr",
     "output_type": "stream",
     "text": [
      "100%|██████████| 3776/3776 [01:52<00:00, 33.62it/s]\n"
     ]
    },
    {
     "name": "stdout",
     "output_type": "stream",
     "text": [
      "Learning rate: 0.001\n",
      "Beta 1: 0.8\n",
      "Beta 2: 0.925\n",
      "Weight decay: 0.001\n",
      "Accuracy: 97.08399681528662\n"
     ]
    },
    {
     "name": "stderr",
     "output_type": "stream",
     "text": [
      "100%|██████████| 3776/3776 [01:55<00:00, 32.61it/s]\n"
     ]
    },
    {
     "name": "stdout",
     "output_type": "stream",
     "text": [
      "Learning rate: 0.001\n",
      "Beta 1: 0.8\n",
      "Beta 2: 0.925\n",
      "Weight decay: 0.0001\n",
      "Accuracy: 94.32722929936305\n"
     ]
    },
    {
     "name": "stderr",
     "output_type": "stream",
     "text": [
      "100%|██████████| 3776/3776 [01:45<00:00, 35.64it/s]\n"
     ]
    },
    {
     "name": "stdout",
     "output_type": "stream",
     "text": [
      "Learning rate: 0.001\n",
      "Beta 1: 0.8\n",
      "Beta 2: 0.95\n",
      "Weight decay: 0\n",
      "Accuracy: 95.81776703998541\n"
     ]
    },
    {
     "name": "stderr",
     "output_type": "stream",
     "text": [
      "100%|██████████| 3776/3776 [01:54<00:00, 32.91it/s]\n"
     ]
    },
    {
     "name": "stdout",
     "output_type": "stream",
     "text": [
      "Learning rate: 0.001\n",
      "Beta 1: 0.8\n",
      "Beta 2: 0.95\n",
      "Weight decay: 0.01\n",
      "Accuracy: 11.298076923485775\n"
     ]
    },
    {
     "name": "stderr",
     "output_type": "stream",
     "text": [
      "100%|██████████| 3776/3776 [01:55<00:00, 32.55it/s]\n"
     ]
    },
    {
     "name": "stdout",
     "output_type": "stream",
     "text": [
      "Learning rate: 0.001\n",
      "Beta 1: 0.8\n",
      "Beta 2: 0.95\n",
      "Weight decay: 0.001\n",
      "Accuracy: 97.30294585987261\n"
     ]
    },
    {
     "name": "stderr",
     "output_type": "stream",
     "text": [
      "100%|██████████| 3776/3776 [01:54<00:00, 32.93it/s]\n"
     ]
    },
    {
     "name": "stdout",
     "output_type": "stream",
     "text": [
      "Learning rate: 0.001\n",
      "Beta 1: 0.8\n",
      "Beta 2: 0.95\n",
      "Weight decay: 0.0001\n",
      "Accuracy: 94.50636942675159\n"
     ]
    },
    {
     "name": "stderr",
     "output_type": "stream",
     "text": [
      "100%|██████████| 3776/3776 [01:42<00:00, 36.75it/s]\n"
     ]
    },
    {
     "name": "stdout",
     "output_type": "stream",
     "text": [
      "Learning rate: 0.001\n",
      "Beta 1: 0.8\n",
      "Beta 2: 0.99\n",
      "Weight decay: 0\n",
      "Accuracy: 90.85926017032307\n"
     ]
    },
    {
     "name": "stderr",
     "output_type": "stream",
     "text": [
      "100%|██████████| 3776/3776 [01:52<00:00, 33.66it/s]\n"
     ]
    },
    {
     "name": "stdout",
     "output_type": "stream",
     "text": [
      "Learning rate: 0.001\n",
      "Beta 1: 0.8\n",
      "Beta 2: 0.99\n",
      "Weight decay: 0.01\n",
      "Accuracy: 11.298076923485775\n"
     ]
    },
    {
     "name": "stderr",
     "output_type": "stream",
     "text": [
      "100%|██████████| 3776/3776 [01:52<00:00, 33.46it/s]\n"
     ]
    },
    {
     "name": "stdout",
     "output_type": "stream",
     "text": [
      "Learning rate: 0.001\n",
      "Beta 1: 0.8\n",
      "Beta 2: 0.99\n",
      "Weight decay: 0.001\n",
      "Accuracy: 97.73089171974522\n"
     ]
    },
    {
     "name": "stderr",
     "output_type": "stream",
     "text": [
      "100%|██████████| 3776/3776 [01:54<00:00, 32.96it/s]\n"
     ]
    },
    {
     "name": "stdout",
     "output_type": "stream",
     "text": [
      "Learning rate: 0.001\n",
      "Beta 1: 0.8\n",
      "Beta 2: 0.99\n",
      "Weight decay: 0.0001\n",
      "Accuracy: 97.0342356687898\n"
     ]
    },
    {
     "name": "stderr",
     "output_type": "stream",
     "text": [
      "100%|██████████| 3776/3776 [01:44<00:00, 36.12it/s]\n"
     ]
    },
    {
     "name": "stdout",
     "output_type": "stream",
     "text": [
      "Learning rate: 0.001\n",
      "Beta 1: 0.85\n",
      "Beta 2: 0.9\n",
      "Weight decay: 0\n",
      "Accuracy: 92.93391719745223\n"
     ]
    },
    {
     "name": "stderr",
     "output_type": "stream",
     "text": [
      "100%|██████████| 3776/3776 [01:54<00:00, 32.95it/s]\n"
     ]
    },
    {
     "name": "stdout",
     "output_type": "stream",
     "text": [
      "Learning rate: 0.001\n",
      "Beta 1: 0.85\n",
      "Beta 2: 0.9\n",
      "Weight decay: 0.01\n",
      "Accuracy: 9.695768006288322\n"
     ]
    },
    {
     "name": "stderr",
     "output_type": "stream",
     "text": [
      "100%|██████████| 3776/3776 [01:55<00:00, 32.81it/s]\n"
     ]
    },
    {
     "name": "stdout",
     "output_type": "stream",
     "text": [
      "Learning rate: 0.001\n",
      "Beta 1: 0.85\n",
      "Beta 2: 0.9\n",
      "Weight decay: 0.001\n",
      "Accuracy: 96.35748407643312\n"
     ]
    },
    {
     "name": "stderr",
     "output_type": "stream",
     "text": [
      "100%|██████████| 3776/3776 [01:53<00:00, 33.20it/s]\n"
     ]
    },
    {
     "name": "stdout",
     "output_type": "stream",
     "text": [
      "Learning rate: 0.001\n",
      "Beta 1: 0.85\n",
      "Beta 2: 0.9\n",
      "Weight decay: 0.0001\n",
      "Accuracy: 94.80493630573248\n"
     ]
    },
    {
     "name": "stderr",
     "output_type": "stream",
     "text": [
      "100%|██████████| 3776/3776 [01:44<00:00, 36.15it/s]\n"
     ]
    },
    {
     "name": "stdout",
     "output_type": "stream",
     "text": [
      "Learning rate: 0.001\n",
      "Beta 1: 0.85\n",
      "Beta 2: 0.925\n",
      "Weight decay: 0\n",
      "Accuracy: 87.09731749516384\n"
     ]
    },
    {
     "name": "stderr",
     "output_type": "stream",
     "text": [
      "100%|██████████| 3776/3776 [01:55<00:00, 32.65it/s]\n"
     ]
    },
    {
     "name": "stdout",
     "output_type": "stream",
     "text": [
      "Learning rate: 0.001\n",
      "Beta 1: 0.85\n",
      "Beta 2: 0.925\n",
      "Weight decay: 0.01\n",
      "Accuracy: 11.298076923485775\n"
     ]
    },
    {
     "name": "stderr",
     "output_type": "stream",
     "text": [
      "100%|██████████| 3776/3776 [01:53<00:00, 33.20it/s]\n"
     ]
    },
    {
     "name": "stdout",
     "output_type": "stream",
     "text": [
      "Learning rate: 0.001\n",
      "Beta 1: 0.85\n",
      "Beta 2: 0.925\n",
      "Weight decay: 0.001\n",
      "Accuracy: 95.44187898089172\n"
     ]
    },
    {
     "name": "stderr",
     "output_type": "stream",
     "text": [
      "100%|██████████| 3776/3776 [01:54<00:00, 32.99it/s]\n"
     ]
    },
    {
     "name": "stdout",
     "output_type": "stream",
     "text": [
      "Learning rate: 0.001\n",
      "Beta 1: 0.85\n",
      "Beta 2: 0.925\n",
      "Weight decay: 0.0001\n",
      "Accuracy: 96.28781847133757\n"
     ]
    },
    {
     "name": "stderr",
     "output_type": "stream",
     "text": [
      "100%|██████████| 3776/3776 [01:43<00:00, 36.55it/s]\n"
     ]
    },
    {
     "name": "stdout",
     "output_type": "stream",
     "text": [
      "Learning rate: 0.001\n",
      "Beta 1: 0.85\n",
      "Beta 2: 0.95\n",
      "Weight decay: 0\n",
      "Accuracy: 91.64778296355229\n"
     ]
    },
    {
     "name": "stderr",
     "output_type": "stream",
     "text": [
      "100%|██████████| 3776/3776 [01:52<00:00, 33.61it/s]\n"
     ]
    },
    {
     "name": "stdout",
     "output_type": "stream",
     "text": [
      "Learning rate: 0.001\n",
      "Beta 1: 0.85\n",
      "Beta 2: 0.95\n",
      "Weight decay: 0.01\n",
      "Accuracy: 11.298076923485775\n"
     ]
    },
    {
     "name": "stderr",
     "output_type": "stream",
     "text": [
      "100%|██████████| 3776/3776 [01:52<00:00, 33.61it/s]\n"
     ]
    },
    {
     "name": "stdout",
     "output_type": "stream",
     "text": [
      "Learning rate: 0.001\n",
      "Beta 1: 0.85\n",
      "Beta 2: 0.95\n",
      "Weight decay: 0.001\n",
      "Accuracy: 97.68113057324841\n"
     ]
    },
    {
     "name": "stderr",
     "output_type": "stream",
     "text": [
      "100%|██████████| 3776/3776 [01:52<00:00, 33.52it/s]\n"
     ]
    },
    {
     "name": "stdout",
     "output_type": "stream",
     "text": [
      "Learning rate: 0.001\n",
      "Beta 1: 0.85\n",
      "Beta 2: 0.95\n",
      "Weight decay: 0.0001\n",
      "Accuracy: 95.99920382165605\n"
     ]
    },
    {
     "name": "stderr",
     "output_type": "stream",
     "text": [
      "100%|██████████| 3776/3776 [01:42<00:00, 36.84it/s]\n"
     ]
    },
    {
     "name": "stdout",
     "output_type": "stream",
     "text": [
      "Learning rate: 0.001\n",
      "Beta 1: 0.85\n",
      "Beta 2: 0.99\n",
      "Weight decay: 0\n",
      "Accuracy: 96.4945186323421\n"
     ]
    },
    {
     "name": "stderr",
     "output_type": "stream",
     "text": [
      "100%|██████████| 3776/3776 [01:52<00:00, 33.71it/s]\n"
     ]
    },
    {
     "name": "stdout",
     "output_type": "stream",
     "text": [
      "Learning rate: 0.001\n",
      "Beta 1: 0.85\n",
      "Beta 2: 0.99\n",
      "Weight decay: 0.01\n",
      "Accuracy: 11.298076923485775\n"
     ]
    },
    {
     "name": "stderr",
     "output_type": "stream",
     "text": [
      "100%|██████████| 3776/3776 [01:52<00:00, 33.60it/s]\n"
     ]
    },
    {
     "name": "stdout",
     "output_type": "stream",
     "text": [
      "Learning rate: 0.001\n",
      "Beta 1: 0.85\n",
      "Beta 2: 0.99\n",
      "Weight decay: 0.001\n",
      "Accuracy: 96.6062898089172\n"
     ]
    },
    {
     "name": "stderr",
     "output_type": "stream",
     "text": [
      "100%|██████████| 3776/3776 [01:52<00:00, 33.49it/s]\n"
     ]
    },
    {
     "name": "stdout",
     "output_type": "stream",
     "text": [
      "Learning rate: 0.001\n",
      "Beta 1: 0.85\n",
      "Beta 2: 0.99\n",
      "Weight decay: 0.0001\n",
      "Accuracy: 95.21297770700637\n"
     ]
    },
    {
     "name": "stderr",
     "output_type": "stream",
     "text": [
      "100%|██████████| 3776/3776 [01:42<00:00, 36.88it/s]\n"
     ]
    },
    {
     "name": "stdout",
     "output_type": "stream",
     "text": [
      "Learning rate: 0.001\n",
      "Beta 1: 0.9\n",
      "Beta 2: 0.9\n",
      "Weight decay: 0\n",
      "Accuracy: 92.97372611464968\n"
     ]
    },
    {
     "name": "stderr",
     "output_type": "stream",
     "text": [
      "100%|██████████| 3776/3776 [01:51<00:00, 33.71it/s]\n"
     ]
    },
    {
     "name": "stdout",
     "output_type": "stream",
     "text": [
      "Learning rate: 0.001\n",
      "Beta 1: 0.9\n",
      "Beta 2: 0.9\n",
      "Weight decay: 0.01\n",
      "Accuracy: 10.054048261065391\n"
     ]
    },
    {
     "name": "stderr",
     "output_type": "stream",
     "text": [
      "100%|██████████| 3776/3776 [01:52<00:00, 33.71it/s]\n"
     ]
    },
    {
     "name": "stdout",
     "output_type": "stream",
     "text": [
      "Learning rate: 0.001\n",
      "Beta 1: 0.9\n",
      "Beta 2: 0.9\n",
      "Weight decay: 0.001\n",
      "Accuracy: 95.93949044585987\n"
     ]
    },
    {
     "name": "stderr",
     "output_type": "stream",
     "text": [
      "100%|██████████| 3776/3776 [01:52<00:00, 33.71it/s]\n"
     ]
    },
    {
     "name": "stdout",
     "output_type": "stream",
     "text": [
      "Learning rate: 0.001\n",
      "Beta 1: 0.9\n",
      "Beta 2: 0.9\n",
      "Weight decay: 0.0001\n",
      "Accuracy: 95.40207006369427\n"
     ]
    },
    {
     "name": "stderr",
     "output_type": "stream",
     "text": [
      "100%|██████████| 3776/3776 [01:42<00:00, 36.86it/s]\n"
     ]
    },
    {
     "name": "stdout",
     "output_type": "stream",
     "text": [
      "Learning rate: 0.001\n",
      "Beta 1: 0.9\n",
      "Beta 2: 0.925\n",
      "Weight decay: 0\n",
      "Accuracy: 88.81139761323382\n"
     ]
    },
    {
     "name": "stderr",
     "output_type": "stream",
     "text": [
      "100%|██████████| 3776/3776 [01:53<00:00, 33.40it/s]\n"
     ]
    },
    {
     "name": "stdout",
     "output_type": "stream",
     "text": [
      "Learning rate: 0.001\n",
      "Beta 1: 0.9\n",
      "Beta 2: 0.925\n",
      "Weight decay: 0.01\n",
      "Accuracy: 9.837395885188108\n"
     ]
    },
    {
     "name": "stderr",
     "output_type": "stream",
     "text": [
      "100%|██████████| 3776/3776 [01:54<00:00, 33.11it/s]\n"
     ]
    },
    {
     "name": "stdout",
     "output_type": "stream",
     "text": [
      "Learning rate: 0.001\n",
      "Beta 1: 0.9\n",
      "Beta 2: 0.925\n",
      "Weight decay: 0.001\n",
      "Accuracy: 96.10867834394904\n"
     ]
    },
    {
     "name": "stderr",
     "output_type": "stream",
     "text": [
      "100%|██████████| 3776/3776 [01:53<00:00, 33.35it/s]\n"
     ]
    },
    {
     "name": "stdout",
     "output_type": "stream",
     "text": [
      "Learning rate: 0.001\n",
      "Beta 1: 0.9\n",
      "Beta 2: 0.925\n",
      "Weight decay: 0.0001\n",
      "Accuracy: 96.96457006369427\n"
     ]
    },
    {
     "name": "stderr",
     "output_type": "stream",
     "text": [
      "100%|██████████| 3776/3776 [01:43<00:00, 36.50it/s]\n"
     ]
    },
    {
     "name": "stdout",
     "output_type": "stream",
     "text": [
      "Learning rate: 0.001\n",
      "Beta 1: 0.9\n",
      "Beta 2: 0.95\n",
      "Weight decay: 0\n",
      "Accuracy: 90.70461783439491\n"
     ]
    },
    {
     "name": "stderr",
     "output_type": "stream",
     "text": [
      "100%|██████████| 3776/3776 [01:53<00:00, 33.34it/s]\n"
     ]
    },
    {
     "name": "stdout",
     "output_type": "stream",
     "text": [
      "Learning rate: 0.001\n",
      "Beta 1: 0.9\n",
      "Beta 2: 0.95\n",
      "Weight decay: 0.01\n",
      "Accuracy: 9.964478197371124\n"
     ]
    },
    {
     "name": "stderr",
     "output_type": "stream",
     "text": [
      "100%|██████████| 3776/3776 [01:53<00:00, 33.34it/s]\n"
     ]
    },
    {
     "name": "stdout",
     "output_type": "stream",
     "text": [
      "Learning rate: 0.001\n",
      "Beta 1: 0.9\n",
      "Beta 2: 0.95\n",
      "Weight decay: 0.001\n",
      "Accuracy: 96.94466560509554\n"
     ]
    },
    {
     "name": "stderr",
     "output_type": "stream",
     "text": [
      "100%|██████████| 3776/3776 [01:53<00:00, 33.25it/s]\n"
     ]
    },
    {
     "name": "stdout",
     "output_type": "stream",
     "text": [
      "Learning rate: 0.001\n",
      "Beta 1: 0.9\n",
      "Beta 2: 0.95\n",
      "Weight decay: 0.0001\n",
      "Accuracy: 96.765525477707\n"
     ]
    },
    {
     "name": "stderr",
     "output_type": "stream",
     "text": [
      "100%|██████████| 3776/3776 [01:43<00:00, 36.48it/s]\n"
     ]
    },
    {
     "name": "stdout",
     "output_type": "stream",
     "text": [
      "Learning rate: 0.001\n",
      "Beta 1: 0.9\n",
      "Beta 2: 0.99\n",
      "Weight decay: 0\n",
      "Accuracy: 92.62539808917198\n"
     ]
    },
    {
     "name": "stderr",
     "output_type": "stream",
     "text": [
      "100%|██████████| 3776/3776 [01:54<00:00, 32.99it/s]\n"
     ]
    },
    {
     "name": "stdout",
     "output_type": "stream",
     "text": [
      "Learning rate: 0.001\n",
      "Beta 1: 0.9\n",
      "Beta 2: 0.99\n",
      "Weight decay: 0.01\n",
      "Accuracy: 9.538829006207218\n"
     ]
    },
    {
     "name": "stderr",
     "output_type": "stream",
     "text": [
      "100%|██████████| 3776/3776 [01:54<00:00, 32.84it/s]\n"
     ]
    },
    {
     "name": "stdout",
     "output_type": "stream",
     "text": [
      "Learning rate: 0.001\n",
      "Beta 1: 0.9\n",
      "Beta 2: 0.99\n",
      "Weight decay: 0.001\n",
      "Accuracy: 97.30294585987261\n"
     ]
    },
    {
     "name": "stderr",
     "output_type": "stream",
     "text": [
      "100%|██████████| 3776/3776 [01:55<00:00, 32.68it/s]\n"
     ]
    },
    {
     "name": "stdout",
     "output_type": "stream",
     "text": [
      "Learning rate: 0.001\n",
      "Beta 1: 0.9\n",
      "Beta 2: 0.99\n",
      "Weight decay: 0.0001\n",
      "Accuracy: 94.41679936305732\n"
     ]
    },
    {
     "name": "stderr",
     "output_type": "stream",
     "text": [
      "100%|██████████| 3776/3776 [01:46<00:00, 35.38it/s]\n"
     ]
    },
    {
     "name": "stdout",
     "output_type": "stream",
     "text": [
      "Learning rate: 0.001\n",
      "Beta 1: 0.95\n",
      "Beta 2: 0.9\n",
      "Weight decay: 0\n",
      "Accuracy: 93.89698678520834\n"
     ]
    },
    {
     "name": "stderr",
     "output_type": "stream",
     "text": [
      "100%|██████████| 3776/3776 [01:53<00:00, 33.34it/s]\n"
     ]
    },
    {
     "name": "stdout",
     "output_type": "stream",
     "text": [
      "Learning rate: 0.001\n",
      "Beta 1: 0.95\n",
      "Beta 2: 0.9\n",
      "Weight decay: 0.01\n",
      "Accuracy: 9.538829006207218\n"
     ]
    },
    {
     "name": "stderr",
     "output_type": "stream",
     "text": [
      "100%|██████████| 3776/3776 [01:53<00:00, 33.29it/s]\n"
     ]
    },
    {
     "name": "stdout",
     "output_type": "stream",
     "text": [
      "Learning rate: 0.001\n",
      "Beta 1: 0.95\n",
      "Beta 2: 0.9\n",
      "Weight decay: 0.001\n",
      "Accuracy: 96.44705414012739\n"
     ]
    },
    {
     "name": "stderr",
     "output_type": "stream",
     "text": [
      "100%|██████████| 3776/3776 [01:53<00:00, 33.14it/s]\n"
     ]
    },
    {
     "name": "stdout",
     "output_type": "stream",
     "text": [
      "Learning rate: 0.001\n",
      "Beta 1: 0.95\n",
      "Beta 2: 0.9\n",
      "Weight decay: 0.0001\n",
      "Accuracy: 95.86982484076434\n"
     ]
    },
    {
     "name": "stderr",
     "output_type": "stream",
     "text": [
      "100%|██████████| 3776/3776 [01:47<00:00, 35.07it/s]\n"
     ]
    },
    {
     "name": "stdout",
     "output_type": "stream",
     "text": [
      "Learning rate: 0.001\n",
      "Beta 1: 0.95\n",
      "Beta 2: 0.925\n",
      "Weight decay: 0\n",
      "Accuracy: 92.08338437414473\n"
     ]
    },
    {
     "name": "stderr",
     "output_type": "stream",
     "text": [
      "100%|██████████| 3776/3776 [01:54<00:00, 33.01it/s]\n"
     ]
    },
    {
     "name": "stdout",
     "output_type": "stream",
     "text": [
      "Learning rate: 0.001\n",
      "Beta 1: 0.95\n",
      "Beta 2: 0.925\n",
      "Weight decay: 0.01\n",
      "Accuracy: 11.298076923485775\n"
     ]
    },
    {
     "name": "stderr",
     "output_type": "stream",
     "text": [
      "100%|██████████| 3776/3776 [01:54<00:00, 33.07it/s]\n"
     ]
    },
    {
     "name": "stdout",
     "output_type": "stream",
     "text": [
      "Learning rate: 0.001\n",
      "Beta 1: 0.95\n",
      "Beta 2: 0.925\n",
      "Weight decay: 0.001\n",
      "Accuracy: 96.54657643312102\n"
     ]
    },
    {
     "name": "stderr",
     "output_type": "stream",
     "text": [
      "100%|██████████| 3776/3776 [01:53<00:00, 33.16it/s]\n"
     ]
    },
    {
     "name": "stdout",
     "output_type": "stream",
     "text": [
      "Learning rate: 0.001\n",
      "Beta 1: 0.95\n",
      "Beta 2: 0.925\n",
      "Weight decay: 0.0001\n",
      "Accuracy: 96.48686305732484\n"
     ]
    },
    {
     "name": "stderr",
     "output_type": "stream",
     "text": [
      "100%|██████████| 3776/3776 [01:43<00:00, 36.55it/s]\n"
     ]
    },
    {
     "name": "stdout",
     "output_type": "stream",
     "text": [
      "Learning rate: 0.001\n",
      "Beta 1: 0.95\n",
      "Beta 2: 0.95\n",
      "Weight decay: 0\n",
      "Accuracy: 96.23805732484077\n"
     ]
    },
    {
     "name": "stderr",
     "output_type": "stream",
     "text": [
      "100%|██████████| 3776/3776 [01:53<00:00, 33.41it/s]\n"
     ]
    },
    {
     "name": "stdout",
     "output_type": "stream",
     "text": [
      "Learning rate: 0.001\n",
      "Beta 1: 0.95\n",
      "Beta 2: 0.95\n",
      "Weight decay: 0.01\n",
      "Accuracy: 10.233188388453927\n"
     ]
    },
    {
     "name": "stderr",
     "output_type": "stream",
     "text": [
      "100%|██████████| 3776/3776 [01:53<00:00, 33.27it/s]\n"
     ]
    },
    {
     "name": "stdout",
     "output_type": "stream",
     "text": [
      "Learning rate: 0.001\n",
      "Beta 1: 0.95\n",
      "Beta 2: 0.95\n",
      "Weight decay: 0.001\n",
      "Accuracy: 96.54657643312102\n"
     ]
    },
    {
     "name": "stderr",
     "output_type": "stream",
     "text": [
      "100%|██████████| 3776/3776 [01:53<00:00, 33.28it/s]\n"
     ]
    },
    {
     "name": "stdout",
     "output_type": "stream",
     "text": [
      "Learning rate: 0.001\n",
      "Beta 1: 0.95\n",
      "Beta 2: 0.95\n",
      "Weight decay: 0.0001\n",
      "Accuracy: 96.67595541401273\n"
     ]
    },
    {
     "name": "stderr",
     "output_type": "stream",
     "text": [
      "100%|██████████| 3776/3776 [01:43<00:00, 36.46it/s]\n"
     ]
    },
    {
     "name": "stdout",
     "output_type": "stream",
     "text": [
      "Learning rate: 0.001\n",
      "Beta 1: 0.95\n",
      "Beta 2: 0.99\n",
      "Weight decay: 0\n",
      "Accuracy: 95.55135350318471\n"
     ]
    },
    {
     "name": "stderr",
     "output_type": "stream",
     "text": [
      "100%|██████████| 3776/3776 [01:53<00:00, 33.17it/s]\n"
     ]
    },
    {
     "name": "stdout",
     "output_type": "stream",
     "text": [
      "Learning rate: 0.001\n",
      "Beta 1: 0.95\n",
      "Beta 2: 0.99\n",
      "Weight decay: 0.01\n",
      "Accuracy: 11.298076923485775\n"
     ]
    },
    {
     "name": "stderr",
     "output_type": "stream",
     "text": [
      "100%|██████████| 3776/3776 [01:54<00:00, 32.93it/s]\n"
     ]
    },
    {
     "name": "stdout",
     "output_type": "stream",
     "text": [
      "Learning rate: 0.001\n",
      "Beta 1: 0.95\n",
      "Beta 2: 0.99\n",
      "Weight decay: 0.001\n",
      "Accuracy: 97.5218949044586\n"
     ]
    },
    {
     "name": "stderr",
     "output_type": "stream",
     "text": [
      "100%|██████████| 3776/3776 [01:53<00:00, 33.37it/s]\n"
     ]
    },
    {
     "name": "stdout",
     "output_type": "stream",
     "text": [
      "Learning rate: 0.001\n",
      "Beta 1: 0.95\n",
      "Beta 2: 0.99\n",
      "Weight decay: 0.0001\n",
      "Accuracy: 96.25796178343948\n"
     ]
    },
    {
     "name": "stderr",
     "output_type": "stream",
     "text": [
      "100%|██████████| 3776/3776 [01:43<00:00, 36.52it/s]\n"
     ]
    },
    {
     "name": "stdout",
     "output_type": "stream",
     "text": [
      "Learning rate: 0.0001\n",
      "Beta 1: 0.8\n",
      "Beta 2: 0.9\n",
      "Weight decay: 0\n",
      "Accuracy: 96.36743630573248\n"
     ]
    },
    {
     "name": "stderr",
     "output_type": "stream",
     "text": [
      "100%|██████████| 3776/3776 [01:55<00:00, 32.63it/s]\n"
     ]
    },
    {
     "name": "stdout",
     "output_type": "stream",
     "text": [
      "Learning rate: 0.0001\n",
      "Beta 1: 0.8\n",
      "Beta 2: 0.9\n",
      "Weight decay: 0.01\n",
      "Accuracy: 92.8818593966733\n"
     ]
    },
    {
     "name": "stderr",
     "output_type": "stream",
     "text": [
      " 49%|████▉     | 1856/3776 [00:56<00:57, 33.21it/s]"
     ]
    },
    {
     "ename": "KeyboardInterrupt",
     "evalue": "",
     "output_type": "error",
     "traceback": [
      "\u001b[0;31m---------------------------------------------------------------------------\u001b[0m",
      "\u001b[0;31mKeyboardInterrupt\u001b[0m                         Traceback (most recent call last)",
      "\u001b[0;32m<ipython-input-3-945452d6be48>\u001b[0m in \u001b[0;36m<module>\u001b[0;34m\u001b[0m\n\u001b[1;32m     45\u001b[0m                 \u001b[0mcriterion\u001b[0m \u001b[0;34m=\u001b[0m \u001b[0mnn\u001b[0m\u001b[0;34m.\u001b[0m\u001b[0mCrossEntropyLoss\u001b[0m\u001b[0;34m(\u001b[0m\u001b[0;34m)\u001b[0m\u001b[0;34m\u001b[0m\u001b[0;34m\u001b[0m\u001b[0m\n\u001b[1;32m     46\u001b[0m                 \u001b[0;32mfor\u001b[0m \u001b[0mstep\u001b[0m\u001b[0;34m,\u001b[0m \u001b[0;34m[\u001b[0m\u001b[0mx_train\u001b[0m\u001b[0;34m,\u001b[0m \u001b[0my_train\u001b[0m\u001b[0;34m]\u001b[0m \u001b[0;32min\u001b[0m \u001b[0menumerate\u001b[0m\u001b[0;34m(\u001b[0m\u001b[0mtqdm\u001b[0m\u001b[0;34m(\u001b[0m\u001b[0mtrain_loader\u001b[0m\u001b[0;34m)\u001b[0m\u001b[0;34m)\u001b[0m\u001b[0;34m:\u001b[0m\u001b[0;34m\u001b[0m\u001b[0;34m\u001b[0m\u001b[0m\n\u001b[0;32m---> 47\u001b[0;31m                     \u001b[0mx_train\u001b[0m\u001b[0;34m,\u001b[0m \u001b[0my_train\u001b[0m \u001b[0;34m=\u001b[0m \u001b[0mx_train\u001b[0m\u001b[0;34m.\u001b[0m\u001b[0mto\u001b[0m\u001b[0;34m(\u001b[0m\u001b[0mdevice\u001b[0m\u001b[0;34m)\u001b[0m\u001b[0;34m,\u001b[0m \u001b[0my_train\u001b[0m\u001b[0;34m.\u001b[0m\u001b[0mto\u001b[0m\u001b[0;34m(\u001b[0m\u001b[0mdevice\u001b[0m\u001b[0;34m)\u001b[0m\u001b[0;34m\u001b[0m\u001b[0;34m\u001b[0m\u001b[0m\n\u001b[0m\u001b[1;32m     48\u001b[0m                     \u001b[0moptimizer\u001b[0m\u001b[0;34m.\u001b[0m\u001b[0mzero_grad\u001b[0m\u001b[0;34m(\u001b[0m\u001b[0;34m)\u001b[0m\u001b[0;34m\u001b[0m\u001b[0;34m\u001b[0m\u001b[0m\n\u001b[1;32m     49\u001b[0m                     \u001b[0mtrain_pred\u001b[0m \u001b[0;34m=\u001b[0m \u001b[0mmodel\u001b[0m\u001b[0;34m(\u001b[0m\u001b[0mx_train\u001b[0m\u001b[0;34m)\u001b[0m\u001b[0;34m\u001b[0m\u001b[0;34m\u001b[0m\u001b[0m\n",
      "\u001b[0;31mKeyboardInterrupt\u001b[0m: "
     ]
    }
   ],
   "source": [
    "from torchvision import models\n",
    "from torch.nn import Conv2d\n",
    "\n",
    "train_loader = DataLoader(hasy_train, batch_size=16, shuffle=True)\n",
    "test_loader = DataLoader(hasy_test, batch_size=16, shuffle=False)\n",
    "\n",
    "device = torch.device(\"cuda:0\" if torch.cuda.is_available() else \"cpu\")\n",
    "\n",
    "\n",
    "def calc_accuracy(model):\n",
    "    accuracies = []\n",
    "    for idx, [x_test, y_test] in enumerate(test_loader):\n",
    "        x_test, y_test = x_test.to(device), y_test.to(device)\n",
    "        test_pred = model(x_test)\n",
    "        accuracy = 100 * torch.mean((torch.argmax(test_pred, dim=1) == y_test).float())\n",
    "        accuracies.append(accuracy.item())\n",
    "    return np.mean(accuracies) \n",
    "\n",
    "def print_stats(lr, beta1, beta2, decay, accuracy):\n",
    "    print(\"Learning rate: {0}\".format(lr))\n",
    "    print(\"Beta 1: {0}\".format(beta1))\n",
    "    print(\"Beta 2: {0}\".format(beta2))\n",
    "    print(\"Weight decay: {0}\".format(decay))\n",
    "    print(\"Accuracy: {0}\".format(accuracy))\n",
    "\n",
    "learning_rates = [0.01, 0.001, 0.0001]\n",
    "betas1 = [0.8, 0.85, 0.9, 0.95]\n",
    "betas2 = [0.9, 0.925, 0.95, 0.99]\n",
    "weight_decays = [0, 0.01, 0.001, 0.0001]\n",
    "\n",
    "best_lr = 0\n",
    "best_beta1 = 0\n",
    "best_beta2 = 0\n",
    "best_decay = 0\n",
    "best_accuracy = 0\n",
    "\n",
    "for lr in learning_rates:\n",
    "    for beta1 in betas1:\n",
    "        for beta2 in betas2:\n",
    "            for decay in weight_decays:\n",
    "                model = models.alexnet(num_classes=11)\n",
    "                model.features[0] = Conv2d(1, 64, kernel_size=(7, 7), stride=(2, 2), padding=(3, 3), bias=False)\n",
    "                model.to(device)\n",
    "                optimizer = torch.optim.Adam(model.parameters(), lr=lr, betas=(beta1, beta2), weight_decay=decay)\n",
    "                criterion = nn.CrossEntropyLoss()\n",
    "                for step, [x_train, y_train] in enumerate(tqdm(train_loader)):\n",
    "                    x_train, y_train = x_train.to(device), y_train.to(device)\n",
    "                    optimizer.zero_grad()\n",
    "                    train_pred = model(x_train)\n",
    "                    loss = criterion(train_pred, y_train)\n",
    "                    loss.backward()\n",
    "                    optimizer.step()\n",
    "                accuracy = calc_accuracy(model)\n",
    "                print_stats(lr, beta1, beta2, decay, accuracy)\n",
    "                if accuracy > best_accuracy:\n",
    "                    best_lr = lr\n",
    "                    best_beta1 = beta1\n",
    "                    best_beta2 = beta2\n",
    "                    best_decay = decay\n",
    "                    best_accuracy = accuracy\n",
    "                    \n",
    "print(\"Best hyperparameters:\")\n",
    "print_stats(best_lr, best_beta1, best_beta2, best_decay, best_accuracy)\n",
    "                "
   ]
  },
  {
   "cell_type": "code",
   "execution_count": 5,
   "metadata": {},
   "outputs": [
    {
     "name": "stdout",
     "output_type": "stream",
     "text": [
      "Best hyperparameters:\n",
      "Learning rate: 0.001\n",
      "Beta 1: 0.8\n",
      "Beta 2: 0.99\n",
      "Weight decay: 0.001\n",
      "Accuracy: 97.73089171974522\n"
     ]
    }
   ],
   "source": [
    "print(\"Best hyperparameters:\")\n",
    "print_stats(best_lr, best_beta1, best_beta2, best_decay, best_accuracy)"
   ]
  },
  {
   "cell_type": "code",
   "execution_count": 7,
   "metadata": {},
   "outputs": [
    {
     "name": "stderr",
     "output_type": "stream",
     "text": [
      "\n",
      "  0%|          | 0/3776 [00:00<?, ?it/s]\u001b[A\n",
      "  0%|          | 4/3776 [00:00<01:38, 38.20it/s]\u001b[A\n",
      "  0%|          | 7/3776 [00:00<01:47, 35.06it/s]\u001b[A\n",
      "  0%|          | 11/3776 [00:00<01:52, 33.41it/s]\u001b[A\n",
      "  0%|          | 15/3776 [00:00<01:56, 32.38it/s]\u001b[A\n",
      "  1%|          | 19/3776 [00:00<01:58, 31.77it/s]\u001b[A\n",
      "  1%|          | 22/3776 [00:00<02:00, 31.14it/s]\u001b[A\n",
      "  1%|          | 26/3776 [00:00<02:01, 30.98it/s]\u001b[A\n",
      "  1%|          | 30/3776 [00:00<02:01, 30.77it/s]\u001b[A\n",
      "  1%|          | 34/3776 [00:01<02:02, 30.67it/s]\u001b[A\n",
      "  1%|          | 38/3776 [00:01<02:02, 30.62it/s]\u001b[A\n",
      "  1%|          | 42/3776 [00:01<02:02, 30.43it/s]\u001b[A\n",
      "  1%|          | 46/3776 [00:01<02:02, 30.54it/s]\u001b[A\n",
      "  1%|▏         | 50/3776 [00:01<02:02, 30.44it/s]\u001b[A\n",
      "  1%|▏         | 54/3776 [00:01<02:02, 30.44it/s]\u001b[A\n",
      "  2%|▏         | 58/3776 [00:01<02:02, 30.44it/s]\u001b[A\n",
      "  2%|▏         | 62/3776 [00:02<02:02, 30.41it/s]\u001b[A\n",
      "  2%|▏         | 66/3776 [00:02<02:02, 30.29it/s]\u001b[A\n",
      "  2%|▏         | 70/3776 [00:02<02:00, 30.71it/s]\u001b[A\n",
      "  2%|▏         | 74/3776 [00:02<01:59, 30.86it/s]\u001b[A\n",
      "  2%|▏         | 78/3776 [00:02<01:59, 30.96it/s]\u001b[A\n",
      "  2%|▏         | 82/3776 [00:02<01:58, 31.21it/s]\u001b[A\n",
      "  2%|▏         | 86/3776 [00:02<01:58, 31.14it/s]\u001b[A\n",
      "  2%|▏         | 90/3776 [00:02<01:57, 31.40it/s]\u001b[A\n",
      "  2%|▏         | 94/3776 [00:03<01:56, 31.52it/s]\u001b[A\n",
      "  3%|▎         | 98/3776 [00:03<01:56, 31.54it/s]\u001b[A\n",
      "  3%|▎         | 102/3776 [00:03<01:56, 31.60it/s]\u001b[A\n",
      "  3%|▎         | 106/3776 [00:03<01:57, 31.28it/s]\u001b[A\n",
      "  3%|▎         | 110/3776 [00:03<01:55, 31.63it/s]\u001b[A\n",
      "  3%|▎         | 114/3776 [00:03<01:56, 31.47it/s]\u001b[A\n",
      "  3%|▎         | 118/3776 [00:03<01:56, 31.41it/s]\u001b[A\n",
      "  3%|▎         | 122/3776 [00:03<01:55, 31.66it/s]\u001b[A\n",
      "  3%|▎         | 126/3776 [00:04<01:55, 31.56it/s]\u001b[A\n",
      "  3%|▎         | 130/3776 [00:04<01:56, 31.20it/s]\u001b[A\n",
      "  4%|▎         | 134/3776 [00:04<01:57, 30.99it/s]\u001b[A\n",
      "  4%|▎         | 138/3776 [00:04<01:58, 30.82it/s]\u001b[A\n",
      "  4%|▍         | 142/3776 [00:04<01:58, 30.69it/s]\u001b[A\n",
      "  4%|▍         | 146/3776 [00:04<01:58, 30.61it/s]\u001b[A\n",
      "  4%|▍         | 150/3776 [00:04<01:58, 30.52it/s]\u001b[A\n",
      "  4%|▍         | 154/3776 [00:04<01:58, 30.51it/s]\u001b[A\n",
      "  4%|▍         | 158/3776 [00:05<01:58, 30.47it/s]\u001b[A\n",
      "  4%|▍         | 162/3776 [00:05<01:57, 30.65it/s]\u001b[A\n",
      "  4%|▍         | 166/3776 [00:05<01:58, 30.55it/s]\u001b[A\n",
      "  5%|▍         | 170/3776 [00:05<01:58, 30.53it/s]\u001b[A\n",
      "  5%|▍         | 174/3776 [00:05<01:58, 30.44it/s]\u001b[A\n",
      "  5%|▍         | 178/3776 [00:05<01:58, 30.42it/s]\u001b[A\n",
      "  5%|▍         | 182/3776 [00:05<01:57, 30.56it/s]\u001b[A\n",
      "  5%|▍         | 186/3776 [00:06<01:57, 30.47it/s]\u001b[A\n",
      "  5%|▌         | 190/3776 [00:06<01:57, 30.49it/s]\u001b[A\n",
      "  5%|▌         | 194/3776 [00:06<01:57, 30.41it/s]\u001b[A\n",
      "  5%|▌         | 198/3776 [00:06<01:57, 30.35it/s]\u001b[A\n",
      "  5%|▌         | 202/3776 [00:06<01:57, 30.44it/s]\u001b[A\n",
      "  5%|▌         | 206/3776 [00:06<01:57, 30.42it/s]\u001b[A\n",
      "  6%|▌         | 210/3776 [00:06<01:57, 30.41it/s]\u001b[A\n",
      "  6%|▌         | 214/3776 [00:06<01:57, 30.41it/s]\u001b[A\n",
      "  6%|▌         | 218/3776 [00:07<01:57, 30.39it/s]\u001b[A\n",
      "  6%|▌         | 222/3776 [00:07<01:56, 30.50it/s]\u001b[A\n",
      "  6%|▌         | 226/3776 [00:07<01:56, 30.44it/s]\u001b[A\n",
      "  6%|▌         | 230/3776 [00:07<01:56, 30.42it/s]\u001b[A\n",
      "  6%|▌         | 234/3776 [00:07<01:56, 30.42it/s]\u001b[A\n",
      "  6%|▋         | 238/3776 [00:07<01:56, 30.45it/s]\u001b[A\n",
      "  6%|▋         | 242/3776 [00:07<01:56, 30.44it/s]\u001b[A\n",
      "  7%|▋         | 246/3776 [00:07<01:56, 30.43it/s]\u001b[A\n",
      "  7%|▋         | 250/3776 [00:08<01:55, 30.42it/s]\u001b[A\n",
      "  7%|▋         | 254/3776 [00:08<01:55, 30.52it/s]\u001b[A\n",
      "  7%|▋         | 258/3776 [00:08<01:54, 30.73it/s]\u001b[A\n",
      "  7%|▋         | 262/3776 [00:08<01:54, 30.62it/s]\u001b[A\n",
      "  7%|▋         | 266/3776 [00:08<01:54, 30.56it/s]\u001b[A\n",
      "  7%|▋         | 270/3776 [00:08<01:54, 30.57it/s]\u001b[A\n",
      "  7%|▋         | 274/3776 [00:08<01:54, 30.63it/s]\u001b[A\n",
      "  7%|▋         | 278/3776 [00:09<01:54, 30.57it/s]\u001b[A\n",
      "  7%|▋         | 282/3776 [00:09<01:54, 30.51it/s]\u001b[A\n",
      "  8%|▊         | 286/3776 [00:09<01:54, 30.47it/s]\u001b[A\n",
      "  8%|▊         | 290/3776 [00:09<01:54, 30.46it/s]\u001b[A\n",
      "  8%|▊         | 294/3776 [00:09<01:54, 30.44it/s]\u001b[A\n",
      "  8%|▊         | 298/3776 [00:09<01:54, 30.50it/s]\u001b[A\n",
      "  8%|▊         | 302/3776 [00:09<01:53, 30.48it/s]\u001b[A\n",
      "  8%|▊         | 306/3776 [00:09<01:53, 30.46it/s]\u001b[A\n",
      "  8%|▊         | 310/3776 [00:10<01:53, 30.45it/s]\u001b[A\n",
      "  8%|▊         | 314/3776 [00:10<01:53, 30.44it/s]\u001b[A\n",
      "  8%|▊         | 318/3776 [00:10<01:53, 30.42it/s]\u001b[A\n",
      "  9%|▊         | 322/3776 [00:10<01:53, 30.39it/s]\u001b[A\n",
      "  9%|▊         | 326/3776 [00:10<01:53, 30.40it/s]\u001b[A\n",
      "  9%|▊         | 330/3776 [00:10<01:53, 30.41it/s]\u001b[A\n",
      "  9%|▉         | 334/3776 [00:10<01:53, 30.41it/s]\u001b[A\n",
      "  9%|▉         | 338/3776 [00:11<01:53, 30.40it/s]\u001b[A\n",
      "  9%|▉         | 342/3776 [00:11<01:52, 30.50it/s]\u001b[A\n",
      "  9%|▉         | 346/3776 [00:11<01:52, 30.47it/s]\u001b[A\n",
      "  9%|▉         | 350/3776 [00:11<01:52, 30.45it/s]\u001b[A\n",
      "  9%|▉         | 354/3776 [00:11<01:52, 30.45it/s]\u001b[A\n",
      "  9%|▉         | 358/3776 [00:11<01:52, 30.43it/s]\u001b[A\n",
      " 10%|▉         | 362/3776 [00:11<01:52, 30.42it/s]\u001b[A\n",
      " 10%|▉         | 366/3776 [00:11<01:52, 30.40it/s]\u001b[A\n",
      " 10%|▉         | 370/3776 [00:12<01:52, 30.41it/s]\u001b[A\n",
      " 10%|▉         | 374/3776 [00:12<01:51, 30.41it/s]\u001b[A\n",
      " 10%|█         | 378/3776 [00:12<01:51, 30.41it/s]\u001b[A\n",
      " 10%|█         | 382/3776 [00:12<01:51, 30.40it/s]\u001b[A\n",
      " 10%|█         | 386/3776 [00:12<01:51, 30.39it/s]\u001b[A\n",
      " 10%|█         | 390/3776 [00:12<01:51, 30.39it/s]\u001b[A\n",
      " 10%|█         | 394/3776 [00:12<01:51, 30.32it/s]\u001b[A\n",
      " 11%|█         | 398/3776 [00:12<01:51, 30.35it/s]\u001b[A\n",
      " 11%|█         | 402/3776 [00:13<01:51, 30.34it/s]\u001b[A\n",
      " 11%|█         | 406/3776 [00:13<01:51, 30.36it/s]\u001b[A\n",
      " 11%|█         | 410/3776 [00:13<01:50, 30.37it/s]\u001b[A\n",
      " 11%|█         | 414/3776 [00:13<01:50, 30.37it/s]\u001b[A\n",
      " 11%|█         | 418/3776 [00:13<01:49, 30.55it/s]\u001b[A\n",
      " 11%|█         | 422/3776 [00:13<01:49, 30.53it/s]\u001b[A\n",
      " 11%|█▏        | 426/3776 [00:13<01:49, 30.47it/s]\u001b[A\n",
      " 11%|█▏        | 430/3776 [00:14<01:49, 30.45it/s]\u001b[A\n",
      " 11%|█▏        | 434/3776 [00:14<01:48, 30.70it/s]\u001b[A\n",
      " 12%|█▏        | 438/3776 [00:14<01:46, 31.40it/s]\u001b[A\n",
      " 12%|█▏        | 442/3776 [00:14<01:44, 31.94it/s]\u001b[A\n",
      " 12%|█▏        | 446/3776 [00:14<01:43, 32.18it/s]\u001b[A\n",
      " 12%|█▏        | 450/3776 [00:14<01:42, 32.49it/s]\u001b[A\n",
      " 12%|█▏        | 454/3776 [00:14<01:41, 32.71it/s]\u001b[A\n",
      " 12%|█▏        | 458/3776 [00:14<01:40, 32.88it/s]\u001b[A\n",
      " 12%|█▏        | 462/3776 [00:15<01:40, 32.84it/s]\u001b[A\n",
      " 12%|█▏        | 466/3776 [00:15<01:40, 32.95it/s]\u001b[A\n",
      " 12%|█▏        | 470/3776 [00:15<01:40, 33.04it/s]\u001b[A\n",
      " 13%|█▎        | 474/3776 [00:15<01:39, 33.10it/s]\u001b[A\n",
      " 13%|█▎        | 478/3776 [00:15<01:39, 33.01it/s]\u001b[A\n",
      " 13%|█▎        | 482/3776 [00:15<01:39, 33.07it/s]\u001b[A\n",
      " 13%|█▎        | 486/3776 [00:15<01:39, 33.13it/s]\u001b[A\n",
      " 13%|█▎        | 490/3776 [00:15<01:39, 33.17it/s]\u001b[A\n",
      " 13%|█▎        | 494/3776 [00:15<01:39, 33.04it/s]\u001b[A\n",
      " 13%|█▎        | 498/3776 [00:16<01:39, 33.09it/s]\u001b[A\n",
      " 13%|█▎        | 502/3776 [00:16<01:39, 33.01it/s]\u001b[A\n",
      " 13%|█▎        | 506/3776 [00:16<01:39, 32.99it/s]\u001b[A\n",
      " 14%|█▎        | 510/3776 [00:16<01:39, 32.89it/s]\u001b[A\n",
      " 14%|█▎        | 514/3776 [00:16<01:38, 32.98it/s]\u001b[A\n",
      " 14%|█▎        | 518/3776 [00:16<01:38, 33.05it/s]\u001b[A\n",
      " 14%|█▍        | 522/3776 [00:16<01:38, 32.98it/s]\u001b[A\n",
      " 14%|█▍        | 526/3776 [00:16<01:38, 33.05it/s]\u001b[A\n",
      " 14%|█▍        | 530/3776 [00:17<01:38, 33.09it/s]\u001b[A\n",
      " 14%|█▍        | 534/3776 [00:17<01:37, 33.10it/s]\u001b[A\n",
      " 14%|█▍        | 538/3776 [00:17<01:38, 33.02it/s]\u001b[A\n",
      " 14%|█▍        | 542/3776 [00:17<01:37, 33.07it/s]\u001b[A\n",
      " 14%|█▍        | 546/3776 [00:17<01:37, 33.12it/s]\u001b[A\n",
      " 15%|█▍        | 550/3776 [00:17<01:37, 33.11it/s]\u001b[A\n",
      " 15%|█▍        | 554/3776 [00:17<01:37, 33.03it/s]\u001b[A\n",
      " 15%|█▍        | 558/3776 [00:17<01:37, 33.08it/s]\u001b[A\n",
      " 15%|█▍        | 562/3776 [00:18<01:37, 33.11it/s]\u001b[A\n",
      " 15%|█▍        | 566/3776 [00:18<01:36, 33.13it/s]\u001b[A\n",
      " 15%|█▌        | 570/3776 [00:18<01:37, 33.04it/s]\u001b[A\n",
      " 15%|█▌        | 574/3776 [00:18<01:36, 33.09it/s]\u001b[A\n",
      " 15%|█▌        | 578/3776 [00:18<01:36, 33.11it/s]\u001b[A\n",
      " 15%|█▌        | 582/3776 [00:18<01:36, 33.14it/s]\u001b[A\n",
      " 16%|█▌        | 586/3776 [00:18<01:36, 33.16it/s]\u001b[A\n",
      " 16%|█▌        | 590/3776 [00:18<01:36, 33.15it/s]\u001b[A\n",
      " 16%|█▌        | 594/3776 [00:19<01:35, 33.17it/s]\u001b[A\n",
      " 16%|█▌        | 598/3776 [00:19<01:35, 33.19it/s]\u001b[A\n",
      " 16%|█▌        | 602/3776 [00:19<01:35, 33.18it/s]\u001b[A\n"
     ]
    },
    {
     "name": "stderr",
     "output_type": "stream",
     "text": [
      " 16%|█▌        | 606/3776 [00:19<01:35, 33.03it/s]\u001b[A\n",
      " 16%|█▌        | 610/3776 [00:19<01:35, 33.07it/s]\u001b[A\n",
      " 16%|█▋        | 614/3776 [00:19<01:35, 33.23it/s]\u001b[A\n",
      " 16%|█▋        | 618/3776 [00:19<01:34, 33.32it/s]\u001b[A\n",
      " 16%|█▋        | 622/3776 [00:19<01:34, 33.34it/s]\u001b[A\n",
      " 17%|█▋        | 626/3776 [00:19<01:34, 33.41it/s]\u001b[A\n",
      " 17%|█▋        | 630/3776 [00:20<01:34, 33.47it/s]\u001b[A\n",
      " 17%|█▋        | 634/3776 [00:20<01:33, 33.49it/s]\u001b[A\n",
      " 17%|█▋        | 638/3776 [00:20<01:33, 33.50it/s]\u001b[A\n",
      " 17%|█▋        | 642/3776 [00:20<01:33, 33.52it/s]\u001b[A\n",
      " 17%|█▋        | 646/3776 [00:20<01:33, 33.55it/s]\u001b[A\n",
      " 17%|█▋        | 650/3776 [00:20<01:33, 33.48it/s]\u001b[A\n",
      " 17%|█▋        | 654/3776 [00:20<01:33, 33.51it/s]\u001b[A\n",
      " 17%|█▋        | 658/3776 [00:20<01:33, 33.52it/s]\u001b[A\n",
      " 18%|█▊        | 662/3776 [00:21<01:32, 33.54it/s]\u001b[A\n",
      " 18%|█▊        | 666/3776 [00:21<01:32, 33.54it/s]\u001b[A\n",
      " 18%|█▊        | 670/3776 [00:21<01:32, 33.55it/s]\u001b[A\n",
      " 18%|█▊        | 674/3776 [00:21<01:32, 33.49it/s]\u001b[A\n",
      " 18%|█▊        | 678/3776 [00:21<01:32, 33.49it/s]\u001b[A\n",
      " 18%|█▊        | 682/3776 [00:21<01:32, 33.51it/s]\u001b[A\n",
      " 18%|█▊        | 686/3776 [00:21<01:32, 33.52it/s]\u001b[A\n",
      " 18%|█▊        | 690/3776 [00:21<01:32, 33.52it/s]\u001b[A\n",
      " 18%|█▊        | 694/3776 [00:21<01:31, 33.53it/s]\u001b[A\n",
      " 18%|█▊        | 698/3776 [00:22<01:31, 33.49it/s]\u001b[A\n",
      " 19%|█▊        | 702/3776 [00:22<01:31, 33.49it/s]\u001b[A\n",
      " 19%|█▊        | 706/3776 [00:22<01:31, 33.51it/s]\u001b[A\n",
      " 19%|█▉        | 710/3776 [00:22<01:31, 33.53it/s]\u001b[A\n",
      " 19%|█▉        | 714/3776 [00:22<01:31, 33.52it/s]\u001b[A\n",
      " 19%|█▉        | 718/3776 [00:22<01:31, 33.52it/s]\u001b[A\n",
      " 19%|█▉        | 722/3776 [00:22<01:31, 33.53it/s]\u001b[A\n",
      " 19%|█▉        | 726/3776 [00:22<01:30, 33.53it/s]\u001b[A\n",
      " 19%|█▉        | 730/3776 [00:23<01:30, 33.53it/s]\u001b[A\n",
      " 19%|█▉        | 734/3776 [00:23<01:30, 33.53it/s]\u001b[A\n",
      " 20%|█▉        | 738/3776 [00:23<01:30, 33.53it/s]\u001b[A\n",
      " 20%|█▉        | 742/3776 [00:23<01:30, 33.53it/s]\u001b[A\n",
      " 20%|█▉        | 746/3776 [00:23<01:30, 33.53it/s]\u001b[A\n",
      " 20%|█▉        | 750/3776 [00:23<01:30, 33.52it/s]\u001b[A\n",
      " 20%|█▉        | 754/3776 [00:23<01:30, 33.52it/s]\u001b[A\n",
      " 20%|██        | 758/3776 [00:23<01:30, 33.53it/s]\u001b[A\n",
      " 20%|██        | 762/3776 [00:24<01:29, 33.53it/s]\u001b[A\n",
      " 20%|██        | 766/3776 [00:24<01:29, 33.53it/s]\u001b[A\n",
      " 20%|██        | 770/3776 [00:24<01:29, 33.67it/s]\u001b[A\n",
      " 20%|██        | 774/3776 [00:24<01:29, 33.62it/s]\u001b[A\n",
      " 21%|██        | 778/3776 [00:24<01:29, 33.52it/s]\u001b[A\n",
      " 21%|██        | 782/3776 [00:24<01:29, 33.52it/s]\u001b[A\n",
      " 21%|██        | 786/3776 [00:24<01:29, 33.52it/s]\u001b[A\n",
      " 21%|██        | 790/3776 [00:24<01:28, 33.56it/s]\u001b[A\n",
      " 21%|██        | 794/3776 [00:24<01:28, 33.55it/s]\u001b[A\n",
      " 21%|██        | 798/3776 [00:25<01:28, 33.55it/s]\u001b[A\n",
      " 21%|██        | 802/3776 [00:25<01:28, 33.49it/s]\u001b[A\n",
      " 21%|██▏       | 806/3776 [00:25<01:28, 33.50it/s]\u001b[A\n",
      " 21%|██▏       | 810/3776 [00:25<01:28, 33.51it/s]\u001b[A\n",
      " 22%|██▏       | 814/3776 [00:25<01:28, 33.51it/s]\u001b[A\n",
      " 22%|██▏       | 818/3776 [00:25<01:28, 33.53it/s]\u001b[A\n",
      " 22%|██▏       | 822/3776 [00:25<01:28, 33.53it/s]\u001b[A\n",
      " 22%|██▏       | 826/3776 [00:25<01:28, 33.48it/s]\u001b[A\n",
      " 22%|██▏       | 830/3776 [00:26<01:27, 33.50it/s]\u001b[A\n",
      " 22%|██▏       | 834/3776 [00:26<01:27, 33.51it/s]\u001b[A\n",
      " 22%|██▏       | 838/3776 [00:26<01:27, 33.52it/s]\u001b[A\n",
      " 22%|██▏       | 842/3776 [00:26<01:27, 33.36it/s]\u001b[A\n",
      " 22%|██▏       | 846/3776 [00:26<01:27, 33.41it/s]\u001b[A\n",
      " 23%|██▎       | 850/3776 [00:26<01:27, 33.44it/s]\u001b[A\n",
      " 23%|██▎       | 854/3776 [00:26<01:27, 33.46it/s]\u001b[A\n",
      " 23%|██▎       | 858/3776 [00:26<01:27, 33.48it/s]\u001b[A\n",
      " 23%|██▎       | 862/3776 [00:27<01:27, 33.49it/s]\u001b[A\n",
      " 23%|██▎       | 866/3776 [00:27<01:26, 33.49it/s]\u001b[A\n",
      " 23%|██▎       | 870/3776 [00:27<01:26, 33.43it/s]\u001b[A\n",
      " 23%|██▎       | 874/3776 [00:27<01:26, 33.38it/s]\u001b[A\n",
      " 23%|██▎       | 878/3776 [00:27<01:26, 33.43it/s]\u001b[A\n",
      " 23%|██▎       | 882/3776 [00:27<01:26, 33.46it/s]\u001b[A\n",
      " 23%|██▎       | 886/3776 [00:27<01:26, 33.48it/s]\u001b[A\n",
      " 24%|██▎       | 890/3776 [00:27<01:26, 33.49it/s]\u001b[A\n",
      " 24%|██▎       | 894/3776 [00:27<01:26, 33.44it/s]\u001b[A\n",
      " 24%|██▍       | 898/3776 [00:28<01:25, 33.47it/s]\u001b[A\n",
      " 24%|██▍       | 902/3776 [00:28<01:25, 33.49it/s]\u001b[A\n",
      " 24%|██▍       | 906/3776 [00:28<01:25, 33.51it/s]\u001b[A\n",
      " 24%|██▍       | 910/3776 [00:28<01:25, 33.51it/s]\u001b[A\n",
      " 24%|██▍       | 914/3776 [00:28<01:25, 33.52it/s]\u001b[A\n",
      " 24%|██▍       | 918/3776 [00:28<01:25, 33.47it/s]\u001b[A\n",
      " 24%|██▍       | 922/3776 [00:28<01:25, 33.48it/s]\u001b[A\n",
      " 25%|██▍       | 926/3776 [00:28<01:25, 33.51it/s]\u001b[A\n",
      " 25%|██▍       | 930/3776 [00:29<01:24, 33.52it/s]\u001b[A\n",
      " 25%|██▍       | 934/3776 [00:29<01:24, 33.53it/s]\u001b[A\n",
      " 25%|██▍       | 938/3776 [00:29<01:24, 33.53it/s]\u001b[A\n",
      " 25%|██▍       | 942/3776 [00:29<01:24, 33.52it/s]\u001b[A\n",
      " 25%|██▌       | 946/3776 [00:29<01:24, 33.45it/s]\u001b[A\n",
      " 25%|██▌       | 950/3776 [00:29<01:24, 33.48it/s]\u001b[A\n",
      " 25%|██▌       | 954/3776 [00:29<01:24, 33.50it/s]\u001b[A\n",
      " 25%|██▌       | 958/3776 [00:29<01:24, 33.51it/s]\u001b[A\n",
      " 25%|██▌       | 962/3776 [00:29<01:23, 33.52it/s]\u001b[A\n",
      " 26%|██▌       | 966/3776 [00:30<01:23, 33.45it/s]\u001b[A\n",
      " 26%|██▌       | 970/3776 [00:30<01:23, 33.48it/s]\u001b[A\n",
      " 26%|██▌       | 974/3776 [00:30<01:23, 33.50it/s]\u001b[A\n",
      " 26%|██▌       | 978/3776 [00:30<01:23, 33.50it/s]\u001b[A\n",
      " 26%|██▌       | 982/3776 [00:30<01:23, 33.52it/s]\u001b[A\n",
      " 26%|██▌       | 986/3776 [00:30<01:23, 33.53it/s]\u001b[A\n",
      " 26%|██▌       | 990/3776 [00:30<01:23, 33.53it/s]\u001b[A\n",
      " 26%|██▋       | 994/3776 [00:30<01:23, 33.46it/s]\u001b[A\n",
      " 26%|██▋       | 998/3776 [00:31<01:22, 33.48it/s]\u001b[A\n",
      " 27%|██▋       | 1002/3776 [00:31<01:22, 33.49it/s]\u001b[A\n",
      " 27%|██▋       | 1006/3776 [00:31<01:22, 33.51it/s]\u001b[A\n",
      " 27%|██▋       | 1010/3776 [00:31<01:22, 33.52it/s]\u001b[A\n",
      " 27%|██▋       | 1014/3776 [00:31<01:22, 33.53it/s]\u001b[A\n",
      " 27%|██▋       | 1018/3776 [00:31<01:22, 33.47it/s]\u001b[A\n",
      " 27%|██▋       | 1022/3776 [00:31<01:22, 33.48it/s]\u001b[A\n",
      " 27%|██▋       | 1026/3776 [00:31<01:22, 33.49it/s]\u001b[A\n",
      " 27%|██▋       | 1030/3776 [00:32<01:21, 33.50it/s]\u001b[A\n",
      " 27%|██▋       | 1034/3776 [00:32<01:21, 33.50it/s]\u001b[A\n",
      " 27%|██▋       | 1038/3776 [00:32<01:21, 33.51it/s]\u001b[A\n",
      " 28%|██▊       | 1042/3776 [00:32<01:21, 33.46it/s]\u001b[A\n",
      " 28%|██▊       | 1046/3776 [00:32<01:21, 33.48it/s]\u001b[A\n",
      " 28%|██▊       | 1050/3776 [00:32<01:21, 33.50it/s]\u001b[A\n",
      " 28%|██▊       | 1054/3776 [00:32<01:21, 33.52it/s]\u001b[A\n",
      " 28%|██▊       | 1058/3776 [00:32<01:21, 33.52it/s]\u001b[A\n",
      " 28%|██▊       | 1062/3776 [00:32<01:20, 33.53it/s]\u001b[A\n",
      " 28%|██▊       | 1066/3776 [00:33<01:20, 33.46it/s]\u001b[A\n",
      " 28%|██▊       | 1070/3776 [00:33<01:20, 33.48it/s]\u001b[A\n",
      " 28%|██▊       | 1074/3776 [00:33<01:20, 33.50it/s]\u001b[A\n",
      " 29%|██▊       | 1078/3776 [00:33<01:20, 33.51it/s]\u001b[A\n",
      " 29%|██▊       | 1082/3776 [00:33<01:20, 33.45it/s]\u001b[A\n",
      " 29%|██▉       | 1086/3776 [00:33<01:20, 33.40it/s]\u001b[A\n",
      " 29%|██▉       | 1090/3776 [00:33<01:20, 33.38it/s]\u001b[A\n",
      " 29%|██▉       | 1094/3776 [00:33<01:20, 33.42it/s]\u001b[A\n",
      " 29%|██▉       | 1098/3776 [00:34<01:20, 33.46it/s]\u001b[A\n",
      " 29%|██▉       | 1102/3776 [00:34<01:19, 33.48it/s]\u001b[A\n",
      " 29%|██▉       | 1106/3776 [00:34<01:19, 33.53it/s]\u001b[A\n",
      " 29%|██▉       | 1110/3776 [00:34<01:19, 33.48it/s]\u001b[A\n",
      " 30%|██▉       | 1114/3776 [00:34<01:19, 33.46it/s]\u001b[A\n",
      " 30%|██▉       | 1118/3776 [00:34<01:19, 33.43it/s]\u001b[A\n",
      " 30%|██▉       | 1122/3776 [00:34<01:19, 33.48it/s]\u001b[A\n",
      " 30%|██▉       | 1126/3776 [00:34<01:19, 33.51it/s]\u001b[A\n",
      " 30%|██▉       | 1130/3776 [00:35<01:18, 33.50it/s]\u001b[A\n",
      " 30%|███       | 1134/3776 [00:35<01:19, 33.44it/s]\u001b[A\n",
      " 30%|███       | 1138/3776 [00:35<01:18, 33.45it/s]\u001b[A\n",
      " 30%|███       | 1142/3776 [00:35<01:18, 33.34it/s]\u001b[A\n",
      " 30%|███       | 1146/3776 [00:35<01:18, 33.48it/s]\u001b[A\n",
      " 30%|███       | 1150/3776 [00:35<01:18, 33.48it/s]\u001b[A\n",
      " 31%|███       | 1154/3776 [00:35<01:18, 33.43it/s]\u001b[A\n",
      " 31%|███       | 1158/3776 [00:35<01:18, 33.34it/s]\u001b[A\n",
      " 31%|███       | 1162/3776 [00:35<01:18, 33.29it/s]\u001b[A\n",
      " 31%|███       | 1166/3776 [00:36<01:18, 33.36it/s]\u001b[A\n",
      " 31%|███       | 1170/3776 [00:36<01:18, 33.40it/s]\u001b[A\n",
      " 31%|███       | 1174/3776 [00:36<01:17, 33.39it/s]\u001b[A\n",
      " 31%|███       | 1178/3776 [00:36<01:17, 33.37it/s]\u001b[A\n",
      " 31%|███▏      | 1182/3776 [00:36<01:17, 33.40it/s]\u001b[A\n",
      " 31%|███▏      | 1186/3776 [00:36<01:17, 33.42it/s]\u001b[A\n",
      " 32%|███▏      | 1190/3776 [00:36<01:17, 33.22it/s]\u001b[A\n",
      " 32%|███▏      | 1194/3776 [00:36<01:19, 32.49it/s]\u001b[A\n",
      " 32%|███▏      | 1198/3776 [00:37<01:20, 31.86it/s]\u001b[A\n",
      " 32%|███▏      | 1202/3776 [00:37<01:22, 31.35it/s]\u001b[A\n"
     ]
    },
    {
     "name": "stderr",
     "output_type": "stream",
     "text": [
      " 32%|███▏      | 1206/3776 [00:37<01:22, 31.19it/s]\u001b[A\n",
      " 32%|███▏      | 1210/3776 [00:37<01:23, 30.88it/s]\u001b[A\n",
      " 32%|███▏      | 1214/3776 [00:37<01:23, 30.81it/s]\u001b[A\n",
      " 32%|███▏      | 1218/3776 [00:37<01:22, 30.91it/s]\u001b[A\n",
      " 32%|███▏      | 1222/3776 [00:37<01:21, 31.20it/s]\u001b[A\n",
      " 32%|███▏      | 1226/3776 [00:37<01:21, 31.46it/s]\u001b[A\n",
      " 33%|███▎      | 1230/3776 [00:38<01:20, 31.54it/s]\u001b[A\n",
      " 33%|███▎      | 1234/3776 [00:38<01:20, 31.68it/s]\u001b[A\n",
      " 33%|███▎      | 1238/3776 [00:38<01:20, 31.61it/s]\u001b[A\n",
      " 33%|███▎      | 1242/3776 [00:38<01:19, 31.92it/s]\u001b[A\n",
      " 33%|███▎      | 1246/3776 [00:38<01:18, 32.09it/s]\u001b[A\n",
      " 33%|███▎      | 1250/3776 [00:38<01:18, 32.25it/s]\u001b[A\n",
      " 33%|███▎      | 1254/3776 [00:38<01:17, 32.42it/s]\u001b[A\n",
      " 33%|███▎      | 1258/3776 [00:38<01:18, 32.03it/s]\u001b[A\n",
      " 33%|███▎      | 1262/3776 [00:39<01:18, 31.92it/s]\u001b[A\n",
      " 34%|███▎      | 1266/3776 [00:39<01:18, 31.88it/s]\u001b[A\n",
      " 34%|███▎      | 1270/3776 [00:39<01:18, 31.72it/s]\u001b[A\n",
      " 34%|███▎      | 1274/3776 [00:39<01:19, 31.54it/s]\u001b[A\n",
      " 34%|███▍      | 1278/3776 [00:39<01:19, 31.32it/s]\u001b[A\n",
      " 34%|███▍      | 1282/3776 [00:39<01:19, 31.50it/s]\u001b[A\n",
      " 34%|███▍      | 1286/3776 [00:39<01:18, 31.71it/s]\u001b[A\n",
      " 34%|███▍      | 1290/3776 [00:39<01:18, 31.67it/s]\u001b[A\n",
      " 34%|███▍      | 1294/3776 [00:40<01:19, 31.32it/s]\u001b[A\n",
      " 34%|███▍      | 1298/3776 [00:40<01:19, 31.19it/s]\u001b[A\n",
      " 34%|███▍      | 1302/3776 [00:40<01:19, 31.31it/s]\u001b[A\n",
      " 35%|███▍      | 1306/3776 [00:40<01:19, 31.21it/s]\u001b[A\n",
      " 35%|███▍      | 1310/3776 [00:40<01:19, 31.15it/s]\u001b[A\n",
      " 35%|███▍      | 1314/3776 [00:40<01:18, 31.42it/s]\u001b[A\n",
      " 35%|███▍      | 1318/3776 [00:40<01:19, 31.10it/s]\u001b[A\n",
      " 35%|███▌      | 1322/3776 [00:41<01:18, 31.30it/s]\u001b[A\n",
      " 35%|███▌      | 1326/3776 [00:41<01:18, 31.30it/s]\u001b[A\n",
      " 35%|███▌      | 1330/3776 [00:41<01:17, 31.38it/s]\u001b[A\n",
      " 35%|███▌      | 1334/3776 [00:41<01:17, 31.58it/s]\u001b[A\n",
      " 35%|███▌      | 1338/3776 [00:41<01:17, 31.49it/s]\u001b[A\n",
      " 36%|███▌      | 1342/3776 [00:41<01:17, 31.48it/s]\u001b[A\n",
      " 36%|███▌      | 1346/3776 [00:41<01:18, 31.05it/s]\u001b[A\n",
      " 36%|███▌      | 1350/3776 [00:41<01:18, 31.01it/s]\u001b[A\n",
      " 36%|███▌      | 1354/3776 [00:42<01:18, 30.93it/s]\u001b[A\n",
      " 36%|███▌      | 1358/3776 [00:42<01:17, 31.18it/s]\u001b[A\n",
      " 36%|███▌      | 1362/3776 [00:42<01:16, 31.38it/s]\u001b[A\n",
      " 36%|███▌      | 1366/3776 [00:42<01:16, 31.47it/s]\u001b[A\n",
      " 36%|███▋      | 1370/3776 [00:42<01:16, 31.56it/s]\u001b[A\n",
      " 36%|███▋      | 1374/3776 [00:42<01:16, 31.32it/s]\u001b[A\n",
      " 36%|███▋      | 1378/3776 [00:42<01:16, 31.47it/s]\u001b[A\n",
      " 37%|███▋      | 1382/3776 [00:42<01:15, 31.51it/s]\u001b[A\n",
      " 37%|███▋      | 1386/3776 [00:43<01:15, 31.57it/s]\u001b[A\n",
      " 37%|███▋      | 1390/3776 [00:43<01:15, 31.63it/s]\u001b[A\n",
      " 37%|███▋      | 1394/3776 [00:43<01:15, 31.46it/s]\u001b[A\n",
      " 37%|███▋      | 1398/3776 [00:43<01:16, 31.26it/s]\u001b[A\n",
      " 37%|███▋      | 1402/3776 [00:43<01:15, 31.26it/s]\u001b[A\n",
      " 37%|███▋      | 1406/3776 [00:43<01:16, 30.98it/s]\u001b[A\n",
      " 37%|███▋      | 1410/3776 [00:43<01:16, 30.77it/s]\u001b[A\n",
      " 37%|███▋      | 1414/3776 [00:43<01:17, 30.63it/s]\u001b[A\n",
      " 38%|███▊      | 1418/3776 [00:44<01:16, 30.84it/s]\u001b[A\n",
      " 38%|███▊      | 1422/3776 [00:44<01:15, 31.05it/s]\u001b[A\n",
      " 38%|███▊      | 1426/3776 [00:44<01:15, 31.31it/s]\u001b[A\n",
      " 38%|███▊      | 1430/3776 [00:44<01:14, 31.37it/s]\u001b[A\n",
      " 38%|███▊      | 1434/3776 [00:44<01:14, 31.44it/s]\u001b[A\n",
      " 38%|███▊      | 1438/3776 [00:44<01:14, 31.23it/s]\u001b[A\n",
      " 38%|███▊      | 1442/3776 [00:44<01:14, 31.38it/s]\u001b[A\n",
      " 38%|███▊      | 1446/3776 [00:44<01:13, 31.50it/s]\u001b[A\n",
      " 38%|███▊      | 1450/3776 [00:45<01:13, 31.44it/s]\u001b[A\n",
      " 39%|███▊      | 1454/3776 [00:45<01:13, 31.47it/s]\u001b[A\n",
      " 39%|███▊      | 1458/3776 [00:45<01:13, 31.57it/s]\u001b[A\n",
      " 39%|███▊      | 1462/3776 [00:45<01:13, 31.62it/s]\u001b[A\n",
      " 39%|███▉      | 1466/3776 [00:45<01:13, 31.61it/s]\u001b[A\n",
      " 39%|███▉      | 1470/3776 [00:45<01:13, 31.55it/s]\u001b[A\n",
      " 39%|███▉      | 1474/3776 [00:45<01:13, 31.51it/s]\u001b[A\n",
      " 39%|███▉      | 1478/3776 [00:45<01:13, 31.12it/s]\u001b[A\n",
      " 39%|███▉      | 1482/3776 [00:46<01:15, 30.46it/s]\u001b[A\n",
      " 39%|███▉      | 1486/3776 [00:46<01:16, 30.10it/s]\u001b[A\n",
      " 39%|███▉      | 1490/3776 [00:46<01:16, 29.88it/s]\u001b[A\n",
      " 40%|███▉      | 1493/3776 [00:46<01:16, 29.72it/s]\u001b[A\n",
      " 40%|███▉      | 1496/3776 [00:46<01:17, 29.61it/s]\u001b[A\n",
      " 40%|███▉      | 1499/3776 [00:46<01:17, 29.33it/s]\u001b[A\n",
      " 40%|███▉      | 1502/3776 [00:46<01:17, 29.32it/s]\u001b[A\n",
      " 40%|███▉      | 1505/3776 [00:46<01:17, 29.30it/s]\u001b[A\n",
      " 40%|███▉      | 1508/3776 [00:47<01:17, 29.31it/s]\u001b[A\n",
      " 40%|████      | 1511/3776 [00:47<01:17, 29.31it/s]\u001b[A\n",
      " 40%|████      | 1514/3776 [00:47<01:17, 29.32it/s]\u001b[A\n",
      " 40%|████      | 1517/3776 [00:47<01:17, 29.31it/s]\u001b[A\n",
      " 40%|████      | 1520/3776 [00:47<01:16, 29.32it/s]\u001b[A\n",
      " 40%|████      | 1523/3776 [00:47<01:16, 29.30it/s]\u001b[A\n",
      " 40%|████      | 1526/3776 [00:47<01:16, 29.32it/s]\u001b[A\n",
      " 40%|████      | 1529/3776 [00:47<01:16, 29.31it/s]\u001b[A\n",
      " 41%|████      | 1532/3776 [00:47<01:16, 29.32it/s]\u001b[A\n",
      " 41%|████      | 1535/3776 [00:47<01:16, 29.31it/s]\u001b[A\n",
      " 41%|████      | 1538/3776 [00:48<01:16, 29.32it/s]\u001b[A\n",
      " 41%|████      | 1541/3776 [00:48<01:16, 29.30it/s]\u001b[A\n",
      " 41%|████      | 1544/3776 [00:48<01:16, 29.32it/s]\u001b[A\n",
      " 41%|████      | 1547/3776 [00:48<01:15, 29.35it/s]\u001b[A\n",
      " 41%|████      | 1550/3776 [00:48<01:16, 29.29it/s]\u001b[A\n",
      " 41%|████      | 1553/3776 [00:48<01:15, 29.42it/s]\u001b[A\n",
      " 41%|████      | 1556/3776 [00:48<01:15, 29.51it/s]\u001b[A\n",
      " 41%|████▏     | 1559/3776 [00:48<01:14, 29.60it/s]\u001b[A\n",
      " 41%|████▏     | 1563/3776 [00:48<01:14, 29.84it/s]\u001b[A\n",
      " 41%|████▏     | 1567/3776 [00:49<01:13, 30.17it/s]\u001b[A\n",
      " 42%|████▏     | 1571/3776 [00:49<01:12, 30.51it/s]\u001b[A\n",
      " 42%|████▏     | 1575/3776 [00:49<01:12, 30.55it/s]\u001b[A\n",
      " 42%|████▏     | 1579/3776 [00:49<01:11, 30.74it/s]\u001b[A\n",
      " 42%|████▏     | 1583/3776 [00:49<01:10, 30.95it/s]\u001b[A\n",
      " 42%|████▏     | 1587/3776 [00:49<01:10, 31.09it/s]\u001b[A\n",
      " 42%|████▏     | 1591/3776 [00:49<01:09, 31.33it/s]\u001b[A\n",
      " 42%|████▏     | 1595/3776 [00:49<01:09, 31.31it/s]\u001b[A\n",
      " 42%|████▏     | 1599/3776 [00:50<01:10, 31.04it/s]\u001b[A\n",
      " 42%|████▏     | 1603/3776 [00:50<01:10, 30.67it/s]\u001b[A\n",
      " 43%|████▎     | 1607/3776 [00:50<01:11, 30.25it/s]\u001b[A\n",
      " 43%|████▎     | 1611/3776 [00:50<01:11, 30.23it/s]\u001b[A\n",
      " 43%|████▎     | 1615/3776 [00:50<01:11, 30.21it/s]\u001b[A\n",
      " 43%|████▎     | 1619/3776 [00:50<01:11, 30.26it/s]\u001b[A\n",
      " 43%|████▎     | 1623/3776 [00:50<01:10, 30.35it/s]\u001b[A\n",
      " 43%|████▎     | 1627/3776 [00:50<01:10, 30.60it/s]\u001b[A\n",
      " 43%|████▎     | 1631/3776 [00:51<01:09, 30.82it/s]\u001b[A\n",
      " 43%|████▎     | 1635/3776 [00:51<01:09, 31.02it/s]\u001b[A\n",
      " 43%|████▎     | 1639/3776 [00:51<01:09, 30.87it/s]\u001b[A\n",
      " 44%|████▎     | 1643/3776 [00:51<01:09, 30.56it/s]\u001b[A\n",
      " 44%|████▎     | 1647/3776 [00:51<01:10, 30.06it/s]\u001b[A\n",
      " 44%|████▎     | 1651/3776 [00:51<01:11, 29.87it/s]\u001b[A\n",
      " 44%|████▍     | 1655/3776 [00:51<01:10, 30.25it/s]\u001b[A\n",
      " 44%|████▍     | 1659/3776 [00:52<01:10, 30.15it/s]\u001b[A\n",
      " 44%|████▍     | 1663/3776 [00:52<01:10, 29.96it/s]\u001b[A\n",
      " 44%|████▍     | 1666/3776 [00:52<01:10, 29.78it/s]\u001b[A\n",
      " 44%|████▍     | 1669/3776 [00:52<01:11, 29.62it/s]\u001b[A\n",
      " 44%|████▍     | 1672/3776 [00:52<01:11, 29.62it/s]\u001b[A\n",
      " 44%|████▍     | 1675/3776 [00:52<01:11, 29.56it/s]\u001b[A\n",
      " 44%|████▍     | 1678/3776 [00:52<01:11, 29.49it/s]\u001b[A\n",
      " 45%|████▍     | 1681/3776 [00:52<01:11, 29.43it/s]\u001b[A\n",
      " 45%|████▍     | 1684/3776 [00:52<01:11, 29.23it/s]\u001b[A\n",
      " 45%|████▍     | 1687/3776 [00:52<01:11, 29.25it/s]\u001b[A\n",
      " 45%|████▍     | 1691/3776 [00:53<01:10, 29.72it/s]\u001b[A\n",
      " 45%|████▍     | 1695/3776 [00:53<01:09, 30.03it/s]\u001b[A\n",
      " 45%|████▍     | 1699/3776 [00:53<01:08, 30.52it/s]\u001b[A\n",
      " 45%|████▌     | 1703/3776 [00:53<01:07, 30.89it/s]\u001b[A\n",
      " 45%|████▌     | 1707/3776 [00:53<01:06, 31.14it/s]\u001b[A\n",
      " 45%|████▌     | 1711/3776 [00:53<01:05, 31.34it/s]\u001b[A\n",
      " 45%|████▌     | 1715/3776 [00:53<01:06, 31.19it/s]\u001b[A\n",
      " 46%|████▌     | 1719/3776 [00:53<01:05, 31.38it/s]\u001b[A\n",
      " 46%|████▌     | 1723/3776 [00:54<01:05, 31.49it/s]\u001b[A\n",
      " 46%|████▌     | 1727/3776 [00:54<01:04, 31.60it/s]\u001b[A\n",
      " 46%|████▌     | 1731/3776 [00:54<01:04, 31.66it/s]\u001b[A\n",
      " 46%|████▌     | 1735/3776 [00:54<01:04, 31.72it/s]\u001b[A\n",
      " 46%|████▌     | 1739/3776 [00:54<01:04, 31.74it/s]\u001b[A\n",
      " 46%|████▌     | 1743/3776 [00:54<01:04, 31.47it/s]\u001b[A\n",
      " 46%|████▋     | 1747/3776 [00:54<01:04, 31.58it/s]\u001b[A\n",
      " 46%|████▋     | 1751/3776 [00:55<01:04, 31.64it/s]\u001b[A\n",
      " 46%|████▋     | 1755/3776 [00:55<01:03, 31.69it/s]\u001b[A\n",
      " 47%|████▋     | 1759/3776 [00:55<01:03, 31.72it/s]\u001b[A\n",
      " 47%|████▋     | 1763/3776 [00:55<01:04, 31.44it/s]\u001b[A\n"
     ]
    },
    {
     "name": "stderr",
     "output_type": "stream",
     "text": [
      " 47%|████▋     | 1767/3776 [00:55<01:03, 31.55it/s]\u001b[A\n",
      " 47%|████▋     | 1771/3776 [00:55<01:03, 31.63it/s]\u001b[A\n",
      " 47%|████▋     | 1775/3776 [00:55<01:03, 31.68it/s]\u001b[A\n",
      " 47%|████▋     | 1779/3776 [00:55<01:02, 32.02it/s]\u001b[A\n",
      " 47%|████▋     | 1783/3776 [00:56<01:01, 32.26it/s]\u001b[A\n",
      " 47%|████▋     | 1787/3776 [00:56<01:01, 32.36it/s]\u001b[A\n",
      " 47%|████▋     | 1791/3776 [00:56<01:01, 32.51it/s]\u001b[A\n",
      " 48%|████▊     | 1795/3776 [00:56<01:00, 32.62it/s]\u001b[A\n",
      " 48%|████▊     | 1799/3776 [00:56<01:00, 32.62it/s]\u001b[A\n",
      " 48%|████▊     | 1803/3776 [00:56<01:00, 32.69it/s]\u001b[A\n",
      " 48%|████▊     | 1807/3776 [00:56<01:00, 32.73it/s]\u001b[A\n",
      " 48%|████▊     | 1811/3776 [00:56<01:00, 32.70it/s]\u001b[A\n",
      " 48%|████▊     | 1815/3776 [00:56<01:00, 32.42it/s]\u001b[A\n",
      " 48%|████▊     | 1819/3776 [00:57<01:00, 32.49it/s]\u001b[A\n",
      " 48%|████▊     | 1823/3776 [00:57<00:59, 32.59it/s]\u001b[A\n",
      " 48%|████▊     | 1827/3776 [00:57<00:59, 32.67it/s]\u001b[A\n",
      " 48%|████▊     | 1831/3776 [00:57<00:59, 32.73it/s]\u001b[A\n",
      " 49%|████▊     | 1835/3776 [00:57<00:59, 32.69it/s]\u001b[A\n",
      " 49%|████▊     | 1839/3776 [00:57<00:59, 32.74it/s]\u001b[A\n",
      " 49%|████▉     | 1843/3776 [00:57<00:58, 32.78it/s]\u001b[A\n",
      " 49%|████▉     | 1847/3776 [00:57<00:58, 32.74it/s]\u001b[A\n",
      " 49%|████▉     | 1851/3776 [00:58<00:58, 32.77it/s]\u001b[A\n",
      " 49%|████▉     | 1855/3776 [00:58<00:58, 32.81it/s]\u001b[A\n",
      " 49%|████▉     | 1859/3776 [00:58<00:58, 32.74it/s]\u001b[A\n",
      " 49%|████▉     | 1863/3776 [00:58<00:58, 32.77it/s]\u001b[A\n",
      " 49%|████▉     | 1867/3776 [00:58<00:58, 32.80it/s]\u001b[A\n",
      " 50%|████▉     | 1871/3776 [00:58<00:58, 32.74it/s]\u001b[A\n",
      " 50%|████▉     | 1875/3776 [00:58<00:58, 32.77it/s]\u001b[A\n",
      " 50%|████▉     | 1879/3776 [00:58<00:57, 32.79it/s]\u001b[A\n",
      " 50%|████▉     | 1883/3776 [00:59<00:57, 32.74it/s]\u001b[A\n",
      " 50%|████▉     | 1887/3776 [00:59<00:57, 32.77it/s]\u001b[A\n",
      " 50%|█████     | 1891/3776 [00:59<00:57, 32.80it/s]\u001b[A\n",
      " 50%|█████     | 1895/3776 [00:59<00:57, 32.74it/s]\u001b[A\n",
      " 50%|█████     | 1899/3776 [00:59<00:57, 32.77it/s]\u001b[A\n",
      " 50%|█████     | 1903/3776 [00:59<00:57, 32.79it/s]\u001b[A\n",
      " 51%|█████     | 1907/3776 [00:59<00:56, 32.82it/s]\u001b[A\n",
      " 51%|█████     | 1911/3776 [00:59<00:56, 32.83it/s]\u001b[A\n",
      " 51%|█████     | 1915/3776 [01:00<00:56, 32.83it/s]\u001b[A\n",
      " 51%|█████     | 1919/3776 [01:00<00:56, 32.84it/s]\u001b[A\n",
      " 51%|█████     | 1923/3776 [01:00<00:56, 32.77it/s]\u001b[A\n",
      " 51%|█████     | 1927/3776 [01:00<00:56, 32.79it/s]\u001b[A\n",
      " 51%|█████     | 1931/3776 [01:00<00:56, 32.81it/s]\u001b[A\n",
      " 51%|█████     | 1935/3776 [01:00<00:56, 32.77it/s]\u001b[A\n",
      " 51%|█████▏    | 1939/3776 [01:00<00:56, 32.80it/s]\u001b[A\n",
      " 51%|█████▏    | 1943/3776 [01:00<00:55, 32.82it/s]\u001b[A\n",
      " 52%|█████▏    | 1947/3776 [01:01<00:55, 32.76it/s]\u001b[A\n",
      " 52%|█████▏    | 1951/3776 [01:01<00:55, 32.79it/s]\u001b[A\n",
      " 52%|█████▏    | 1955/3776 [01:01<00:55, 32.79it/s]\u001b[A\n",
      " 52%|█████▏    | 1959/3776 [01:01<00:55, 32.74it/s]\u001b[A\n",
      " 52%|█████▏    | 1963/3776 [01:01<00:55, 32.77it/s]\u001b[A\n",
      " 52%|█████▏    | 1967/3776 [01:01<00:55, 32.64it/s]\u001b[A\n",
      " 52%|█████▏    | 1971/3776 [01:01<00:55, 32.69it/s]\u001b[A\n",
      " 52%|█████▏    | 1975/3776 [01:01<00:54, 32.75it/s]\u001b[A\n",
      " 52%|█████▏    | 1979/3776 [01:01<00:54, 32.77it/s]\u001b[A\n",
      " 53%|█████▎    | 1983/3776 [01:02<00:54, 32.72it/s]\u001b[A\n",
      " 53%|█████▎    | 1987/3776 [01:02<00:54, 32.76it/s]\u001b[A\n",
      " 53%|█████▎    | 1991/3776 [01:02<00:54, 32.77it/s]\u001b[A\n",
      " 53%|█████▎    | 1995/3776 [01:02<00:54, 32.73it/s]\u001b[A\n",
      " 53%|█████▎    | 1999/3776 [01:02<00:54, 32.77it/s]\u001b[A\n",
      " 53%|█████▎    | 2003/3776 [01:02<00:54, 32.82it/s]\u001b[A\n",
      " 53%|█████▎    | 2007/3776 [01:02<00:53, 32.86it/s]\u001b[A\n",
      " 53%|█████▎    | 2011/3776 [01:02<00:53, 32.85it/s]\u001b[A\n",
      " 53%|█████▎    | 2015/3776 [01:03<00:53, 32.84it/s]\u001b[A\n",
      " 53%|█████▎    | 2019/3776 [01:03<00:53, 32.83it/s]\u001b[A\n",
      " 54%|█████▎    | 2023/3776 [01:03<00:53, 32.84it/s]\u001b[A\n",
      " 54%|█████▎    | 2027/3776 [01:03<00:53, 32.84it/s]\u001b[A\n",
      " 54%|█████▍    | 2031/3776 [01:03<00:53, 32.78it/s]\u001b[A\n",
      " 54%|█████▍    | 2035/3776 [01:03<00:53, 32.78it/s]\u001b[A\n",
      " 54%|█████▍    | 2039/3776 [01:03<00:52, 32.80it/s]\u001b[A\n",
      " 54%|█████▍    | 2043/3776 [01:03<00:52, 32.81it/s]\u001b[A\n",
      " 54%|█████▍    | 2047/3776 [01:04<00:52, 32.74it/s]\u001b[A\n",
      " 54%|█████▍    | 2051/3776 [01:04<00:52, 32.76it/s]\u001b[A\n",
      " 54%|█████▍    | 2055/3776 [01:04<00:52, 32.78it/s]\u001b[A\n",
      " 55%|█████▍    | 2059/3776 [01:04<00:52, 32.73it/s]\u001b[A\n",
      " 55%|█████▍    | 2063/3776 [01:04<00:52, 32.77it/s]\u001b[A\n",
      " 55%|█████▍    | 2067/3776 [01:04<00:52, 32.79it/s]\u001b[A\n",
      " 55%|█████▍    | 2071/3776 [01:04<00:52, 32.71it/s]\u001b[A\n",
      " 55%|█████▍    | 2075/3776 [01:04<00:51, 32.75it/s]\u001b[A\n",
      " 55%|█████▌    | 2079/3776 [01:05<00:51, 32.77it/s]\u001b[A\n",
      " 55%|█████▌    | 2083/3776 [01:05<00:51, 32.72it/s]\u001b[A\n",
      " 55%|█████▌    | 2087/3776 [01:05<00:51, 32.75it/s]\u001b[A\n",
      " 55%|█████▌    | 2091/3776 [01:05<00:51, 32.77it/s]\u001b[A\n",
      " 55%|█████▌    | 2095/3776 [01:05<00:51, 32.72it/s]\u001b[A\n",
      " 56%|█████▌    | 2099/3776 [01:05<00:51, 32.75it/s]\u001b[A\n",
      " 56%|█████▌    | 2103/3776 [01:05<00:51, 32.76it/s]\u001b[A\n",
      " 56%|█████▌    | 2107/3776 [01:05<00:51, 32.71it/s]\u001b[A\n",
      " 56%|█████▌    | 2111/3776 [01:06<00:50, 32.75it/s]\u001b[A\n",
      " 56%|█████▌    | 2115/3776 [01:06<00:50, 32.77it/s]\u001b[A\n",
      " 56%|█████▌    | 2119/3776 [01:06<00:50, 32.72it/s]\u001b[A\n",
      " 56%|█████▌    | 2123/3776 [01:06<00:50, 32.75it/s]\u001b[A\n",
      " 56%|█████▋    | 2127/3776 [01:06<00:50, 32.78it/s]\u001b[A\n",
      " 56%|█████▋    | 2131/3776 [01:06<00:50, 32.72it/s]\u001b[A\n",
      " 57%|█████▋    | 2135/3776 [01:06<00:50, 32.75it/s]\u001b[A\n",
      " 57%|█████▋    | 2139/3776 [01:06<00:49, 32.77it/s]\u001b[A\n",
      " 57%|█████▋    | 2143/3776 [01:06<00:49, 32.73it/s]\u001b[A\n",
      " 57%|█████▋    | 2147/3776 [01:07<00:49, 32.76it/s]\u001b[A\n",
      " 57%|█████▋    | 2151/3776 [01:07<00:49, 32.77it/s]\u001b[A\n",
      " 57%|█████▋    | 2155/3776 [01:07<00:49, 32.71it/s]\u001b[A\n",
      " 57%|█████▋    | 2159/3776 [01:07<00:49, 32.75it/s]\u001b[A\n",
      " 57%|█████▋    | 2163/3776 [01:07<00:49, 32.77it/s]\u001b[A\n",
      " 57%|█████▋    | 2167/3776 [01:07<00:49, 32.72it/s]\u001b[A\n",
      " 57%|█████▋    | 2171/3776 [01:07<00:49, 32.75it/s]\u001b[A\n",
      " 58%|█████▊    | 2175/3776 [01:07<00:48, 32.78it/s]\u001b[A\n",
      " 58%|█████▊    | 2179/3776 [01:08<00:48, 32.72it/s]\u001b[A\n",
      " 58%|█████▊    | 2183/3776 [01:08<00:48, 32.75it/s]\u001b[A\n",
      " 58%|█████▊    | 2187/3776 [01:08<00:48, 32.77it/s]\u001b[A\n",
      " 58%|█████▊    | 2191/3776 [01:08<00:48, 32.79it/s]\u001b[A\n",
      " 58%|█████▊    | 2195/3776 [01:08<00:48, 32.80it/s]\u001b[A\n",
      " 58%|█████▊    | 2199/3776 [01:08<00:48, 32.80it/s]\u001b[A\n",
      " 58%|█████▊    | 2203/3776 [01:08<00:47, 32.80it/s]\u001b[A\n",
      " 58%|█████▊    | 2207/3776 [01:08<00:47, 32.80it/s]\u001b[A\n",
      " 59%|█████▊    | 2211/3776 [01:09<00:47, 32.81it/s]\u001b[A\n",
      " 59%|█████▊    | 2215/3776 [01:09<00:47, 32.82it/s]\u001b[A\n",
      " 59%|█████▉    | 2219/3776 [01:09<00:47, 32.76it/s]\u001b[A\n",
      " 59%|█████▉    | 2223/3776 [01:09<00:47, 32.77it/s]\u001b[A\n",
      " 59%|█████▉    | 2227/3776 [01:09<00:47, 32.79it/s]\u001b[A\n",
      " 59%|█████▉    | 2231/3776 [01:09<00:47, 32.73it/s]\u001b[A\n",
      " 59%|█████▉    | 2235/3776 [01:09<00:47, 32.76it/s]\u001b[A\n",
      " 59%|█████▉    | 2239/3776 [01:09<00:46, 32.78it/s]\u001b[A\n",
      " 59%|█████▉    | 2243/3776 [01:10<00:46, 32.72it/s]\u001b[A\n",
      " 60%|█████▉    | 2247/3776 [01:10<00:46, 32.75it/s]\u001b[A\n",
      " 60%|█████▉    | 2251/3776 [01:10<00:46, 32.78it/s]\u001b[A\n",
      " 60%|█████▉    | 2255/3776 [01:10<00:46, 32.73it/s]\u001b[A\n",
      " 60%|█████▉    | 2259/3776 [01:10<00:46, 32.76it/s]\u001b[A\n",
      " 60%|█████▉    | 2263/3776 [01:10<00:46, 32.79it/s]\u001b[A\n",
      " 60%|██████    | 2267/3776 [01:10<00:46, 32.73it/s]\u001b[A\n",
      " 60%|██████    | 2271/3776 [01:10<00:45, 32.76it/s]\u001b[A\n",
      " 60%|██████    | 2275/3776 [01:11<00:45, 32.79it/s]\u001b[A\n",
      " 60%|██████    | 2279/3776 [01:11<00:45, 32.74it/s]\u001b[A\n",
      " 60%|██████    | 2283/3776 [01:11<00:45, 32.77it/s]\u001b[A\n",
      " 61%|██████    | 2287/3776 [01:11<00:45, 32.79it/s]\u001b[A\n",
      " 61%|██████    | 2291/3776 [01:11<00:45, 32.72it/s]\u001b[A\n",
      " 61%|██████    | 2295/3776 [01:11<00:45, 32.76it/s]\u001b[A\n",
      " 61%|██████    | 2299/3776 [01:11<00:45, 32.78it/s]\u001b[A\n",
      " 61%|██████    | 2303/3776 [01:11<00:45, 32.72it/s]\u001b[A\n",
      " 61%|██████    | 2307/3776 [01:12<00:44, 32.75it/s]\u001b[A\n",
      " 61%|██████    | 2311/3776 [01:12<00:44, 32.78it/s]\u001b[A\n",
      " 61%|██████▏   | 2315/3776 [01:12<00:44, 32.72it/s]\u001b[A\n",
      " 61%|██████▏   | 2319/3776 [01:12<00:44, 32.76it/s]\u001b[A\n",
      " 62%|██████▏   | 2323/3776 [01:12<00:44, 32.77it/s]\u001b[A\n",
      " 62%|██████▏   | 2327/3776 [01:12<00:44, 32.73it/s]\u001b[A\n",
      " 62%|██████▏   | 2331/3776 [01:12<00:44, 32.76it/s]\u001b[A\n",
      " 62%|██████▏   | 2335/3776 [01:12<00:43, 32.78it/s]\u001b[A\n",
      " 62%|██████▏   | 2339/3776 [01:12<00:43, 32.78it/s]\u001b[A\n",
      " 62%|██████▏   | 2343/3776 [01:13<00:43, 32.80it/s]\u001b[A\n",
      " 62%|██████▏   | 2347/3776 [01:13<00:43, 32.81it/s]\u001b[A\n",
      " 62%|██████▏   | 2351/3776 [01:13<00:43, 32.73it/s]\u001b[A\n",
      " 62%|██████▏   | 2355/3776 [01:13<00:43, 32.76it/s]\u001b[A\n"
     ]
    },
    {
     "name": "stderr",
     "output_type": "stream",
     "text": [
      " 62%|██████▏   | 2359/3776 [01:13<00:43, 32.79it/s]\u001b[A\n",
      " 63%|██████▎   | 2363/3776 [01:13<00:43, 32.80it/s]\u001b[A\n",
      " 63%|██████▎   | 2367/3776 [01:13<00:42, 32.81it/s]\u001b[A\n",
      " 63%|██████▎   | 2371/3776 [01:13<00:42, 32.82it/s]\u001b[A\n",
      " 63%|██████▎   | 2375/3776 [01:14<00:42, 32.82it/s]\u001b[A\n",
      " 63%|██████▎   | 2379/3776 [01:14<00:42, 32.76it/s]\u001b[A\n",
      " 63%|██████▎   | 2383/3776 [01:14<00:42, 32.77it/s]\u001b[A\n",
      " 63%|██████▎   | 2387/3776 [01:14<00:42, 32.79it/s]\u001b[A\n",
      " 63%|██████▎   | 2391/3776 [01:14<00:42, 32.73it/s]\u001b[A\n",
      " 63%|██████▎   | 2395/3776 [01:14<00:42, 32.76it/s]\u001b[A\n",
      " 64%|██████▎   | 2399/3776 [01:14<00:41, 32.79it/s]\u001b[A\n",
      " 64%|██████▎   | 2403/3776 [01:14<00:41, 32.74it/s]\u001b[A\n",
      " 64%|██████▎   | 2407/3776 [01:15<00:41, 32.76it/s]\u001b[A\n",
      " 64%|██████▍   | 2411/3776 [01:15<00:41, 32.77it/s]\u001b[A\n",
      " 64%|██████▍   | 2415/3776 [01:15<00:41, 32.59it/s]\u001b[A\n",
      " 64%|██████▍   | 2419/3776 [01:15<00:41, 32.66it/s]\u001b[A\n",
      " 64%|██████▍   | 2423/3776 [01:15<00:41, 32.70it/s]\u001b[A\n",
      " 64%|██████▍   | 2427/3776 [01:15<00:41, 32.74it/s]\u001b[A\n",
      " 64%|██████▍   | 2431/3776 [01:15<00:41, 32.76it/s]\u001b[A\n",
      " 64%|██████▍   | 2435/3776 [01:15<00:40, 32.78it/s]\u001b[A\n",
      " 65%|██████▍   | 2439/3776 [01:16<00:40, 32.72it/s]\u001b[A\n",
      " 65%|██████▍   | 2443/3776 [01:16<00:40, 32.74it/s]\u001b[A\n",
      " 65%|██████▍   | 2447/3776 [01:16<00:40, 32.77it/s]\u001b[A\n",
      " 65%|██████▍   | 2451/3776 [01:16<00:40, 32.72it/s]\u001b[A\n",
      " 65%|██████▌   | 2455/3776 [01:16<00:40, 32.76it/s]\u001b[A\n",
      " 65%|██████▌   | 2459/3776 [01:16<00:40, 32.77it/s]\u001b[A\n",
      " 65%|██████▌   | 2463/3776 [01:16<00:40, 32.72it/s]\u001b[A\n",
      " 65%|██████▌   | 2467/3776 [01:16<00:39, 32.74it/s]\u001b[A\n",
      " 65%|██████▌   | 2471/3776 [01:17<00:39, 32.77it/s]\u001b[A\n",
      " 66%|██████▌   | 2475/3776 [01:17<00:39, 32.72it/s]\u001b[A\n",
      " 66%|██████▌   | 2479/3776 [01:17<00:39, 32.75it/s]\u001b[A\n",
      " 66%|██████▌   | 2483/3776 [01:17<00:39, 32.77it/s]\u001b[A\n",
      " 66%|██████▌   | 2487/3776 [01:17<00:39, 32.71it/s]\u001b[A\n",
      " 66%|██████▌   | 2491/3776 [01:17<00:39, 32.74it/s]\u001b[A\n",
      " 66%|██████▌   | 2495/3776 [01:17<00:39, 32.77it/s]\u001b[A\n",
      " 66%|██████▌   | 2499/3776 [01:17<00:39, 32.73it/s]\u001b[A\n",
      " 66%|██████▋   | 2503/3776 [01:17<00:38, 32.76it/s]\u001b[A\n",
      " 66%|██████▋   | 2507/3776 [01:18<00:38, 32.78it/s]\u001b[A\n",
      " 66%|██████▋   | 2511/3776 [01:18<00:38, 32.71it/s]\u001b[A\n",
      " 67%|██████▋   | 2515/3776 [01:18<00:38, 32.75it/s]\u001b[A\n",
      " 67%|██████▋   | 2519/3776 [01:18<00:38, 32.77it/s]\u001b[A\n",
      " 67%|██████▋   | 2523/3776 [01:18<00:38, 32.71it/s]\u001b[A\n",
      " 67%|██████▋   | 2527/3776 [01:18<00:38, 32.74it/s]\u001b[A\n",
      " 67%|██████▋   | 2531/3776 [01:18<00:38, 32.76it/s]\u001b[A\n",
      " 67%|██████▋   | 2535/3776 [01:18<00:37, 32.70it/s]\u001b[A\n",
      " 67%|██████▋   | 2539/3776 [01:19<00:37, 32.72it/s]\u001b[A\n",
      " 67%|██████▋   | 2543/3776 [01:19<00:37, 32.75it/s]\u001b[A\n",
      " 67%|██████▋   | 2547/3776 [01:19<00:37, 32.68it/s]\u001b[A\n",
      " 68%|██████▊   | 2551/3776 [01:19<00:37, 32.72it/s]\u001b[A\n",
      " 68%|██████▊   | 2555/3776 [01:19<00:37, 32.76it/s]\u001b[A\n",
      " 68%|██████▊   | 2559/3776 [01:19<00:37, 32.70it/s]\u001b[A\n",
      " 68%|██████▊   | 2563/3776 [01:19<00:37, 32.73it/s]\u001b[A\n",
      " 68%|██████▊   | 2567/3776 [01:19<00:36, 32.76it/s]\u001b[A\n",
      " 68%|██████▊   | 2571/3776 [01:20<00:36, 32.71it/s]\u001b[A\n",
      " 68%|██████▊   | 2575/3776 [01:20<00:36, 32.74it/s]\u001b[A\n",
      " 68%|██████▊   | 2579/3776 [01:20<00:36, 32.76it/s]\u001b[A\n",
      " 68%|██████▊   | 2583/3776 [01:20<00:36, 32.71it/s]\u001b[A\n",
      " 69%|██████▊   | 2587/3776 [01:20<00:36, 32.73it/s]\u001b[A\n",
      " 69%|██████▊   | 2591/3776 [01:20<00:36, 32.75it/s]\u001b[A\n",
      " 69%|██████▊   | 2595/3776 [01:20<00:36, 32.70it/s]\u001b[A\n",
      " 69%|██████▉   | 2599/3776 [01:20<00:35, 32.74it/s]\u001b[A\n",
      " 69%|██████▉   | 2603/3776 [01:21<00:35, 32.76it/s]\u001b[A\n",
      " 69%|██████▉   | 2607/3776 [01:21<00:35, 32.71it/s]\u001b[A\n",
      " 69%|██████▉   | 2611/3776 [01:21<00:35, 32.73it/s]\u001b[A\n",
      " 69%|██████▉   | 2615/3776 [01:21<00:35, 32.75it/s]\u001b[A\n",
      " 69%|██████▉   | 2619/3776 [01:21<00:35, 32.70it/s]\u001b[A\n",
      " 69%|██████▉   | 2623/3776 [01:21<00:35, 32.73it/s]\u001b[A\n",
      " 70%|██████▉   | 2627/3776 [01:21<00:35, 32.75it/s]\u001b[A\n",
      " 70%|██████▉   | 2631/3776 [01:21<00:35, 32.70it/s]\u001b[A\n",
      " 70%|██████▉   | 2635/3776 [01:22<00:34, 32.73it/s]\u001b[A\n",
      " 70%|██████▉   | 2639/3776 [01:22<00:34, 32.73it/s]\u001b[A\n",
      " 70%|██████▉   | 2643/3776 [01:22<00:34, 32.70it/s]\u001b[A\n",
      " 70%|███████   | 2647/3776 [01:22<00:34, 32.74it/s]\u001b[A\n",
      " 70%|███████   | 2651/3776 [01:22<00:34, 32.76it/s]\u001b[A\n",
      " 70%|███████   | 2655/3776 [01:22<00:34, 32.70it/s]\u001b[A\n",
      " 70%|███████   | 2659/3776 [01:22<00:34, 32.74it/s]\u001b[A\n",
      " 71%|███████   | 2663/3776 [01:22<00:33, 32.75it/s]\u001b[A\n",
      " 71%|███████   | 2667/3776 [01:22<00:33, 32.76it/s]\u001b[A\n",
      " 71%|███████   | 2671/3776 [01:23<00:33, 32.77it/s]\u001b[A\n",
      " 71%|███████   | 2675/3776 [01:23<00:33, 32.78it/s]\u001b[A\n",
      " 71%|███████   | 2679/3776 [01:23<00:33, 32.78it/s]\u001b[A\n",
      " 71%|███████   | 2683/3776 [01:23<00:33, 32.79it/s]\u001b[A\n",
      " 71%|███████   | 2687/3776 [01:23<00:33, 32.79it/s]\u001b[A\n",
      " 71%|███████▏  | 2691/3776 [01:23<00:33, 32.72it/s]\u001b[A\n",
      " 71%|███████▏  | 2695/3776 [01:23<00:33, 32.75it/s]\u001b[A\n",
      " 71%|███████▏  | 2699/3776 [01:23<00:32, 32.77it/s]\u001b[A\n",
      " 72%|███████▏  | 2703/3776 [01:24<00:32, 32.71it/s]\u001b[A\n",
      " 72%|███████▏  | 2707/3776 [01:24<00:32, 32.74it/s]\u001b[A\n",
      " 72%|███████▏  | 2711/3776 [01:24<00:32, 32.76it/s]\u001b[A\n",
      " 72%|███████▏  | 2715/3776 [01:24<00:32, 32.77it/s]\u001b[A\n",
      " 72%|███████▏  | 2719/3776 [01:24<00:32, 32.78it/s]\u001b[A\n",
      " 72%|███████▏  | 2723/3776 [01:24<00:32, 32.78it/s]\u001b[A\n",
      " 72%|███████▏  | 2727/3776 [01:24<00:31, 32.79it/s]\u001b[A\n",
      " 72%|███████▏  | 2731/3776 [01:24<00:31, 32.79it/s]\u001b[A\n",
      " 72%|███████▏  | 2735/3776 [01:25<00:31, 32.79it/s]\u001b[A\n",
      " 73%|███████▎  | 2739/3776 [01:25<00:31, 32.80it/s]\u001b[A\n",
      " 73%|███████▎  | 2743/3776 [01:25<00:31, 32.79it/s]\u001b[A\n",
      " 73%|███████▎  | 2747/3776 [01:25<00:31, 32.81it/s]\u001b[A\n",
      " 73%|███████▎  | 2751/3776 [01:25<00:31, 32.81it/s]\u001b[A\n",
      " 73%|███████▎  | 2755/3776 [01:25<00:31, 32.76it/s]\u001b[A\n",
      " 73%|███████▎  | 2759/3776 [01:25<00:31, 32.78it/s]\u001b[A\n",
      " 73%|███████▎  | 2763/3776 [01:25<00:30, 32.80it/s]\u001b[A\n",
      " 73%|███████▎  | 2767/3776 [01:26<00:30, 32.74it/s]\u001b[A\n",
      " 73%|███████▎  | 2771/3776 [01:26<00:30, 32.77it/s]\u001b[A\n",
      " 73%|███████▎  | 2775/3776 [01:26<00:30, 32.79it/s]\u001b[A\n",
      " 74%|███████▎  | 2779/3776 [01:26<00:30, 32.73it/s]\u001b[A\n",
      " 74%|███████▎  | 2783/3776 [01:26<00:30, 32.75it/s]\u001b[A\n",
      " 74%|███████▍  | 2787/3776 [01:26<00:30, 32.77it/s]\u001b[A\n",
      " 74%|███████▍  | 2791/3776 [01:26<00:30, 32.71it/s]\u001b[A\n",
      " 74%|███████▍  | 2795/3776 [01:26<00:29, 32.74it/s]\u001b[A\n",
      " 74%|███████▍  | 2799/3776 [01:27<00:29, 32.75it/s]\u001b[A\n",
      " 74%|███████▍  | 2803/3776 [01:27<00:29, 32.70it/s]\u001b[A\n",
      " 74%|███████▍  | 2807/3776 [01:27<00:29, 32.72it/s]\u001b[A\n",
      " 74%|███████▍  | 2811/3776 [01:27<00:29, 32.74it/s]\u001b[A\n",
      " 75%|███████▍  | 2815/3776 [01:27<00:29, 32.69it/s]\u001b[A\n",
      " 75%|███████▍  | 2819/3776 [01:27<00:29, 32.72it/s]\u001b[A\n",
      " 75%|███████▍  | 2823/3776 [01:27<00:29, 32.74it/s]\u001b[A\n",
      " 75%|███████▍  | 2827/3776 [01:27<00:29, 32.70it/s]\u001b[A\n",
      " 75%|███████▍  | 2831/3776 [01:28<00:28, 32.73it/s]\u001b[A\n",
      " 75%|███████▌  | 2835/3776 [01:28<00:28, 32.76it/s]\u001b[A\n",
      " 75%|███████▌  | 2839/3776 [01:28<00:28, 32.69it/s]\u001b[A\n",
      " 75%|███████▌  | 2843/3776 [01:28<00:28, 32.71it/s]\u001b[A\n",
      " 75%|███████▌  | 2847/3776 [01:28<00:28, 32.75it/s]\u001b[A\n",
      " 76%|███████▌  | 2851/3776 [01:28<00:28, 32.68it/s]\u001b[A\n",
      " 76%|███████▌  | 2855/3776 [01:28<00:28, 32.71it/s]\u001b[A\n",
      " 76%|███████▌  | 2859/3776 [01:28<00:28, 32.74it/s]\u001b[A\n",
      " 76%|███████▌  | 2863/3776 [01:28<00:27, 32.68it/s]\u001b[A\n",
      " 76%|███████▌  | 2867/3776 [01:29<00:27, 32.72it/s]\u001b[A\n",
      " 76%|███████▌  | 2871/3776 [01:29<00:27, 32.74it/s]\u001b[A\n",
      " 76%|███████▌  | 2875/3776 [01:29<00:27, 32.67it/s]\u001b[A\n",
      " 76%|███████▌  | 2879/3776 [01:29<00:27, 32.71it/s]\u001b[A\n",
      " 76%|███████▋  | 2883/3776 [01:29<00:27, 32.73it/s]\u001b[A\n",
      " 76%|███████▋  | 2887/3776 [01:29<00:27, 32.67it/s]\u001b[A\n",
      " 77%|███████▋  | 2891/3776 [01:29<00:27, 32.69it/s]\u001b[A\n",
      " 77%|███████▋  | 2895/3776 [01:29<00:26, 32.74it/s]\u001b[A\n",
      " 77%|███████▋  | 2899/3776 [01:30<00:26, 32.75it/s]\u001b[A\n",
      " 77%|███████▋  | 2903/3776 [01:30<00:26, 32.76it/s]\u001b[A\n",
      " 77%|███████▋  | 2907/3776 [01:30<00:26, 32.78it/s]\u001b[A\n",
      " 77%|███████▋  | 2911/3776 [01:30<00:26, 32.71it/s]\u001b[A\n",
      " 77%|███████▋  | 2915/3776 [01:30<00:26, 32.73it/s]\u001b[A\n",
      " 77%|███████▋  | 2919/3776 [01:30<00:26, 32.76it/s]\u001b[A\n",
      " 77%|███████▋  | 2923/3776 [01:30<00:26, 32.70it/s]\u001b[A\n",
      " 78%|███████▊  | 2927/3776 [01:30<00:25, 32.72it/s]\u001b[A\n",
      " 78%|███████▊  | 2931/3776 [01:31<00:25, 32.75it/s]\u001b[A\n",
      " 78%|███████▊  | 2935/3776 [01:31<00:25, 32.69it/s]\u001b[A\n",
      " 78%|███████▊  | 2939/3776 [01:31<00:25, 32.56it/s]\u001b[A\n",
      " 78%|███████▊  | 2943/3776 [01:31<00:25, 32.56it/s]\u001b[A\n",
      " 78%|███████▊  | 2947/3776 [01:31<00:25, 32.61it/s]\u001b[A\n"
     ]
    },
    {
     "name": "stderr",
     "output_type": "stream",
     "text": [
      " 78%|███████▊  | 2951/3776 [01:31<00:25, 32.69it/s]\u001b[A\n",
      " 78%|███████▊  | 2955/3776 [01:31<00:25, 32.76it/s]\u001b[A\n",
      " 78%|███████▊  | 2959/3776 [01:31<00:25, 32.65it/s]\u001b[A\n",
      " 78%|███████▊  | 2963/3776 [01:32<00:24, 32.71it/s]\u001b[A\n",
      " 79%|███████▊  | 2967/3776 [01:32<00:24, 32.67it/s]\u001b[A\n",
      " 79%|███████▊  | 2971/3776 [01:32<00:24, 32.69it/s]\u001b[A\n",
      " 79%|███████▉  | 2975/3776 [01:32<00:24, 32.72it/s]\u001b[A\n",
      " 79%|███████▉  | 2979/3776 [01:32<00:24, 32.62it/s]\u001b[A\n",
      " 79%|███████▉  | 2983/3776 [01:32<00:24, 32.65it/s]\u001b[A\n",
      " 79%|███████▉  | 2987/3776 [01:32<00:24, 32.70it/s]\u001b[A\n",
      " 79%|███████▉  | 2991/3776 [01:32<00:24, 32.64it/s]\u001b[A\n",
      " 79%|███████▉  | 2995/3776 [01:33<00:23, 32.71it/s]\u001b[A\n",
      " 79%|███████▉  | 2999/3776 [01:33<00:23, 32.74it/s]\u001b[A\n",
      " 80%|███████▉  | 3003/3776 [01:33<00:23, 32.71it/s]\u001b[A\n",
      " 80%|███████▉  | 3007/3776 [01:33<00:23, 32.74it/s]\u001b[A\n",
      " 80%|███████▉  | 3011/3776 [01:33<00:23, 32.70it/s]\u001b[A\n",
      " 80%|███████▉  | 3015/3776 [01:33<00:23, 32.68it/s]\u001b[A\n",
      " 80%|███████▉  | 3019/3776 [01:33<00:23, 32.72it/s]\u001b[A\n",
      " 80%|████████  | 3023/3776 [01:33<00:22, 32.77it/s]\u001b[A\n",
      " 80%|████████  | 3027/3776 [01:33<00:22, 32.72it/s]\u001b[A\n",
      " 80%|████████  | 3031/3776 [01:34<00:23, 32.37it/s]\u001b[A\n",
      " 80%|████████  | 3035/3776 [01:34<00:23, 31.55it/s]\u001b[A\n",
      " 80%|████████  | 3039/3776 [01:34<00:23, 30.97it/s]\u001b[A\n",
      " 81%|████████  | 3043/3776 [01:34<00:24, 30.53it/s]\u001b[A\n",
      " 81%|████████  | 3047/3776 [01:34<00:23, 30.69it/s]\u001b[A\n",
      " 81%|████████  | 3051/3776 [01:34<00:23, 30.66it/s]\u001b[A\n",
      " 81%|████████  | 3055/3776 [01:34<00:23, 30.87it/s]\u001b[A\n",
      " 81%|████████  | 3059/3776 [01:35<00:23, 30.97it/s]\u001b[A\n",
      " 81%|████████  | 3063/3776 [01:35<00:23, 30.81it/s]\u001b[A\n",
      " 81%|████████  | 3067/3776 [01:35<00:23, 30.70it/s]\u001b[A\n",
      " 81%|████████▏ | 3071/3776 [01:35<00:22, 30.79it/s]\u001b[A\n",
      " 81%|████████▏ | 3075/3776 [01:35<00:22, 30.87it/s]\u001b[A\n",
      " 82%|████████▏ | 3079/3776 [01:35<00:22, 30.95it/s]\u001b[A\n",
      " 82%|████████▏ | 3083/3776 [01:35<00:22, 30.86it/s]\u001b[A\n",
      " 82%|████████▏ | 3087/3776 [01:35<00:22, 30.52it/s]\u001b[A\n",
      " 82%|████████▏ | 3091/3776 [01:36<00:22, 30.73it/s]\u001b[A\n",
      " 82%|████████▏ | 3095/3776 [01:36<00:22, 30.51it/s]\u001b[A\n",
      " 82%|████████▏ | 3099/3776 [01:36<00:22, 30.75it/s]\u001b[A\n",
      " 82%|████████▏ | 3103/3776 [01:36<00:21, 30.67it/s]\u001b[A\n",
      " 82%|████████▏ | 3107/3776 [01:36<00:21, 30.69it/s]\u001b[A\n",
      " 82%|████████▏ | 3111/3776 [01:36<00:21, 30.68it/s]\u001b[A\n",
      " 82%|████████▏ | 3115/3776 [01:36<00:21, 30.83it/s]\u001b[A\n",
      " 83%|████████▎ | 3119/3776 [01:36<00:21, 30.81it/s]\u001b[A\n",
      " 83%|████████▎ | 3123/3776 [01:37<00:21, 30.94it/s]\u001b[A\n",
      " 83%|████████▎ | 3127/3776 [01:37<00:21, 30.65it/s]\u001b[A\n",
      " 83%|████████▎ | 3131/3776 [01:37<00:21, 30.61it/s]\u001b[A\n",
      " 83%|████████▎ | 3135/3776 [01:37<00:20, 30.91it/s]\u001b[A\n",
      " 83%|████████▎ | 3139/3776 [01:37<00:20, 31.12it/s]\u001b[A\n",
      " 83%|████████▎ | 3143/3776 [01:37<00:20, 30.99it/s]\u001b[A\n",
      " 83%|████████▎ | 3147/3776 [01:37<00:20, 31.21it/s]\u001b[A\n",
      " 83%|████████▎ | 3151/3776 [01:38<00:19, 31.38it/s]\u001b[A\n",
      " 84%|████████▎ | 3155/3776 [01:38<00:19, 31.12it/s]\u001b[A\n",
      " 84%|████████▎ | 3159/3776 [01:38<00:19, 31.22it/s]\u001b[A\n",
      " 84%|████████▍ | 3163/3776 [01:38<00:19, 31.36it/s]\u001b[A\n",
      " 84%|████████▍ | 3167/3776 [01:38<00:19, 31.07it/s]\u001b[A\n",
      " 84%|████████▍ | 3171/3776 [01:38<00:19, 30.92it/s]\u001b[A\n",
      " 84%|████████▍ | 3175/3776 [01:38<00:19, 31.11it/s]\u001b[A\n",
      " 84%|████████▍ | 3179/3776 [01:38<00:19, 31.24it/s]\u001b[A\n",
      " 84%|████████▍ | 3183/3776 [01:39<00:19, 31.00it/s]\u001b[A\n",
      " 84%|████████▍ | 3187/3776 [01:39<00:19, 30.86it/s]\u001b[A\n",
      " 85%|████████▍ | 3191/3776 [01:39<00:18, 30.94it/s]\u001b[A\n",
      " 85%|████████▍ | 3195/3776 [01:39<00:18, 31.11it/s]\u001b[A\n",
      " 85%|████████▍ | 3199/3776 [01:39<00:18, 30.97it/s]\u001b[A\n",
      " 85%|████████▍ | 3203/3776 [01:39<00:18, 31.13it/s]\u001b[A\n",
      " 85%|████████▍ | 3207/3776 [01:39<00:18, 31.33it/s]\u001b[A\n",
      " 85%|████████▌ | 3211/3776 [01:39<00:18, 31.13it/s]\u001b[A\n",
      " 85%|████████▌ | 3215/3776 [01:40<00:18, 30.95it/s]\u001b[A\n",
      " 85%|████████▌ | 3219/3776 [01:40<00:17, 31.18it/s]\u001b[A\n",
      " 85%|████████▌ | 3223/3776 [01:40<00:17, 31.35it/s]\u001b[A\n",
      " 85%|████████▌ | 3227/3776 [01:40<00:17, 31.46it/s]\u001b[A\n",
      " 86%|████████▌ | 3231/3776 [01:40<00:17, 31.42it/s]\u001b[A\n",
      " 86%|████████▌ | 3235/3776 [01:40<00:17, 31.40it/s]\u001b[A\n",
      " 86%|████████▌ | 3239/3776 [01:40<00:17, 31.36it/s]\u001b[A\n",
      " 86%|████████▌ | 3243/3776 [01:40<00:16, 31.50it/s]\u001b[A\n",
      " 86%|████████▌ | 3247/3776 [01:41<00:16, 31.49it/s]\u001b[A\n",
      " 86%|████████▌ | 3251/3776 [01:41<00:16, 31.49it/s]\u001b[A\n",
      " 86%|████████▌ | 3255/3776 [01:41<00:16, 31.38it/s]\u001b[A\n",
      " 86%|████████▋ | 3259/3776 [01:41<00:16, 31.53it/s]\u001b[A\n",
      " 86%|████████▋ | 3263/3776 [01:41<00:16, 31.58it/s]\u001b[A\n",
      " 87%|████████▋ | 3267/3776 [01:41<00:16, 31.31it/s]\u001b[A\n",
      " 87%|████████▋ | 3271/3776 [01:41<00:16, 31.39it/s]\u001b[A\n",
      " 87%|████████▋ | 3275/3776 [01:41<00:15, 31.52it/s]\u001b[A\n",
      " 87%|████████▋ | 3279/3776 [01:42<00:15, 31.20it/s]\u001b[A\n",
      " 87%|████████▋ | 3283/3776 [01:42<00:15, 31.37it/s]\u001b[A\n",
      " 87%|████████▋ | 3287/3776 [01:42<00:15, 31.49it/s]\u001b[A\n",
      " 87%|████████▋ | 3291/3776 [01:42<00:15, 31.24it/s]\u001b[A\n",
      " 87%|████████▋ | 3295/3776 [01:42<00:15, 31.40it/s]\u001b[A\n",
      " 87%|████████▋ | 3299/3776 [01:42<00:15, 31.53it/s]\u001b[A\n",
      " 87%|████████▋ | 3303/3776 [01:42<00:14, 31.60it/s]\u001b[A\n",
      " 88%|████████▊ | 3307/3776 [01:43<00:14, 31.66it/s]\u001b[A\n",
      " 88%|████████▊ | 3311/3776 [01:43<00:14, 31.37it/s]\u001b[A\n",
      " 88%|████████▊ | 3315/3776 [01:43<00:14, 31.46it/s]\u001b[A\n",
      " 88%|████████▊ | 3319/3776 [01:43<00:14, 31.57it/s]\u001b[A\n",
      " 88%|████████▊ | 3323/3776 [01:43<00:14, 31.62it/s]\u001b[A\n",
      " 88%|████████▊ | 3327/3776 [01:43<00:14, 31.67it/s]\u001b[A\n",
      " 88%|████████▊ | 3331/3776 [01:43<00:14, 31.38it/s]\u001b[A\n",
      " 88%|████████▊ | 3335/3776 [01:43<00:14, 31.49it/s]\u001b[A\n",
      " 88%|████████▊ | 3339/3776 [01:44<00:13, 31.59it/s]\u001b[A\n",
      " 89%|████████▊ | 3343/3776 [01:44<00:13, 31.29it/s]\u001b[A\n",
      " 89%|████████▊ | 3347/3776 [01:44<00:13, 31.44it/s]\u001b[A\n",
      " 89%|████████▊ | 3351/3776 [01:44<00:13, 31.54it/s]\u001b[A\n",
      " 89%|████████▉ | 3355/3776 [01:44<00:13, 31.62it/s]\u001b[A\n",
      " 89%|████████▉ | 3359/3776 [01:44<00:13, 31.65it/s]\u001b[A\n",
      " 89%|████████▉ | 3363/3776 [01:44<00:13, 31.35it/s]\u001b[A\n",
      " 89%|████████▉ | 3367/3776 [01:44<00:12, 31.48it/s]\u001b[A\n",
      " 89%|████████▉ | 3371/3776 [01:45<00:12, 31.57it/s]\u001b[A\n",
      " 89%|████████▉ | 3375/3776 [01:45<00:12, 31.29it/s]\u001b[A\n",
      " 89%|████████▉ | 3379/3776 [01:45<00:12, 31.44it/s]\u001b[A\n",
      " 90%|████████▉ | 3383/3776 [01:45<00:12, 31.55it/s]\u001b[A\n",
      " 90%|████████▉ | 3387/3776 [01:45<00:12, 31.62it/s]\u001b[A\n",
      " 90%|████████▉ | 3391/3776 [01:45<00:12, 31.73it/s]\u001b[A\n",
      " 90%|████████▉ | 3395/3776 [01:45<00:12, 31.29it/s]\u001b[A\n",
      " 90%|█████████ | 3399/3776 [01:45<00:12, 31.12it/s]\u001b[A\n",
      " 90%|█████████ | 3403/3776 [01:46<00:11, 31.26it/s]\u001b[A\n",
      " 90%|█████████ | 3407/3776 [01:46<00:11, 31.06it/s]\u001b[A\n",
      " 90%|█████████ | 3411/3776 [01:46<00:11, 31.26it/s]\u001b[A\n",
      " 90%|█████████ | 3415/3776 [01:46<00:11, 31.37it/s]\u001b[A\n",
      " 91%|█████████ | 3419/3776 [01:46<00:11, 31.50it/s]\u001b[A\n",
      " 91%|█████████ | 3423/3776 [01:46<00:11, 31.59it/s]\u001b[A\n",
      " 91%|█████████ | 3427/3776 [01:46<00:11, 31.63it/s]\u001b[A\n",
      " 91%|█████████ | 3431/3776 [01:46<00:10, 31.68it/s]\u001b[A\n",
      " 91%|█████████ | 3435/3776 [01:47<00:10, 31.71it/s]\u001b[A\n",
      " 91%|█████████ | 3439/3776 [01:47<00:10, 31.73it/s]\u001b[A\n",
      " 91%|█████████ | 3443/3776 [01:47<00:10, 31.75it/s]\u001b[A\n",
      " 91%|█████████▏| 3447/3776 [01:47<00:10, 31.75it/s]\u001b[A\n",
      " 91%|█████████▏| 3451/3776 [01:47<00:10, 31.77it/s]\u001b[A\n",
      " 91%|█████████▏| 3455/3776 [01:47<00:10, 31.41it/s]\u001b[A\n",
      " 92%|█████████▏| 3459/3776 [01:47<00:10, 31.11it/s]\u001b[A\n",
      " 92%|█████████▏| 3463/3776 [01:47<00:10, 31.06it/s]\u001b[A\n",
      " 92%|█████████▏| 3467/3776 [01:48<00:09, 31.31it/s]\u001b[A\n",
      " 92%|█████████▏| 3471/3776 [01:48<00:09, 31.41it/s]\u001b[A\n",
      " 92%|█████████▏| 3475/3776 [01:48<00:09, 31.53it/s]\u001b[A\n",
      " 92%|█████████▏| 3479/3776 [01:48<00:09, 31.26it/s]\u001b[A\n",
      " 92%|█████████▏| 3483/3776 [01:48<00:09, 31.39it/s]\u001b[A\n",
      " 92%|█████████▏| 3487/3776 [01:48<00:09, 31.51it/s]\u001b[A\n",
      " 92%|█████████▏| 3491/3776 [01:48<00:09, 31.27it/s]\u001b[A\n",
      " 93%|█████████▎| 3495/3776 [01:48<00:08, 31.41it/s]\u001b[A\n",
      " 93%|█████████▎| 3499/3776 [01:49<00:08, 31.53it/s]\u001b[A\n",
      " 93%|█████████▎| 3503/3776 [01:49<00:08, 31.55it/s]\u001b[A\n",
      " 93%|█████████▎| 3507/3776 [01:49<00:08, 31.67it/s]\u001b[A\n",
      " 93%|█████████▎| 3511/3776 [01:49<00:08, 31.35it/s]\u001b[A\n",
      " 93%|█████████▎| 3515/3776 [01:49<00:08, 31.50it/s]\u001b[A\n",
      " 93%|█████████▎| 3519/3776 [01:49<00:08, 31.55it/s]\u001b[A\n",
      " 93%|█████████▎| 3523/3776 [01:49<00:08, 31.34it/s]\u001b[A\n",
      " 93%|█████████▎| 3527/3776 [01:50<00:07, 31.46it/s]\u001b[A\n",
      " 94%|█████████▎| 3531/3776 [01:50<00:07, 31.48it/s]\u001b[A\n",
      " 94%|█████████▎| 3535/3776 [01:50<00:07, 31.60it/s]\u001b[A\n",
      " 94%|█████████▎| 3539/3776 [01:50<00:07, 31.62it/s]\u001b[A\n"
     ]
    },
    {
     "name": "stderr",
     "output_type": "stream",
     "text": [
      " 94%|█████████▍| 3543/3776 [01:50<00:07, 31.34it/s]\u001b[A\n",
      " 94%|█████████▍| 3547/3776 [01:50<00:07, 31.45it/s]\u001b[A\n",
      " 94%|█████████▍| 3551/3776 [01:50<00:07, 31.52it/s]\u001b[A\n",
      " 94%|█████████▍| 3555/3776 [01:50<00:06, 32.05it/s]\u001b[A\n",
      " 94%|█████████▍| 3559/3776 [01:51<00:06, 32.17it/s]\u001b[A\n",
      " 94%|█████████▍| 3563/3776 [01:51<00:06, 32.41it/s]\u001b[A\n",
      " 94%|█████████▍| 3567/3776 [01:51<00:06, 32.32it/s]\u001b[A\n",
      " 95%|█████████▍| 3571/3776 [01:51<00:06, 31.39it/s]\u001b[A\n",
      " 95%|█████████▍| 3575/3776 [01:51<00:06, 30.80it/s]\u001b[A\n",
      " 95%|█████████▍| 3579/3776 [01:51<00:06, 30.44it/s]\u001b[A\n",
      " 95%|█████████▍| 3583/3776 [01:51<00:06, 30.38it/s]\u001b[A\n",
      " 95%|█████████▍| 3587/3776 [01:51<00:06, 30.07it/s]\u001b[A\n",
      " 95%|█████████▌| 3591/3776 [01:52<00:06, 29.86it/s]\u001b[A\n",
      " 95%|█████████▌| 3594/3776 [01:52<00:06, 29.74it/s]\u001b[A\n",
      " 95%|█████████▌| 3597/3776 [01:52<00:06, 29.67it/s]\u001b[A\n",
      " 95%|█████████▌| 3600/3776 [01:52<00:05, 29.63it/s]\u001b[A\n",
      " 95%|█████████▌| 3603/3776 [01:52<00:05, 29.68it/s]\u001b[A\n",
      " 95%|█████████▌| 3606/3776 [01:52<00:05, 29.65it/s]\u001b[A\n",
      " 96%|█████████▌| 3609/3776 [01:52<00:05, 29.61it/s]\u001b[A\n",
      " 96%|█████████▌| 3612/3776 [01:52<00:05, 29.58it/s]\u001b[A\n",
      " 96%|█████████▌| 3616/3776 [01:52<00:05, 29.78it/s]\u001b[A\n",
      " 96%|█████████▌| 3619/3776 [01:53<00:05, 29.69it/s]\u001b[A\n",
      " 96%|█████████▌| 3622/3776 [01:53<00:05, 29.63it/s]\u001b[A\n",
      " 96%|█████████▌| 3625/3776 [01:53<00:05, 29.73it/s]\u001b[A\n",
      " 96%|█████████▌| 3628/3776 [01:53<00:04, 29.72it/s]\u001b[A\n",
      " 96%|█████████▌| 3631/3776 [01:53<00:04, 29.65it/s]\u001b[A\n",
      " 96%|█████████▌| 3634/3776 [01:53<00:04, 29.61it/s]\u001b[A\n",
      " 96%|█████████▋| 3637/3776 [01:53<00:04, 29.57it/s]\u001b[A\n",
      " 96%|█████████▋| 3641/3776 [01:53<00:04, 29.89it/s]\u001b[A\n",
      " 97%|█████████▋| 3645/3776 [01:53<00:04, 30.57it/s]\u001b[A\n",
      " 97%|█████████▋| 3649/3776 [01:53<00:04, 30.62it/s]\u001b[A\n",
      " 97%|█████████▋| 3653/3776 [01:54<00:04, 30.28it/s]\u001b[A\n",
      " 97%|█████████▋| 3657/3776 [01:54<00:03, 30.04it/s]\u001b[A\n",
      " 97%|█████████▋| 3661/3776 [01:54<00:03, 30.00it/s]\u001b[A\n",
      " 97%|█████████▋| 3665/3776 [01:54<00:03, 30.39it/s]\u001b[A\n",
      " 97%|█████████▋| 3669/3776 [01:54<00:03, 30.77it/s]\u001b[A\n",
      " 97%|█████████▋| 3673/3776 [01:54<00:03, 30.38it/s]\u001b[A\n",
      " 97%|█████████▋| 3677/3776 [01:54<00:03, 30.11it/s]\u001b[A\n",
      " 97%|█████████▋| 3681/3776 [01:55<00:03, 29.92it/s]\u001b[A\n",
      " 98%|█████████▊| 3684/3776 [01:55<00:03, 29.80it/s]\u001b[A\n",
      " 98%|█████████▊| 3687/3776 [01:55<00:03, 29.56it/s]\u001b[A\n",
      " 98%|█████████▊| 3690/3776 [01:55<00:02, 29.68it/s]\u001b[A\n",
      " 98%|█████████▊| 3693/3776 [01:55<00:02, 29.63it/s]\u001b[A\n",
      " 98%|█████████▊| 3696/3776 [01:55<00:02, 29.59it/s]\u001b[A\n",
      " 98%|█████████▊| 3699/3776 [01:55<00:02, 29.57it/s]\u001b[A\n",
      " 98%|█████████▊| 3702/3776 [01:55<00:02, 29.56it/s]\u001b[A\n",
      " 98%|█████████▊| 3705/3776 [01:55<00:02, 29.50it/s]\u001b[A\n",
      " 98%|█████████▊| 3708/3776 [01:55<00:02, 29.64it/s]\u001b[A\n",
      " 98%|█████████▊| 3711/3776 [01:56<00:02, 29.59it/s]\u001b[A\n",
      " 98%|█████████▊| 3714/3776 [01:56<00:02, 29.54it/s]\u001b[A\n",
      " 98%|█████████▊| 3717/3776 [01:56<00:01, 29.57it/s]\u001b[A\n",
      " 99%|█████████▊| 3720/3776 [01:56<00:01, 29.52it/s]\u001b[A\n",
      " 99%|█████████▊| 3723/3776 [01:56<00:01, 29.50it/s]\u001b[A\n",
      " 99%|█████████▊| 3726/3776 [01:56<00:01, 29.54it/s]\u001b[A\n",
      " 99%|█████████▉| 3729/3776 [01:56<00:01, 29.54it/s]\u001b[A\n",
      " 99%|█████████▉| 3732/3776 [01:56<00:01, 29.54it/s]\u001b[A\n",
      " 99%|█████████▉| 3735/3776 [01:56<00:01, 29.48it/s]\u001b[A\n",
      " 99%|█████████▉| 3738/3776 [01:56<00:01, 29.61it/s]\u001b[A\n",
      " 99%|█████████▉| 3742/3776 [01:57<00:01, 30.09it/s]\u001b[A\n",
      " 99%|█████████▉| 3746/3776 [01:57<00:00, 30.51it/s]\u001b[A\n",
      " 99%|█████████▉| 3750/3776 [01:57<00:00, 30.79it/s]\u001b[A\n",
      " 99%|█████████▉| 3754/3776 [01:57<00:00, 30.61it/s]\u001b[A\n",
      "100%|█████████▉| 3758/3776 [01:57<00:00, 30.03it/s]\u001b[A\n",
      "100%|█████████▉| 3762/3776 [01:57<00:00, 30.03it/s]\u001b[A\n",
      "100%|█████████▉| 3766/3776 [01:57<00:00, 29.89it/s]\u001b[A\n",
      "100%|█████████▉| 3769/3776 [01:58<00:00, 29.72it/s]\u001b[A\n",
      "100%|██████████| 3776/3776 [01:58<00:00, 31.93it/s]\u001b[A\n"
     ]
    },
    {
     "name": "stdout",
     "output_type": "stream",
     "text": [
      "Learning rate: 0.0001\n",
      "Beta 1: 0.8\n",
      "Beta 2: 0.9\n",
      "Weight decay: 0.001\n",
      "Accuracy: 96.1484872611465\n"
     ]
    }
   ],
   "source": [
    "model = models.alexnet(num_classes=11)\n",
    "model.features[0] = Conv2d(1, 64, kernel_size=(7, 7), stride=(2, 2), padding=(3, 3), bias=False)\n",
    "model.to(device)\n",
    "optimizer = torch.optim.Adam(model.parameters(), lr=0.0001, betas=(0.8, 0.99), weight_decay=0.001)\n",
    "criterion = nn.CrossEntropyLoss()\n",
    "for step, [x_train, y_train] in enumerate(tqdm(train_loader)):\n",
    "    x_train, y_train = x_train.to(device), y_train.to(device)\n",
    "    optimizer.zero_grad()\n",
    "    train_pred = model(x_train)\n",
    "    loss = criterion(train_pred, y_train)\n",
    "    loss.backward()\n",
    "    optimizer.step()\n",
    "accuracy = calc_accuracy(model)\n",
    "print_stats(lr, beta1, beta2, decay, accuracy)\n",
    "if accuracy > best_accuracy:\n",
    "    best_lr = lr\n",
    "    best_beta1 = beta1\n",
    "    best_beta2 = beta2\n",
    "    best_decay = decay\n",
    "    best_accuracy = accuracy"
   ]
  },
  {
   "cell_type": "code",
   "execution_count": null,
   "metadata": {},
   "outputs": [],
   "source": []
  }
 ],
 "metadata": {
  "kernelspec": {
   "display_name": "Python 3",
   "language": "python",
   "name": "python3"
  },
  "language_info": {
   "codemirror_mode": {
    "name": "ipython",
    "version": 3
   },
   "file_extension": ".py",
   "mimetype": "text/x-python",
   "name": "python",
   "nbconvert_exporter": "python",
   "pygments_lexer": "ipython3",
   "version": "3.6.8"
  }
 },
 "nbformat": 4,
 "nbformat_minor": 2
}
