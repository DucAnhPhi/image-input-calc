{
 "cells": [
  {
   "cell_type": "code",
   "execution_count": 1,
   "metadata": {},
   "outputs": [
    {
     "name": "stderr",
     "output_type": "stream",
     "text": [
      "100%|██████████| 151241/151241 [00:01<00:00, 76483.49it/s]\n",
      "100%|██████████| 16992/16992 [00:00<00:00, 80154.59it/s]"
     ]
    },
    {
     "name": "stdout",
     "output_type": "stream",
     "text": [
      "Train data length: 1958\n",
      "Test data length: 224\n",
      "Img Shape: torch.Size([3, 36, 36])\n",
      "Number of Labels: 15\n"
     ]
    },
    {
     "name": "stderr",
     "output_type": "stream",
     "text": [
      "\n"
     ]
    }
   ],
   "source": [
    "import torch\n",
    "import os\n",
    "import torch.nn as nn\n",
    "import numpy as np\n",
    "from torch.utils.data import DataLoader\n",
    "from network import CharacterClassifier\n",
    "from tqdm import tqdm\n",
    "from training_data import HASY\n",
    "from PIL import Image\n",
    "from matplotlib import pyplot as plt\n",
    "\n",
    "hasy_train = HASY('HASY')\n",
    "hasy_test = HASY('HASY', train=False)\n",
    "\n",
    "print(\"Train data length: {0}\".format(len(hasy_train.data)))\n",
    "print(\"Test data length: {0}\".format(len(hasy_test.data)))\n",
    "print(\"Img Shape: {0}\".format(hasy_train.data[0].shape))\n",
    "print(\"Number of Labels: {0}\".format(hasy_train.no_labels))"
   ]
  },
  {
   "cell_type": "code",
   "execution_count": 3,
   "metadata": {},
   "outputs": [
    {
     "name": "stderr",
     "output_type": "stream",
     "text": [
      "100%|██████████| 123/123 [04:10<00:00,  1.70s/it]\n"
     ]
    },
    {
     "name": "stdout",
     "output_type": "stream",
     "text": [
      "Learning rate: 0.01\n",
      "Beta 1: 0.8\n",
      "Beta 2: 0.9\n",
      "Weight decay: 0\n",
      "Accuracy: 31.25\n"
     ]
    },
    {
     "name": "stderr",
     "output_type": "stream",
     "text": [
      "100%|██████████| 123/123 [03:55<00:00,  1.73s/it]\n"
     ]
    },
    {
     "name": "stdout",
     "output_type": "stream",
     "text": [
      "Learning rate: 0.01\n",
      "Beta 1: 0.8\n",
      "Beta 2: 0.9\n",
      "Weight decay: 0.01\n",
      "Accuracy: 29.464284896850586\n"
     ]
    },
    {
     "name": "stderr",
     "output_type": "stream",
     "text": [
      "100%|██████████| 123/123 [03:47<00:00,  1.71s/it]\n"
     ]
    },
    {
     "name": "stdout",
     "output_type": "stream",
     "text": [
      "Learning rate: 0.01\n",
      "Beta 1: 0.8\n",
      "Beta 2: 0.9\n",
      "Weight decay: 0.001\n",
      "Accuracy: 34.82143020629883\n"
     ]
    },
    {
     "name": "stderr",
     "output_type": "stream",
     "text": [
      "100%|██████████| 123/123 [04:14<00:00,  3.34s/it]\n"
     ]
    },
    {
     "name": "stdout",
     "output_type": "stream",
     "text": [
      "Learning rate: 0.01\n",
      "Beta 1: 0.8\n",
      "Beta 2: 0.9\n",
      "Weight decay: 0.0001\n",
      "Accuracy: 28.571428298950195\n"
     ]
    },
    {
     "name": "stderr",
     "output_type": "stream",
     "text": [
      "100%|██████████| 123/123 [05:17<00:00,  2.50s/it]\n"
     ]
    },
    {
     "name": "stdout",
     "output_type": "stream",
     "text": [
      "Learning rate: 0.01\n",
      "Beta 1: 0.8\n",
      "Beta 2: 0.925\n",
      "Weight decay: 0\n",
      "Accuracy: 23.214284896850586\n"
     ]
    },
    {
     "name": "stderr",
     "output_type": "stream",
     "text": [
      "100%|██████████| 123/123 [05:08<00:00,  2.39s/it]\n"
     ]
    },
    {
     "name": "stdout",
     "output_type": "stream",
     "text": [
      "Learning rate: 0.01\n",
      "Beta 1: 0.8\n",
      "Beta 2: 0.925\n",
      "Weight decay: 0.01\n",
      "Accuracy: 19.196428298950195\n"
     ]
    },
    {
     "name": "stderr",
     "output_type": "stream",
     "text": [
      "100%|██████████| 123/123 [05:13<00:00,  2.95s/it]\n"
     ]
    },
    {
     "name": "stdout",
     "output_type": "stream",
     "text": [
      "Learning rate: 0.01\n",
      "Beta 1: 0.8\n",
      "Beta 2: 0.925\n",
      "Weight decay: 0.001\n",
      "Accuracy: 31.25\n"
     ]
    },
    {
     "name": "stderr",
     "output_type": "stream",
     "text": [
      "100%|██████████| 123/123 [04:51<00:00,  2.27s/it]\n"
     ]
    },
    {
     "name": "stdout",
     "output_type": "stream",
     "text": [
      "Learning rate: 0.01\n",
      "Beta 1: 0.8\n",
      "Beta 2: 0.925\n",
      "Weight decay: 0.0001\n",
      "Accuracy: 24.10714340209961\n"
     ]
    },
    {
     "name": "stderr",
     "output_type": "stream",
     "text": [
      "100%|██████████| 123/123 [04:17<00:00,  1.73s/it]\n"
     ]
    },
    {
     "name": "stdout",
     "output_type": "stream",
     "text": [
      "Learning rate: 0.01\n",
      "Beta 1: 0.8\n",
      "Beta 2: 0.95\n",
      "Weight decay: 0\n",
      "Accuracy: 25.0\n"
     ]
    },
    {
     "name": "stderr",
     "output_type": "stream",
     "text": [
      "100%|██████████| 123/123 [03:43<00:00,  1.78s/it]\n"
     ]
    },
    {
     "name": "stdout",
     "output_type": "stream",
     "text": [
      "Learning rate: 0.01\n",
      "Beta 1: 0.8\n",
      "Beta 2: 0.95\n",
      "Weight decay: 0.01\n",
      "Accuracy: 24.553571701049805\n"
     ]
    },
    {
     "name": "stderr",
     "output_type": "stream",
     "text": [
      "100%|██████████| 123/123 [03:37<00:00,  1.85s/it]\n"
     ]
    },
    {
     "name": "stdout",
     "output_type": "stream",
     "text": [
      "Learning rate: 0.01\n",
      "Beta 1: 0.8\n",
      "Beta 2: 0.95\n",
      "Weight decay: 0.001\n",
      "Accuracy: 28.571428298950195\n"
     ]
    },
    {
     "name": "stderr",
     "output_type": "stream",
     "text": [
      "100%|██████████| 123/123 [03:11<00:00,  1.50s/it]\n"
     ]
    },
    {
     "name": "stdout",
     "output_type": "stream",
     "text": [
      "Learning rate: 0.01\n",
      "Beta 1: 0.8\n",
      "Beta 2: 0.95\n",
      "Weight decay: 0.0001\n",
      "Accuracy: 22.76785659790039\n"
     ]
    },
    {
     "name": "stderr",
     "output_type": "stream",
     "text": [
      "100%|██████████| 123/123 [03:06<00:00,  1.48s/it]\n"
     ]
    },
    {
     "name": "stdout",
     "output_type": "stream",
     "text": [
      "Learning rate: 0.01\n",
      "Beta 1: 0.8\n",
      "Beta 2: 0.99\n",
      "Weight decay: 0\n",
      "Accuracy: 29.910715103149414\n"
     ]
    },
    {
     "name": "stderr",
     "output_type": "stream",
     "text": [
      "100%|██████████| 123/123 [02:12<00:00,  1.13it/s]\n"
     ]
    },
    {
     "name": "stdout",
     "output_type": "stream",
     "text": [
      "Learning rate: 0.01\n",
      "Beta 1: 0.8\n",
      "Beta 2: 0.99\n",
      "Weight decay: 0.01\n",
      "Accuracy: 27.23214340209961\n"
     ]
    },
    {
     "name": "stderr",
     "output_type": "stream",
     "text": [
      "100%|██████████| 123/123 [01:52<00:00,  1.12it/s]\n"
     ]
    },
    {
     "name": "stdout",
     "output_type": "stream",
     "text": [
      "Learning rate: 0.01\n",
      "Beta 1: 0.8\n",
      "Beta 2: 0.99\n",
      "Weight decay: 0.001\n",
      "Accuracy: 22.76785659790039\n"
     ]
    },
    {
     "name": "stderr",
     "output_type": "stream",
     "text": [
      "100%|██████████| 123/123 [01:51<00:00,  1.12it/s]\n"
     ]
    },
    {
     "name": "stdout",
     "output_type": "stream",
     "text": [
      "Learning rate: 0.01\n",
      "Beta 1: 0.8\n",
      "Beta 2: 0.99\n",
      "Weight decay: 0.0001\n",
      "Accuracy: 26.339284896850586\n"
     ]
    },
    {
     "name": "stderr",
     "output_type": "stream",
     "text": [
      "100%|██████████| 123/123 [01:50<00:00,  1.12it/s]\n"
     ]
    },
    {
     "name": "stdout",
     "output_type": "stream",
     "text": [
      "Learning rate: 0.01\n",
      "Beta 1: 0.85\n",
      "Beta 2: 0.9\n",
      "Weight decay: 0\n",
      "Accuracy: 28.125\n"
     ]
    },
    {
     "name": "stderr",
     "output_type": "stream",
     "text": [
      "100%|██████████| 123/123 [01:51<00:00,  1.11it/s]\n"
     ]
    },
    {
     "name": "stdout",
     "output_type": "stream",
     "text": [
      "Learning rate: 0.01\n",
      "Beta 1: 0.85\n",
      "Beta 2: 0.9\n",
      "Weight decay: 0.01\n",
      "Accuracy: 25.89285659790039\n"
     ]
    },
    {
     "name": "stderr",
     "output_type": "stream",
     "text": [
      "100%|██████████| 123/123 [01:52<00:00,  1.12it/s]\n"
     ]
    },
    {
     "name": "stdout",
     "output_type": "stream",
     "text": [
      "Learning rate: 0.01\n",
      "Beta 1: 0.85\n",
      "Beta 2: 0.9\n",
      "Weight decay: 0.001\n",
      "Accuracy: 26.339284896850586\n"
     ]
    },
    {
     "name": "stderr",
     "output_type": "stream",
     "text": [
      "100%|██████████| 123/123 [01:51<00:00,  1.11it/s]\n"
     ]
    },
    {
     "name": "stdout",
     "output_type": "stream",
     "text": [
      "Learning rate: 0.01\n",
      "Beta 1: 0.85\n",
      "Beta 2: 0.9\n",
      "Weight decay: 0.0001\n",
      "Accuracy: 21.428571701049805\n"
     ]
    },
    {
     "name": "stderr",
     "output_type": "stream",
     "text": [
      "100%|██████████| 123/123 [01:50<00:00,  1.16it/s]\n"
     ]
    },
    {
     "name": "stdout",
     "output_type": "stream",
     "text": [
      "Learning rate: 0.01\n",
      "Beta 1: 0.85\n",
      "Beta 2: 0.925\n",
      "Weight decay: 0\n",
      "Accuracy: 27.678571701049805\n"
     ]
    },
    {
     "name": "stderr",
     "output_type": "stream",
     "text": [
      "100%|██████████| 123/123 [01:50<00:00,  1.16it/s]\n"
     ]
    },
    {
     "name": "stdout",
     "output_type": "stream",
     "text": [
      "Learning rate: 0.01\n",
      "Beta 1: 0.85\n",
      "Beta 2: 0.925\n",
      "Weight decay: 0.01\n",
      "Accuracy: 25.0\n"
     ]
    },
    {
     "name": "stderr",
     "output_type": "stream",
     "text": [
      "100%|██████████| 123/123 [01:52<00:00,  1.12it/s]\n"
     ]
    },
    {
     "name": "stdout",
     "output_type": "stream",
     "text": [
      "Learning rate: 0.01\n",
      "Beta 1: 0.85\n",
      "Beta 2: 0.925\n",
      "Weight decay: 0.001\n",
      "Accuracy: 32.14285659790039\n"
     ]
    },
    {
     "name": "stderr",
     "output_type": "stream",
     "text": [
      "100%|██████████| 123/123 [01:51<00:00,  1.12it/s]\n"
     ]
    },
    {
     "name": "stdout",
     "output_type": "stream",
     "text": [
      "Learning rate: 0.01\n",
      "Beta 1: 0.85\n",
      "Beta 2: 0.925\n",
      "Weight decay: 0.0001\n",
      "Accuracy: 30.803571701049805\n"
     ]
    },
    {
     "name": "stderr",
     "output_type": "stream",
     "text": [
      "100%|██████████| 123/123 [01:52<00:00,  1.14it/s]\n"
     ]
    },
    {
     "name": "stdout",
     "output_type": "stream",
     "text": [
      "Learning rate: 0.01\n",
      "Beta 1: 0.85\n",
      "Beta 2: 0.95\n",
      "Weight decay: 0\n",
      "Accuracy: 28.125\n"
     ]
    },
    {
     "name": "stderr",
     "output_type": "stream",
     "text": [
      "100%|██████████| 123/123 [01:51<00:00,  1.13it/s]\n"
     ]
    },
    {
     "name": "stdout",
     "output_type": "stream",
     "text": [
      "Learning rate: 0.01\n",
      "Beta 1: 0.85\n",
      "Beta 2: 0.95\n",
      "Weight decay: 0.01\n",
      "Accuracy: 25.446428298950195\n"
     ]
    },
    {
     "name": "stderr",
     "output_type": "stream",
     "text": [
      "100%|██████████| 123/123 [01:51<00:00,  1.16it/s]\n"
     ]
    },
    {
     "name": "stdout",
     "output_type": "stream",
     "text": [
      "Learning rate: 0.01\n",
      "Beta 1: 0.85\n",
      "Beta 2: 0.95\n",
      "Weight decay: 0.001\n",
      "Accuracy: 30.35714340209961\n"
     ]
    },
    {
     "name": "stderr",
     "output_type": "stream",
     "text": [
      "100%|██████████| 123/123 [01:51<00:00,  1.12it/s]\n"
     ]
    },
    {
     "name": "stdout",
     "output_type": "stream",
     "text": [
      "Learning rate: 0.01\n",
      "Beta 1: 0.85\n",
      "Beta 2: 0.95\n",
      "Weight decay: 0.0001\n",
      "Accuracy: 28.571428298950195\n"
     ]
    },
    {
     "name": "stderr",
     "output_type": "stream",
     "text": [
      "100%|██████████| 123/123 [01:52<00:00,  1.10it/s]\n"
     ]
    },
    {
     "name": "stdout",
     "output_type": "stream",
     "text": [
      "Learning rate: 0.01\n",
      "Beta 1: 0.85\n",
      "Beta 2: 0.99\n",
      "Weight decay: 0\n",
      "Accuracy: 30.803571701049805\n"
     ]
    },
    {
     "name": "stderr",
     "output_type": "stream",
     "text": [
      "100%|██████████| 123/123 [01:50<00:00,  1.13it/s]\n"
     ]
    },
    {
     "name": "stdout",
     "output_type": "stream",
     "text": [
      "Learning rate: 0.01\n",
      "Beta 1: 0.85\n",
      "Beta 2: 0.99\n",
      "Weight decay: 0.01\n",
      "Accuracy: 21.875\n"
     ]
    },
    {
     "name": "stderr",
     "output_type": "stream",
     "text": [
      "100%|██████████| 123/123 [01:51<00:00,  1.11it/s]\n"
     ]
    },
    {
     "name": "stdout",
     "output_type": "stream",
     "text": [
      "Learning rate: 0.01\n",
      "Beta 1: 0.85\n",
      "Beta 2: 0.99\n",
      "Weight decay: 0.001\n",
      "Accuracy: 27.23214340209961\n"
     ]
    },
    {
     "name": "stderr",
     "output_type": "stream",
     "text": [
      "100%|██████████| 123/123 [01:51<00:00,  1.11it/s]\n"
     ]
    },
    {
     "name": "stdout",
     "output_type": "stream",
     "text": [
      "Learning rate: 0.01\n",
      "Beta 1: 0.85\n",
      "Beta 2: 0.99\n",
      "Weight decay: 0.0001\n",
      "Accuracy: 25.446428298950195\n"
     ]
    },
    {
     "name": "stderr",
     "output_type": "stream",
     "text": [
      "100%|██████████| 123/123 [01:52<00:00,  1.18it/s]\n"
     ]
    },
    {
     "name": "stdout",
     "output_type": "stream",
     "text": [
      "Learning rate: 0.01\n",
      "Beta 1: 0.9\n",
      "Beta 2: 0.9\n",
      "Weight decay: 0\n",
      "Accuracy: 34.375\n"
     ]
    },
    {
     "name": "stderr",
     "output_type": "stream",
     "text": [
      "100%|██████████| 123/123 [01:53<00:00,  1.15it/s]\n"
     ]
    },
    {
     "name": "stdout",
     "output_type": "stream",
     "text": [
      "Learning rate: 0.01\n",
      "Beta 1: 0.9\n",
      "Beta 2: 0.9\n",
      "Weight decay: 0.01\n",
      "Accuracy: 28.571428298950195\n"
     ]
    },
    {
     "name": "stderr",
     "output_type": "stream",
     "text": [
      "100%|██████████| 123/123 [01:50<00:00,  1.11it/s]\n"
     ]
    },
    {
     "name": "stdout",
     "output_type": "stream",
     "text": [
      "Learning rate: 0.01\n",
      "Beta 1: 0.9\n",
      "Beta 2: 0.9\n",
      "Weight decay: 0.001\n",
      "Accuracy: 27.678571701049805\n"
     ]
    },
    {
     "name": "stderr",
     "output_type": "stream",
     "text": [
      "100%|██████████| 123/123 [01:52<00:00,  1.12it/s]\n"
     ]
    },
    {
     "name": "stdout",
     "output_type": "stream",
     "text": [
      "Learning rate: 0.01\n",
      "Beta 1: 0.9\n",
      "Beta 2: 0.9\n",
      "Weight decay: 0.0001\n",
      "Accuracy: 27.23214340209961\n"
     ]
    },
    {
     "name": "stderr",
     "output_type": "stream",
     "text": [
      "100%|██████████| 123/123 [01:51<00:00,  1.12it/s]\n"
     ]
    },
    {
     "name": "stdout",
     "output_type": "stream",
     "text": [
      "Learning rate: 0.01\n",
      "Beta 1: 0.9\n",
      "Beta 2: 0.925\n",
      "Weight decay: 0\n",
      "Accuracy: 23.214284896850586\n"
     ]
    },
    {
     "name": "stderr",
     "output_type": "stream",
     "text": [
      "100%|██████████| 123/123 [01:51<00:00,  1.12it/s]\n"
     ]
    },
    {
     "name": "stdout",
     "output_type": "stream",
     "text": [
      "Learning rate: 0.01\n",
      "Beta 1: 0.9\n",
      "Beta 2: 0.925\n",
      "Weight decay: 0.01\n",
      "Accuracy: 29.910715103149414\n"
     ]
    },
    {
     "name": "stderr",
     "output_type": "stream",
     "text": [
      "100%|██████████| 123/123 [01:51<00:00,  1.12it/s]\n"
     ]
    },
    {
     "name": "stdout",
     "output_type": "stream",
     "text": [
      "Learning rate: 0.01\n",
      "Beta 1: 0.9\n",
      "Beta 2: 0.925\n",
      "Weight decay: 0.001\n",
      "Accuracy: 26.339284896850586\n"
     ]
    },
    {
     "name": "stderr",
     "output_type": "stream",
     "text": [
      "100%|██████████| 123/123 [01:51<00:00,  1.18it/s]\n"
     ]
    },
    {
     "name": "stdout",
     "output_type": "stream",
     "text": [
      "Learning rate: 0.01\n",
      "Beta 1: 0.9\n",
      "Beta 2: 0.925\n",
      "Weight decay: 0.0001\n",
      "Accuracy: 25.89285659790039\n"
     ]
    },
    {
     "name": "stderr",
     "output_type": "stream",
     "text": [
      "100%|██████████| 123/123 [01:50<00:00,  1.15it/s]\n"
     ]
    },
    {
     "name": "stdout",
     "output_type": "stream",
     "text": [
      "Learning rate: 0.01\n",
      "Beta 1: 0.9\n",
      "Beta 2: 0.95\n",
      "Weight decay: 0\n",
      "Accuracy: 20.535715103149414\n"
     ]
    },
    {
     "name": "stderr",
     "output_type": "stream",
     "text": [
      "100%|██████████| 123/123 [01:52<00:00,  1.12it/s]\n"
     ]
    },
    {
     "name": "stdout",
     "output_type": "stream",
     "text": [
      "Learning rate: 0.01\n",
      "Beta 1: 0.9\n",
      "Beta 2: 0.95\n",
      "Weight decay: 0.01\n",
      "Accuracy: 30.35714340209961\n"
     ]
    },
    {
     "name": "stderr",
     "output_type": "stream",
     "text": [
      "100%|██████████| 123/123 [01:52<00:00,  1.11it/s]\n"
     ]
    },
    {
     "name": "stdout",
     "output_type": "stream",
     "text": [
      "Learning rate: 0.01\n",
      "Beta 1: 0.9\n",
      "Beta 2: 0.95\n",
      "Weight decay: 0.001\n",
      "Accuracy: 30.803571701049805\n"
     ]
    },
    {
     "name": "stderr",
     "output_type": "stream",
     "text": [
      "100%|██████████| 123/123 [01:51<00:00,  1.12it/s]\n"
     ]
    },
    {
     "name": "stdout",
     "output_type": "stream",
     "text": [
      "Learning rate: 0.01\n",
      "Beta 1: 0.9\n",
      "Beta 2: 0.95\n",
      "Weight decay: 0.0001\n",
      "Accuracy: 37.94643020629883\n"
     ]
    },
    {
     "name": "stderr",
     "output_type": "stream",
     "text": [
      "100%|██████████| 123/123 [01:52<00:00,  1.11it/s]\n"
     ]
    },
    {
     "name": "stdout",
     "output_type": "stream",
     "text": [
      "Learning rate: 0.01\n",
      "Beta 1: 0.9\n",
      "Beta 2: 0.99\n",
      "Weight decay: 0\n",
      "Accuracy: 27.678571701049805\n"
     ]
    },
    {
     "name": "stderr",
     "output_type": "stream",
     "text": [
      "100%|██████████| 123/123 [01:52<00:00,  1.10it/s]\n"
     ]
    },
    {
     "name": "stdout",
     "output_type": "stream",
     "text": [
      "Learning rate: 0.01\n",
      "Beta 1: 0.9\n",
      "Beta 2: 0.99\n",
      "Weight decay: 0.01\n",
      "Accuracy: 22.321428298950195\n"
     ]
    },
    {
     "name": "stderr",
     "output_type": "stream",
     "text": [
      "100%|██████████| 123/123 [01:52<00:00,  1.10it/s]\n"
     ]
    },
    {
     "name": "stdout",
     "output_type": "stream",
     "text": [
      "Learning rate: 0.01\n",
      "Beta 1: 0.9\n",
      "Beta 2: 0.99\n",
      "Weight decay: 0.001\n",
      "Accuracy: 30.35714340209961\n"
     ]
    },
    {
     "name": "stderr",
     "output_type": "stream",
     "text": [
      "100%|██████████| 123/123 [01:54<00:00,  1.11it/s]\n"
     ]
    },
    {
     "name": "stdout",
     "output_type": "stream",
     "text": [
      "Learning rate: 0.01\n",
      "Beta 1: 0.9\n",
      "Beta 2: 0.99\n",
      "Weight decay: 0.0001\n",
      "Accuracy: 26.785715103149414\n"
     ]
    },
    {
     "name": "stderr",
     "output_type": "stream",
     "text": [
      "100%|██████████| 123/123 [01:51<00:00,  1.15it/s]\n"
     ]
    },
    {
     "name": "stdout",
     "output_type": "stream",
     "text": [
      "Learning rate: 0.01\n",
      "Beta 1: 0.95\n",
      "Beta 2: 0.9\n",
      "Weight decay: 0\n",
      "Accuracy: 22.76785659790039\n"
     ]
    },
    {
     "name": "stderr",
     "output_type": "stream",
     "text": [
      "100%|██████████| 123/123 [01:52<00:00,  1.12it/s]\n"
     ]
    },
    {
     "name": "stdout",
     "output_type": "stream",
     "text": [
      "Learning rate: 0.01\n",
      "Beta 1: 0.95\n",
      "Beta 2: 0.9\n",
      "Weight decay: 0.01\n",
      "Accuracy: 27.678571701049805\n"
     ]
    },
    {
     "name": "stderr",
     "output_type": "stream",
     "text": [
      "100%|██████████| 123/123 [01:52<00:00,  1.11it/s]\n"
     ]
    },
    {
     "name": "stdout",
     "output_type": "stream",
     "text": [
      "Learning rate: 0.01\n",
      "Beta 1: 0.95\n",
      "Beta 2: 0.9\n",
      "Weight decay: 0.001\n",
      "Accuracy: 25.89285659790039\n"
     ]
    },
    {
     "name": "stderr",
     "output_type": "stream",
     "text": [
      "100%|██████████| 123/123 [01:51<00:00,  1.11it/s]\n"
     ]
    },
    {
     "name": "stdout",
     "output_type": "stream",
     "text": [
      "Learning rate: 0.01\n",
      "Beta 1: 0.95\n",
      "Beta 2: 0.9\n",
      "Weight decay: 0.0001\n",
      "Accuracy: 25.89285659790039\n"
     ]
    },
    {
     "name": "stderr",
     "output_type": "stream",
     "text": [
      "100%|██████████| 123/123 [01:52<00:00,  1.10it/s]\n"
     ]
    },
    {
     "name": "stdout",
     "output_type": "stream",
     "text": [
      "Learning rate: 0.01\n",
      "Beta 1: 0.95\n",
      "Beta 2: 0.925\n",
      "Weight decay: 0\n",
      "Accuracy: 30.803571701049805\n"
     ]
    },
    {
     "name": "stderr",
     "output_type": "stream",
     "text": [
      "100%|██████████| 123/123 [01:53<00:00,  1.11it/s]\n"
     ]
    },
    {
     "name": "stdout",
     "output_type": "stream",
     "text": [
      "Learning rate: 0.01\n",
      "Beta 1: 0.95\n",
      "Beta 2: 0.925\n",
      "Weight decay: 0.01\n",
      "Accuracy: 29.01785659790039\n"
     ]
    },
    {
     "name": "stderr",
     "output_type": "stream",
     "text": [
      "100%|██████████| 123/123 [01:52<00:00,  1.12it/s]\n"
     ]
    },
    {
     "name": "stdout",
     "output_type": "stream",
     "text": [
      "Learning rate: 0.01\n",
      "Beta 1: 0.95\n",
      "Beta 2: 0.925\n",
      "Weight decay: 0.001\n",
      "Accuracy: 26.339284896850586\n"
     ]
    },
    {
     "name": "stderr",
     "output_type": "stream",
     "text": [
      "100%|██████████| 123/123 [01:52<00:00,  1.19it/s]\n"
     ]
    },
    {
     "name": "stdout",
     "output_type": "stream",
     "text": [
      "Learning rate: 0.01\n",
      "Beta 1: 0.95\n",
      "Beta 2: 0.925\n",
      "Weight decay: 0.0001\n",
      "Accuracy: 24.10714340209961\n"
     ]
    },
    {
     "name": "stderr",
     "output_type": "stream",
     "text": [
      "100%|██████████| 123/123 [01:52<00:00,  1.10it/s]\n"
     ]
    },
    {
     "name": "stdout",
     "output_type": "stream",
     "text": [
      "Learning rate: 0.01\n",
      "Beta 1: 0.95\n",
      "Beta 2: 0.95\n",
      "Weight decay: 0\n",
      "Accuracy: 21.428571701049805\n"
     ]
    },
    {
     "name": "stderr",
     "output_type": "stream",
     "text": [
      "100%|██████████| 123/123 [01:51<00:00,  1.11it/s]\n"
     ]
    },
    {
     "name": "stdout",
     "output_type": "stream",
     "text": [
      "Learning rate: 0.01\n",
      "Beta 1: 0.95\n",
      "Beta 2: 0.95\n",
      "Weight decay: 0.01\n",
      "Accuracy: 28.125\n"
     ]
    },
    {
     "name": "stderr",
     "output_type": "stream",
     "text": [
      "100%|██████████| 123/123 [01:52<00:00,  1.14it/s]\n"
     ]
    },
    {
     "name": "stdout",
     "output_type": "stream",
     "text": [
      "Learning rate: 0.01\n",
      "Beta 1: 0.95\n",
      "Beta 2: 0.95\n",
      "Weight decay: 0.001\n",
      "Accuracy: 30.803571701049805\n"
     ]
    },
    {
     "name": "stderr",
     "output_type": "stream",
     "text": [
      "100%|██████████| 123/123 [01:53<00:00,  1.10it/s]\n"
     ]
    },
    {
     "name": "stdout",
     "output_type": "stream",
     "text": [
      "Learning rate: 0.01\n",
      "Beta 1: 0.95\n",
      "Beta 2: 0.95\n",
      "Weight decay: 0.0001\n",
      "Accuracy: 27.23214340209961\n"
     ]
    },
    {
     "name": "stderr",
     "output_type": "stream",
     "text": [
      "100%|██████████| 123/123 [01:52<00:00,  1.11it/s]\n"
     ]
    },
    {
     "name": "stdout",
     "output_type": "stream",
     "text": [
      "Learning rate: 0.01\n",
      "Beta 1: 0.95\n",
      "Beta 2: 0.99\n",
      "Weight decay: 0\n",
      "Accuracy: 25.446428298950195\n"
     ]
    },
    {
     "name": "stderr",
     "output_type": "stream",
     "text": [
      "100%|██████████| 123/123 [01:53<00:00,  1.11it/s]\n"
     ]
    },
    {
     "name": "stdout",
     "output_type": "stream",
     "text": [
      "Learning rate: 0.01\n",
      "Beta 1: 0.95\n",
      "Beta 2: 0.99\n",
      "Weight decay: 0.01\n",
      "Accuracy: 29.464284896850586\n"
     ]
    },
    {
     "name": "stderr",
     "output_type": "stream",
     "text": [
      "100%|██████████| 123/123 [01:51<00:00,  1.12it/s]\n"
     ]
    },
    {
     "name": "stdout",
     "output_type": "stream",
     "text": [
      "Learning rate: 0.01\n",
      "Beta 1: 0.95\n",
      "Beta 2: 0.99\n",
      "Weight decay: 0.001\n",
      "Accuracy: 23.660715103149414\n"
     ]
    },
    {
     "name": "stderr",
     "output_type": "stream",
     "text": [
      "100%|██████████| 123/123 [01:52<00:00,  1.11it/s]\n"
     ]
    },
    {
     "name": "stdout",
     "output_type": "stream",
     "text": [
      "Learning rate: 0.01\n",
      "Beta 1: 0.95\n",
      "Beta 2: 0.99\n",
      "Weight decay: 0.0001\n",
      "Accuracy: 30.35714340209961\n"
     ]
    },
    {
     "name": "stderr",
     "output_type": "stream",
     "text": [
      "100%|██████████| 123/123 [01:50<00:00,  1.11it/s]\n"
     ]
    },
    {
     "name": "stdout",
     "output_type": "stream",
     "text": [
      "Learning rate: 0.001\n",
      "Beta 1: 0.8\n",
      "Beta 2: 0.9\n",
      "Weight decay: 0\n",
      "Accuracy: 37.94643020629883\n"
     ]
    },
    {
     "name": "stderr",
     "output_type": "stream",
     "text": [
      "100%|██████████| 123/123 [01:53<00:00,  1.12it/s]\n"
     ]
    },
    {
     "name": "stdout",
     "output_type": "stream",
     "text": [
      "Learning rate: 0.001\n",
      "Beta 1: 0.8\n",
      "Beta 2: 0.9\n",
      "Weight decay: 0.01\n",
      "Accuracy: 33.03571319580078\n"
     ]
    },
    {
     "name": "stderr",
     "output_type": "stream",
     "text": [
      "100%|██████████| 123/123 [01:51<00:00,  1.11it/s]\n"
     ]
    },
    {
     "name": "stdout",
     "output_type": "stream",
     "text": [
      "Learning rate: 0.001\n",
      "Beta 1: 0.8\n",
      "Beta 2: 0.9\n",
      "Weight decay: 0.001\n",
      "Accuracy: 32.14285659790039\n"
     ]
    },
    {
     "name": "stderr",
     "output_type": "stream",
     "text": [
      "100%|██████████| 123/123 [01:52<00:00,  1.10it/s]\n"
     ]
    },
    {
     "name": "stdout",
     "output_type": "stream",
     "text": [
      "Learning rate: 0.001\n",
      "Beta 1: 0.8\n",
      "Beta 2: 0.9\n",
      "Weight decay: 0.0001\n",
      "Accuracy: 36.16071319580078\n"
     ]
    },
    {
     "name": "stderr",
     "output_type": "stream",
     "text": [
      "100%|██████████| 123/123 [01:52<00:00,  1.12it/s]\n"
     ]
    },
    {
     "name": "stdout",
     "output_type": "stream",
     "text": [
      "Learning rate: 0.001\n",
      "Beta 1: 0.8\n",
      "Beta 2: 0.925\n",
      "Weight decay: 0\n",
      "Accuracy: 36.16071319580078\n"
     ]
    },
    {
     "name": "stderr",
     "output_type": "stream",
     "text": [
      "100%|██████████| 123/123 [01:52<00:00,  1.11it/s]\n"
     ]
    },
    {
     "name": "stdout",
     "output_type": "stream",
     "text": [
      "Learning rate: 0.001\n",
      "Beta 1: 0.8\n",
      "Beta 2: 0.925\n",
      "Weight decay: 0.01\n",
      "Accuracy: 40.625\n"
     ]
    },
    {
     "name": "stderr",
     "output_type": "stream",
     "text": [
      "100%|██████████| 123/123 [01:51<00:00,  1.11it/s]\n"
     ]
    },
    {
     "name": "stdout",
     "output_type": "stream",
     "text": [
      "Learning rate: 0.001\n",
      "Beta 1: 0.8\n",
      "Beta 2: 0.925\n",
      "Weight decay: 0.001\n",
      "Accuracy: 38.83928680419922\n"
     ]
    },
    {
     "name": "stderr",
     "output_type": "stream",
     "text": [
      "100%|██████████| 123/123 [01:52<00:00,  1.12it/s]\n"
     ]
    },
    {
     "name": "stdout",
     "output_type": "stream",
     "text": [
      "Learning rate: 0.001\n",
      "Beta 1: 0.8\n",
      "Beta 2: 0.925\n",
      "Weight decay: 0.0001\n",
      "Accuracy: 32.14285659790039\n"
     ]
    },
    {
     "name": "stderr",
     "output_type": "stream",
     "text": [
      "100%|██████████| 123/123 [01:52<00:00,  1.12it/s]\n"
     ]
    },
    {
     "name": "stdout",
     "output_type": "stream",
     "text": [
      "Learning rate: 0.001\n",
      "Beta 1: 0.8\n",
      "Beta 2: 0.95\n",
      "Weight decay: 0\n",
      "Accuracy: 32.58928680419922\n"
     ]
    },
    {
     "name": "stderr",
     "output_type": "stream",
     "text": [
      "100%|██████████| 123/123 [01:53<00:00,  1.16it/s]\n"
     ]
    },
    {
     "name": "stdout",
     "output_type": "stream",
     "text": [
      "Learning rate: 0.001\n",
      "Beta 1: 0.8\n",
      "Beta 2: 0.95\n",
      "Weight decay: 0.01\n",
      "Accuracy: 34.82143020629883\n"
     ]
    },
    {
     "name": "stderr",
     "output_type": "stream",
     "text": [
      "100%|██████████| 123/123 [01:52<00:00,  1.18it/s]\n"
     ]
    },
    {
     "name": "stdout",
     "output_type": "stream",
     "text": [
      "Learning rate: 0.001\n",
      "Beta 1: 0.8\n",
      "Beta 2: 0.95\n",
      "Weight decay: 0.001\n",
      "Accuracy: 32.58928680419922\n"
     ]
    },
    {
     "name": "stderr",
     "output_type": "stream",
     "text": [
      "100%|██████████| 123/123 [01:52<00:00,  1.12it/s]\n"
     ]
    },
    {
     "name": "stdout",
     "output_type": "stream",
     "text": [
      "Learning rate: 0.001\n",
      "Beta 1: 0.8\n",
      "Beta 2: 0.95\n",
      "Weight decay: 0.0001\n",
      "Accuracy: 31.25\n"
     ]
    },
    {
     "name": "stderr",
     "output_type": "stream",
     "text": [
      "100%|██████████| 123/123 [01:51<00:00,  1.20it/s]\n"
     ]
    },
    {
     "name": "stdout",
     "output_type": "stream",
     "text": [
      "Learning rate: 0.001\n",
      "Beta 1: 0.8\n",
      "Beta 2: 0.99\n",
      "Weight decay: 0\n",
      "Accuracy: 32.58928680419922\n"
     ]
    },
    {
     "name": "stderr",
     "output_type": "stream",
     "text": [
      "100%|██████████| 123/123 [01:51<00:00,  1.12it/s]\n"
     ]
    },
    {
     "name": "stdout",
     "output_type": "stream",
     "text": [
      "Learning rate: 0.001\n",
      "Beta 1: 0.8\n",
      "Beta 2: 0.99\n",
      "Weight decay: 0.01\n",
      "Accuracy: 39.28571319580078\n"
     ]
    },
    {
     "name": "stderr",
     "output_type": "stream",
     "text": [
      "100%|██████████| 123/123 [01:52<00:00,  1.12it/s]\n"
     ]
    },
    {
     "name": "stdout",
     "output_type": "stream",
     "text": [
      "Learning rate: 0.001\n",
      "Beta 1: 0.8\n",
      "Beta 2: 0.99\n",
      "Weight decay: 0.001\n",
      "Accuracy: 32.14285659790039\n"
     ]
    },
    {
     "name": "stderr",
     "output_type": "stream",
     "text": [
      "100%|██████████| 123/123 [01:52<00:00,  1.11it/s]\n"
     ]
    },
    {
     "name": "stdout",
     "output_type": "stream",
     "text": [
      "Learning rate: 0.001\n",
      "Beta 1: 0.8\n",
      "Beta 2: 0.99\n",
      "Weight decay: 0.0001\n",
      "Accuracy: 33.92856979370117\n"
     ]
    },
    {
     "name": "stderr",
     "output_type": "stream",
     "text": [
      "100%|██████████| 123/123 [01:51<00:00,  1.14it/s]\n"
     ]
    },
    {
     "name": "stdout",
     "output_type": "stream",
     "text": [
      "Learning rate: 0.001\n",
      "Beta 1: 0.85\n",
      "Beta 2: 0.9\n",
      "Weight decay: 0\n",
      "Accuracy: 33.03571319580078\n"
     ]
    },
    {
     "name": "stderr",
     "output_type": "stream",
     "text": [
      "100%|██████████| 123/123 [01:50<00:00,  1.12it/s]\n"
     ]
    },
    {
     "name": "stdout",
     "output_type": "stream",
     "text": [
      "Learning rate: 0.001\n",
      "Beta 1: 0.85\n",
      "Beta 2: 0.9\n",
      "Weight decay: 0.01\n",
      "Accuracy: 34.375\n"
     ]
    },
    {
     "name": "stderr",
     "output_type": "stream",
     "text": [
      "100%|██████████| 123/123 [01:53<00:00,  1.13it/s]\n"
     ]
    },
    {
     "name": "stdout",
     "output_type": "stream",
     "text": [
      "Learning rate: 0.001\n",
      "Beta 1: 0.85\n",
      "Beta 2: 0.9\n",
      "Weight decay: 0.001\n",
      "Accuracy: 35.71428680419922\n"
     ]
    },
    {
     "name": "stderr",
     "output_type": "stream",
     "text": [
      "100%|██████████| 123/123 [01:53<00:00,  1.10it/s]\n"
     ]
    },
    {
     "name": "stdout",
     "output_type": "stream",
     "text": [
      "Learning rate: 0.001\n",
      "Beta 1: 0.85\n",
      "Beta 2: 0.9\n",
      "Weight decay: 0.0001\n",
      "Accuracy: 32.14285659790039\n"
     ]
    },
    {
     "name": "stderr",
     "output_type": "stream",
     "text": [
      "100%|██████████| 123/123 [01:50<00:00,  1.12it/s]\n"
     ]
    },
    {
     "name": "stdout",
     "output_type": "stream",
     "text": [
      "Learning rate: 0.001\n",
      "Beta 1: 0.85\n",
      "Beta 2: 0.925\n",
      "Weight decay: 0\n",
      "Accuracy: 36.60714340209961\n"
     ]
    },
    {
     "name": "stderr",
     "output_type": "stream",
     "text": [
      "100%|██████████| 123/123 [01:53<00:00,  1.13it/s]\n"
     ]
    },
    {
     "name": "stdout",
     "output_type": "stream",
     "text": [
      "Learning rate: 0.001\n",
      "Beta 1: 0.85\n",
      "Beta 2: 0.925\n",
      "Weight decay: 0.01\n",
      "Accuracy: 37.5\n"
     ]
    },
    {
     "name": "stderr",
     "output_type": "stream",
     "text": [
      "100%|██████████| 123/123 [01:52<00:00,  1.12it/s]\n"
     ]
    },
    {
     "name": "stdout",
     "output_type": "stream",
     "text": [
      "Learning rate: 0.001\n",
      "Beta 1: 0.85\n",
      "Beta 2: 0.925\n",
      "Weight decay: 0.001\n",
      "Accuracy: 34.82143020629883\n"
     ]
    },
    {
     "name": "stderr",
     "output_type": "stream",
     "text": [
      "100%|██████████| 123/123 [01:50<00:00,  1.16it/s]\n"
     ]
    },
    {
     "name": "stdout",
     "output_type": "stream",
     "text": [
      "Learning rate: 0.001\n",
      "Beta 1: 0.85\n",
      "Beta 2: 0.925\n",
      "Weight decay: 0.0001\n",
      "Accuracy: 33.92856979370117\n"
     ]
    },
    {
     "name": "stderr",
     "output_type": "stream",
     "text": [
      "100%|██████████| 123/123 [01:51<00:00,  1.13it/s]\n"
     ]
    },
    {
     "name": "stdout",
     "output_type": "stream",
     "text": [
      "Learning rate: 0.001\n",
      "Beta 1: 0.85\n",
      "Beta 2: 0.95\n",
      "Weight decay: 0\n",
      "Accuracy: 40.17856979370117\n"
     ]
    },
    {
     "name": "stderr",
     "output_type": "stream",
     "text": [
      "100%|██████████| 123/123 [01:51<00:00,  1.12it/s]\n"
     ]
    },
    {
     "name": "stdout",
     "output_type": "stream",
     "text": [
      "Learning rate: 0.001\n",
      "Beta 1: 0.85\n",
      "Beta 2: 0.95\n",
      "Weight decay: 0.01\n",
      "Accuracy: 32.58928680419922\n"
     ]
    },
    {
     "name": "stderr",
     "output_type": "stream",
     "text": [
      "100%|██████████| 123/123 [01:52<00:00,  1.12it/s]\n"
     ]
    },
    {
     "name": "stdout",
     "output_type": "stream",
     "text": [
      "Learning rate: 0.001\n",
      "Beta 1: 0.85\n",
      "Beta 2: 0.95\n",
      "Weight decay: 0.001\n",
      "Accuracy: 33.48214340209961\n"
     ]
    },
    {
     "name": "stderr",
     "output_type": "stream",
     "text": [
      "100%|██████████| 123/123 [01:52<00:00,  1.12it/s]\n"
     ]
    },
    {
     "name": "stdout",
     "output_type": "stream",
     "text": [
      "Learning rate: 0.001\n",
      "Beta 1: 0.85\n",
      "Beta 2: 0.95\n",
      "Weight decay: 0.0001\n",
      "Accuracy: 35.26785659790039\n"
     ]
    },
    {
     "name": "stderr",
     "output_type": "stream",
     "text": [
      "100%|██████████| 123/123 [01:50<00:00,  1.14it/s]\n"
     ]
    },
    {
     "name": "stdout",
     "output_type": "stream",
     "text": [
      "Learning rate: 0.001\n",
      "Beta 1: 0.85\n",
      "Beta 2: 0.99\n",
      "Weight decay: 0\n",
      "Accuracy: 37.5\n"
     ]
    },
    {
     "name": "stderr",
     "output_type": "stream",
     "text": [
      "100%|██████████| 123/123 [01:52<00:00,  1.12it/s]\n"
     ]
    },
    {
     "name": "stdout",
     "output_type": "stream",
     "text": [
      "Learning rate: 0.001\n",
      "Beta 1: 0.85\n",
      "Beta 2: 0.99\n",
      "Weight decay: 0.01\n",
      "Accuracy: 34.375\n"
     ]
    },
    {
     "name": "stderr",
     "output_type": "stream",
     "text": [
      "100%|██████████| 123/123 [01:53<00:00,  1.13it/s]\n"
     ]
    },
    {
     "name": "stdout",
     "output_type": "stream",
     "text": [
      "Learning rate: 0.001\n",
      "Beta 1: 0.85\n",
      "Beta 2: 0.99\n",
      "Weight decay: 0.001\n",
      "Accuracy: 34.375\n"
     ]
    },
    {
     "name": "stderr",
     "output_type": "stream",
     "text": [
      "100%|██████████| 123/123 [01:52<00:00,  1.15it/s]\n"
     ]
    },
    {
     "name": "stdout",
     "output_type": "stream",
     "text": [
      "Learning rate: 0.001\n",
      "Beta 1: 0.85\n",
      "Beta 2: 0.99\n",
      "Weight decay: 0.0001\n",
      "Accuracy: 33.92856979370117\n"
     ]
    },
    {
     "name": "stderr",
     "output_type": "stream",
     "text": [
      "100%|██████████| 123/123 [01:50<00:00,  1.18it/s]\n"
     ]
    },
    {
     "name": "stdout",
     "output_type": "stream",
     "text": [
      "Learning rate: 0.001\n",
      "Beta 1: 0.9\n",
      "Beta 2: 0.9\n",
      "Weight decay: 0\n",
      "Accuracy: 37.94643020629883\n"
     ]
    },
    {
     "name": "stderr",
     "output_type": "stream",
     "text": [
      "100%|██████████| 123/123 [01:52<00:00,  1.11it/s]\n"
     ]
    },
    {
     "name": "stdout",
     "output_type": "stream",
     "text": [
      "Learning rate: 0.001\n",
      "Beta 1: 0.9\n",
      "Beta 2: 0.9\n",
      "Weight decay: 0.01\n",
      "Accuracy: 32.14285659790039\n"
     ]
    },
    {
     "name": "stderr",
     "output_type": "stream",
     "text": [
      "100%|██████████| 123/123 [01:51<00:00,  1.12it/s]\n"
     ]
    },
    {
     "name": "stdout",
     "output_type": "stream",
     "text": [
      "Learning rate: 0.001\n",
      "Beta 1: 0.9\n",
      "Beta 2: 0.9\n",
      "Weight decay: 0.001\n",
      "Accuracy: 35.26785659790039\n"
     ]
    },
    {
     "name": "stderr",
     "output_type": "stream",
     "text": [
      "100%|██████████| 123/123 [01:52<00:00,  1.21it/s]\n"
     ]
    },
    {
     "name": "stdout",
     "output_type": "stream",
     "text": [
      "Learning rate: 0.001\n",
      "Beta 1: 0.9\n",
      "Beta 2: 0.9\n",
      "Weight decay: 0.0001\n",
      "Accuracy: 37.94643020629883\n"
     ]
    },
    {
     "name": "stderr",
     "output_type": "stream",
     "text": [
      "100%|██████████| 123/123 [01:51<00:00,  1.12it/s]\n"
     ]
    },
    {
     "name": "stdout",
     "output_type": "stream",
     "text": [
      "Learning rate: 0.001\n",
      "Beta 1: 0.9\n",
      "Beta 2: 0.925\n",
      "Weight decay: 0\n",
      "Accuracy: 33.48214340209961\n"
     ]
    },
    {
     "name": "stderr",
     "output_type": "stream",
     "text": [
      "100%|██████████| 123/123 [01:52<00:00,  1.12it/s]\n"
     ]
    },
    {
     "name": "stdout",
     "output_type": "stream",
     "text": [
      "Learning rate: 0.001\n",
      "Beta 1: 0.9\n",
      "Beta 2: 0.925\n",
      "Weight decay: 0.01\n",
      "Accuracy: 37.94643020629883\n"
     ]
    },
    {
     "name": "stderr",
     "output_type": "stream",
     "text": [
      "100%|██████████| 123/123 [01:52<00:00,  1.11it/s]\n"
     ]
    },
    {
     "name": "stdout",
     "output_type": "stream",
     "text": [
      "Learning rate: 0.001\n",
      "Beta 1: 0.9\n",
      "Beta 2: 0.925\n",
      "Weight decay: 0.001\n",
      "Accuracy: 33.92856979370117\n"
     ]
    },
    {
     "name": "stderr",
     "output_type": "stream",
     "text": [
      "100%|██████████| 123/123 [01:51<00:00,  1.11it/s]\n"
     ]
    },
    {
     "name": "stdout",
     "output_type": "stream",
     "text": [
      "Learning rate: 0.001\n",
      "Beta 1: 0.9\n",
      "Beta 2: 0.925\n",
      "Weight decay: 0.0001\n",
      "Accuracy: 33.92856979370117\n"
     ]
    },
    {
     "name": "stderr",
     "output_type": "stream",
     "text": [
      "100%|██████████| 123/123 [01:51<00:00,  1.11it/s]\n"
     ]
    },
    {
     "name": "stdout",
     "output_type": "stream",
     "text": [
      "Learning rate: 0.001\n",
      "Beta 1: 0.9\n",
      "Beta 2: 0.95\n",
      "Weight decay: 0\n",
      "Accuracy: 34.375\n"
     ]
    },
    {
     "name": "stderr",
     "output_type": "stream",
     "text": [
      "100%|██████████| 123/123 [01:52<00:00,  1.11it/s]\n"
     ]
    },
    {
     "name": "stdout",
     "output_type": "stream",
     "text": [
      "Learning rate: 0.001\n",
      "Beta 1: 0.9\n",
      "Beta 2: 0.95\n",
      "Weight decay: 0.01\n",
      "Accuracy: 33.03571319580078\n"
     ]
    },
    {
     "name": "stderr",
     "output_type": "stream",
     "text": [
      "100%|██████████| 123/123 [01:51<00:00,  1.19it/s]\n"
     ]
    },
    {
     "name": "stdout",
     "output_type": "stream",
     "text": [
      "Learning rate: 0.001\n",
      "Beta 1: 0.9\n",
      "Beta 2: 0.95\n",
      "Weight decay: 0.001\n",
      "Accuracy: 35.26785659790039\n"
     ]
    },
    {
     "name": "stderr",
     "output_type": "stream",
     "text": [
      "100%|██████████| 123/123 [01:51<00:00,  1.11it/s]\n"
     ]
    },
    {
     "name": "stdout",
     "output_type": "stream",
     "text": [
      "Learning rate: 0.001\n",
      "Beta 1: 0.9\n",
      "Beta 2: 0.95\n",
      "Weight decay: 0.0001\n",
      "Accuracy: 32.58928680419922\n"
     ]
    },
    {
     "name": "stderr",
     "output_type": "stream",
     "text": [
      "100%|██████████| 123/123 [01:51<00:00,  1.17it/s]\n"
     ]
    },
    {
     "name": "stdout",
     "output_type": "stream",
     "text": [
      "Learning rate: 0.001\n",
      "Beta 1: 0.9\n",
      "Beta 2: 0.99\n",
      "Weight decay: 0\n",
      "Accuracy: 34.82143020629883\n"
     ]
    },
    {
     "name": "stderr",
     "output_type": "stream",
     "text": [
      "100%|██████████| 123/123 [01:53<00:00,  1.11it/s]\n"
     ]
    },
    {
     "name": "stdout",
     "output_type": "stream",
     "text": [
      "Learning rate: 0.001\n",
      "Beta 1: 0.9\n",
      "Beta 2: 0.99\n",
      "Weight decay: 0.01\n",
      "Accuracy: 33.03571319580078\n"
     ]
    },
    {
     "name": "stderr",
     "output_type": "stream",
     "text": [
      "100%|██████████| 123/123 [01:52<00:00,  1.11it/s]\n"
     ]
    },
    {
     "name": "stdout",
     "output_type": "stream",
     "text": [
      "Learning rate: 0.001\n",
      "Beta 1: 0.9\n",
      "Beta 2: 0.99\n",
      "Weight decay: 0.001\n",
      "Accuracy: 37.5\n"
     ]
    },
    {
     "name": "stderr",
     "output_type": "stream",
     "text": [
      "100%|██████████| 123/123 [01:52<00:00,  1.14it/s]\n"
     ]
    },
    {
     "name": "stdout",
     "output_type": "stream",
     "text": [
      "Learning rate: 0.001\n",
      "Beta 1: 0.9\n",
      "Beta 2: 0.99\n",
      "Weight decay: 0.0001\n",
      "Accuracy: 38.83928680419922\n"
     ]
    },
    {
     "name": "stderr",
     "output_type": "stream",
     "text": [
      "100%|██████████| 123/123 [01:53<00:00,  1.11it/s]\n"
     ]
    },
    {
     "name": "stdout",
     "output_type": "stream",
     "text": [
      "Learning rate: 0.001\n",
      "Beta 1: 0.95\n",
      "Beta 2: 0.9\n",
      "Weight decay: 0\n",
      "Accuracy: 35.26785659790039\n"
     ]
    },
    {
     "name": "stderr",
     "output_type": "stream",
     "text": [
      "100%|██████████| 123/123 [01:53<00:00,  1.12it/s]\n"
     ]
    },
    {
     "name": "stdout",
     "output_type": "stream",
     "text": [
      "Learning rate: 0.001\n",
      "Beta 1: 0.95\n",
      "Beta 2: 0.9\n",
      "Weight decay: 0.01\n",
      "Accuracy: 38.39285659790039\n"
     ]
    },
    {
     "name": "stderr",
     "output_type": "stream",
     "text": [
      "100%|██████████| 123/123 [01:53<00:00,  1.10it/s]\n"
     ]
    },
    {
     "name": "stdout",
     "output_type": "stream",
     "text": [
      "Learning rate: 0.001\n",
      "Beta 1: 0.95\n",
      "Beta 2: 0.9\n",
      "Weight decay: 0.001\n",
      "Accuracy: 40.625\n"
     ]
    },
    {
     "name": "stderr",
     "output_type": "stream",
     "text": [
      "100%|██████████| 123/123 [01:51<00:00,  1.11it/s]\n"
     ]
    },
    {
     "name": "stdout",
     "output_type": "stream",
     "text": [
      "Learning rate: 0.001\n",
      "Beta 1: 0.95\n",
      "Beta 2: 0.9\n",
      "Weight decay: 0.0001\n",
      "Accuracy: 35.26785659790039\n"
     ]
    },
    {
     "name": "stderr",
     "output_type": "stream",
     "text": [
      "100%|██████████| 123/123 [01:52<00:00,  1.11it/s]\n"
     ]
    },
    {
     "name": "stdout",
     "output_type": "stream",
     "text": [
      "Learning rate: 0.001\n",
      "Beta 1: 0.95\n",
      "Beta 2: 0.925\n",
      "Weight decay: 0\n",
      "Accuracy: 32.14285659790039\n"
     ]
    },
    {
     "name": "stderr",
     "output_type": "stream",
     "text": [
      "100%|██████████| 123/123 [01:51<00:00,  1.16it/s]\n"
     ]
    },
    {
     "name": "stdout",
     "output_type": "stream",
     "text": [
      "Learning rate: 0.001\n",
      "Beta 1: 0.95\n",
      "Beta 2: 0.925\n",
      "Weight decay: 0.01\n",
      "Accuracy: 35.71428680419922\n"
     ]
    },
    {
     "name": "stderr",
     "output_type": "stream",
     "text": [
      "100%|██████████| 123/123 [01:53<00:00,  1.11it/s]\n"
     ]
    },
    {
     "name": "stdout",
     "output_type": "stream",
     "text": [
      "Learning rate: 0.001\n",
      "Beta 1: 0.95\n",
      "Beta 2: 0.925\n",
      "Weight decay: 0.001\n",
      "Accuracy: 32.58928680419922\n"
     ]
    },
    {
     "name": "stderr",
     "output_type": "stream",
     "text": [
      "100%|██████████| 123/123 [01:52<00:00,  1.11it/s]\n"
     ]
    },
    {
     "name": "stdout",
     "output_type": "stream",
     "text": [
      "Learning rate: 0.001\n",
      "Beta 1: 0.95\n",
      "Beta 2: 0.925\n",
      "Weight decay: 0.0001\n",
      "Accuracy: 31.696428298950195\n"
     ]
    },
    {
     "name": "stderr",
     "output_type": "stream",
     "text": [
      "100%|██████████| 123/123 [01:52<00:00,  1.11it/s]\n"
     ]
    },
    {
     "name": "stdout",
     "output_type": "stream",
     "text": [
      "Learning rate: 0.001\n",
      "Beta 1: 0.95\n",
      "Beta 2: 0.95\n",
      "Weight decay: 0\n",
      "Accuracy: 36.16071319580078\n"
     ]
    },
    {
     "name": "stderr",
     "output_type": "stream",
     "text": [
      "100%|██████████| 123/123 [01:51<00:00,  1.21it/s]\n"
     ]
    },
    {
     "name": "stdout",
     "output_type": "stream",
     "text": [
      "Learning rate: 0.001\n",
      "Beta 1: 0.95\n",
      "Beta 2: 0.95\n",
      "Weight decay: 0.01\n",
      "Accuracy: 35.26785659790039\n"
     ]
    },
    {
     "name": "stderr",
     "output_type": "stream",
     "text": [
      "100%|██████████| 123/123 [01:53<00:00,  1.11it/s]\n"
     ]
    },
    {
     "name": "stdout",
     "output_type": "stream",
     "text": [
      "Learning rate: 0.001\n",
      "Beta 1: 0.95\n",
      "Beta 2: 0.95\n",
      "Weight decay: 0.001\n",
      "Accuracy: 35.26785659790039\n"
     ]
    },
    {
     "name": "stderr",
     "output_type": "stream",
     "text": [
      "100%|██████████| 123/123 [01:51<00:00,  1.14it/s]\n"
     ]
    },
    {
     "name": "stdout",
     "output_type": "stream",
     "text": [
      "Learning rate: 0.001\n",
      "Beta 1: 0.95\n",
      "Beta 2: 0.95\n",
      "Weight decay: 0.0001\n",
      "Accuracy: 33.03571319580078\n"
     ]
    },
    {
     "name": "stderr",
     "output_type": "stream",
     "text": [
      "100%|██████████| 123/123 [01:53<00:00,  1.11it/s]\n"
     ]
    },
    {
     "name": "stdout",
     "output_type": "stream",
     "text": [
      "Learning rate: 0.001\n",
      "Beta 1: 0.95\n",
      "Beta 2: 0.99\n",
      "Weight decay: 0\n",
      "Accuracy: 33.92856979370117\n"
     ]
    },
    {
     "name": "stderr",
     "output_type": "stream",
     "text": [
      "100%|██████████| 123/123 [01:52<00:00,  1.10it/s]\n"
     ]
    },
    {
     "name": "stdout",
     "output_type": "stream",
     "text": [
      "Learning rate: 0.001\n",
      "Beta 1: 0.95\n",
      "Beta 2: 0.99\n",
      "Weight decay: 0.01\n",
      "Accuracy: 33.48214340209961\n"
     ]
    },
    {
     "name": "stderr",
     "output_type": "stream",
     "text": [
      "100%|██████████| 123/123 [01:53<00:00,  1.11it/s]\n"
     ]
    },
    {
     "name": "stdout",
     "output_type": "stream",
     "text": [
      "Learning rate: 0.001\n",
      "Beta 1: 0.95\n",
      "Beta 2: 0.99\n",
      "Weight decay: 0.001\n",
      "Accuracy: 31.25\n"
     ]
    },
    {
     "name": "stderr",
     "output_type": "stream",
     "text": [
      "100%|██████████| 123/123 [01:51<00:00,  1.11it/s]\n"
     ]
    },
    {
     "name": "stdout",
     "output_type": "stream",
     "text": [
      "Learning rate: 0.001\n",
      "Beta 1: 0.95\n",
      "Beta 2: 0.99\n",
      "Weight decay: 0.0001\n",
      "Accuracy: 37.5\n"
     ]
    },
    {
     "name": "stderr",
     "output_type": "stream",
     "text": [
      "100%|██████████| 123/123 [01:51<00:00,  1.21it/s]\n"
     ]
    },
    {
     "name": "stdout",
     "output_type": "stream",
     "text": [
      "Learning rate: 0.0001\n",
      "Beta 1: 0.8\n",
      "Beta 2: 0.9\n",
      "Weight decay: 0\n",
      "Accuracy: 37.05356979370117\n"
     ]
    },
    {
     "name": "stderr",
     "output_type": "stream",
     "text": [
      "100%|██████████| 123/123 [01:52<00:00,  1.11it/s]\n"
     ]
    },
    {
     "name": "stdout",
     "output_type": "stream",
     "text": [
      "Learning rate: 0.0001\n",
      "Beta 1: 0.8\n",
      "Beta 2: 0.9\n",
      "Weight decay: 0.01\n",
      "Accuracy: 36.60714340209961\n"
     ]
    },
    {
     "name": "stderr",
     "output_type": "stream",
     "text": [
      "100%|██████████| 123/123 [01:50<00:00,  1.16it/s]\n"
     ]
    },
    {
     "name": "stdout",
     "output_type": "stream",
     "text": [
      "Learning rate: 0.0001\n",
      "Beta 1: 0.8\n",
      "Beta 2: 0.9\n",
      "Weight decay: 0.001\n",
      "Accuracy: 34.375\n"
     ]
    },
    {
     "name": "stderr",
     "output_type": "stream",
     "text": [
      "100%|██████████| 123/123 [01:52<00:00,  1.14it/s]\n"
     ]
    },
    {
     "name": "stdout",
     "output_type": "stream",
     "text": [
      "Learning rate: 0.0001\n",
      "Beta 1: 0.8\n",
      "Beta 2: 0.9\n",
      "Weight decay: 0.0001\n",
      "Accuracy: 39.28571319580078\n"
     ]
    },
    {
     "name": "stderr",
     "output_type": "stream",
     "text": [
      "100%|██████████| 123/123 [01:51<00:00,  1.21it/s]\n"
     ]
    },
    {
     "name": "stdout",
     "output_type": "stream",
     "text": [
      "Learning rate: 0.0001\n",
      "Beta 1: 0.8\n",
      "Beta 2: 0.925\n",
      "Weight decay: 0\n",
      "Accuracy: 33.48214340209961\n"
     ]
    },
    {
     "name": "stderr",
     "output_type": "stream",
     "text": [
      "100%|██████████| 123/123 [01:52<00:00,  1.11it/s]\n"
     ]
    },
    {
     "name": "stdout",
     "output_type": "stream",
     "text": [
      "Learning rate: 0.0001\n",
      "Beta 1: 0.8\n",
      "Beta 2: 0.925\n",
      "Weight decay: 0.01\n",
      "Accuracy: 32.58928680419922\n"
     ]
    },
    {
     "name": "stderr",
     "output_type": "stream",
     "text": [
      "100%|██████████| 123/123 [01:53<00:00,  1.10it/s]\n"
     ]
    },
    {
     "name": "stdout",
     "output_type": "stream",
     "text": [
      "Learning rate: 0.0001\n",
      "Beta 1: 0.8\n",
      "Beta 2: 0.925\n",
      "Weight decay: 0.001\n",
      "Accuracy: 37.05356979370117\n"
     ]
    },
    {
     "name": "stderr",
     "output_type": "stream",
     "text": [
      "100%|██████████| 123/123 [01:52<00:00,  1.10it/s]\n"
     ]
    },
    {
     "name": "stdout",
     "output_type": "stream",
     "text": [
      "Learning rate: 0.0001\n",
      "Beta 1: 0.8\n",
      "Beta 2: 0.925\n",
      "Weight decay: 0.0001\n",
      "Accuracy: 34.375\n"
     ]
    },
    {
     "name": "stderr",
     "output_type": "stream",
     "text": [
      "100%|██████████| 123/123 [01:51<00:00,  1.12it/s]\n"
     ]
    },
    {
     "name": "stdout",
     "output_type": "stream",
     "text": [
      "Learning rate: 0.0001\n",
      "Beta 1: 0.8\n",
      "Beta 2: 0.95\n",
      "Weight decay: 0\n",
      "Accuracy: 40.625\n"
     ]
    },
    {
     "name": "stderr",
     "output_type": "stream",
     "text": [
      "100%|██████████| 123/123 [01:51<00:00,  1.11it/s]\n"
     ]
    },
    {
     "name": "stdout",
     "output_type": "stream",
     "text": [
      "Learning rate: 0.0001\n",
      "Beta 1: 0.8\n",
      "Beta 2: 0.95\n",
      "Weight decay: 0.01\n",
      "Accuracy: 35.26785659790039\n"
     ]
    },
    {
     "name": "stderr",
     "output_type": "stream",
     "text": [
      "100%|██████████| 123/123 [01:53<00:00,  1.10it/s]\n"
     ]
    },
    {
     "name": "stdout",
     "output_type": "stream",
     "text": [
      "Learning rate: 0.0001\n",
      "Beta 1: 0.8\n",
      "Beta 2: 0.95\n",
      "Weight decay: 0.001\n",
      "Accuracy: 34.375\n"
     ]
    },
    {
     "name": "stderr",
     "output_type": "stream",
     "text": [
      "100%|██████████| 123/123 [01:52<00:00,  1.11it/s]\n"
     ]
    },
    {
     "name": "stdout",
     "output_type": "stream",
     "text": [
      "Learning rate: 0.0001\n",
      "Beta 1: 0.8\n",
      "Beta 2: 0.95\n",
      "Weight decay: 0.0001\n",
      "Accuracy: 34.375\n"
     ]
    },
    {
     "name": "stderr",
     "output_type": "stream",
     "text": [
      "100%|██████████| 123/123 [01:51<00:00,  1.14it/s]\n"
     ]
    },
    {
     "name": "stdout",
     "output_type": "stream",
     "text": [
      "Learning rate: 0.0001\n",
      "Beta 1: 0.8\n",
      "Beta 2: 0.99\n",
      "Weight decay: 0\n",
      "Accuracy: 33.48214340209961\n"
     ]
    },
    {
     "name": "stderr",
     "output_type": "stream",
     "text": [
      "100%|██████████| 123/123 [01:52<00:00,  1.12it/s]\n"
     ]
    },
    {
     "name": "stdout",
     "output_type": "stream",
     "text": [
      "Learning rate: 0.0001\n",
      "Beta 1: 0.8\n",
      "Beta 2: 0.99\n",
      "Weight decay: 0.01\n",
      "Accuracy: 34.375\n"
     ]
    },
    {
     "name": "stderr",
     "output_type": "stream",
     "text": [
      "100%|██████████| 123/123 [01:52<00:00,  1.11it/s]\n"
     ]
    },
    {
     "name": "stdout",
     "output_type": "stream",
     "text": [
      "Learning rate: 0.0001\n",
      "Beta 1: 0.8\n",
      "Beta 2: 0.99\n",
      "Weight decay: 0.001\n",
      "Accuracy: 34.82143020629883\n"
     ]
    },
    {
     "name": "stderr",
     "output_type": "stream",
     "text": [
      "100%|██████████| 123/123 [01:52<00:00,  1.11it/s]\n"
     ]
    },
    {
     "name": "stdout",
     "output_type": "stream",
     "text": [
      "Learning rate: 0.0001\n",
      "Beta 1: 0.8\n",
      "Beta 2: 0.99\n",
      "Weight decay: 0.0001\n",
      "Accuracy: 36.16071319580078\n"
     ]
    },
    {
     "name": "stderr",
     "output_type": "stream",
     "text": [
      "100%|██████████| 123/123 [01:51<00:00,  1.12it/s]\n"
     ]
    },
    {
     "name": "stdout",
     "output_type": "stream",
     "text": [
      "Learning rate: 0.0001\n",
      "Beta 1: 0.85\n",
      "Beta 2: 0.9\n",
      "Weight decay: 0\n",
      "Accuracy: 36.60714340209961\n"
     ]
    },
    {
     "name": "stderr",
     "output_type": "stream",
     "text": [
      "100%|██████████| 123/123 [01:51<00:00,  1.11it/s]\n"
     ]
    },
    {
     "name": "stdout",
     "output_type": "stream",
     "text": [
      "Learning rate: 0.0001\n",
      "Beta 1: 0.85\n",
      "Beta 2: 0.9\n",
      "Weight decay: 0.01\n",
      "Accuracy: 36.16071319580078\n"
     ]
    },
    {
     "name": "stderr",
     "output_type": "stream",
     "text": [
      "100%|██████████| 123/123 [01:53<00:00,  1.11it/s]\n"
     ]
    },
    {
     "name": "stdout",
     "output_type": "stream",
     "text": [
      "Learning rate: 0.0001\n",
      "Beta 1: 0.85\n",
      "Beta 2: 0.9\n",
      "Weight decay: 0.001\n",
      "Accuracy: 34.375\n"
     ]
    },
    {
     "name": "stderr",
     "output_type": "stream",
     "text": [
      "100%|██████████| 123/123 [01:52<00:00,  1.17it/s]\n"
     ]
    },
    {
     "name": "stdout",
     "output_type": "stream",
     "text": [
      "Learning rate: 0.0001\n",
      "Beta 1: 0.85\n",
      "Beta 2: 0.9\n",
      "Weight decay: 0.0001\n",
      "Accuracy: 34.375\n"
     ]
    },
    {
     "name": "stderr",
     "output_type": "stream",
     "text": [
      "100%|██████████| 123/123 [01:51<00:00,  1.13it/s]\n"
     ]
    },
    {
     "name": "stdout",
     "output_type": "stream",
     "text": [
      "Learning rate: 0.0001\n",
      "Beta 1: 0.85\n",
      "Beta 2: 0.925\n",
      "Weight decay: 0\n",
      "Accuracy: 32.58928680419922\n"
     ]
    },
    {
     "name": "stderr",
     "output_type": "stream",
     "text": [
      "100%|██████████| 123/123 [01:53<00:00,  1.11it/s]\n"
     ]
    },
    {
     "name": "stdout",
     "output_type": "stream",
     "text": [
      "Learning rate: 0.0001\n",
      "Beta 1: 0.85\n",
      "Beta 2: 0.925\n",
      "Weight decay: 0.01\n",
      "Accuracy: 37.94643020629883\n"
     ]
    },
    {
     "name": "stderr",
     "output_type": "stream",
     "text": [
      "100%|██████████| 123/123 [01:52<00:00,  1.12it/s]\n"
     ]
    },
    {
     "name": "stdout",
     "output_type": "stream",
     "text": [
      "Learning rate: 0.0001\n",
      "Beta 1: 0.85\n",
      "Beta 2: 0.925\n",
      "Weight decay: 0.001\n",
      "Accuracy: 36.60714340209961\n"
     ]
    },
    {
     "name": "stderr",
     "output_type": "stream",
     "text": [
      "100%|██████████| 123/123 [01:52<00:00,  1.15it/s]\n"
     ]
    },
    {
     "name": "stdout",
     "output_type": "stream",
     "text": [
      "Learning rate: 0.0001\n",
      "Beta 1: 0.85\n",
      "Beta 2: 0.925\n",
      "Weight decay: 0.0001\n",
      "Accuracy: 34.375\n"
     ]
    },
    {
     "name": "stderr",
     "output_type": "stream",
     "text": [
      "100%|██████████| 123/123 [01:51<00:00,  1.12it/s]\n"
     ]
    },
    {
     "name": "stdout",
     "output_type": "stream",
     "text": [
      "Learning rate: 0.0001\n",
      "Beta 1: 0.85\n",
      "Beta 2: 0.95\n",
      "Weight decay: 0\n",
      "Accuracy: 31.696428298950195\n"
     ]
    },
    {
     "name": "stderr",
     "output_type": "stream",
     "text": [
      "100%|██████████| 123/123 [01:52<00:00,  1.11it/s]\n"
     ]
    },
    {
     "name": "stdout",
     "output_type": "stream",
     "text": [
      "Learning rate: 0.0001\n",
      "Beta 1: 0.85\n",
      "Beta 2: 0.95\n",
      "Weight decay: 0.01\n",
      "Accuracy: 36.16071319580078\n"
     ]
    },
    {
     "name": "stderr",
     "output_type": "stream",
     "text": [
      "100%|██████████| 123/123 [01:52<00:00,  1.11it/s]\n"
     ]
    },
    {
     "name": "stdout",
     "output_type": "stream",
     "text": [
      "Learning rate: 0.0001\n",
      "Beta 1: 0.85\n",
      "Beta 2: 0.95\n",
      "Weight decay: 0.001\n",
      "Accuracy: 37.05356979370117\n"
     ]
    },
    {
     "name": "stderr",
     "output_type": "stream",
     "text": [
      "100%|██████████| 123/123 [01:53<00:00,  1.14it/s]\n"
     ]
    },
    {
     "name": "stdout",
     "output_type": "stream",
     "text": [
      "Learning rate: 0.0001\n",
      "Beta 1: 0.85\n",
      "Beta 2: 0.95\n",
      "Weight decay: 0.0001\n",
      "Accuracy: 36.60714340209961\n"
     ]
    },
    {
     "name": "stderr",
     "output_type": "stream",
     "text": [
      "100%|██████████| 123/123 [01:52<00:00,  1.11it/s]\n"
     ]
    },
    {
     "name": "stdout",
     "output_type": "stream",
     "text": [
      "Learning rate: 0.0001\n",
      "Beta 1: 0.85\n",
      "Beta 2: 0.99\n",
      "Weight decay: 0\n",
      "Accuracy: 33.48214340209961\n"
     ]
    },
    {
     "name": "stderr",
     "output_type": "stream",
     "text": [
      "100%|██████████| 123/123 [01:54<00:00,  1.16it/s]\n"
     ]
    },
    {
     "name": "stdout",
     "output_type": "stream",
     "text": [
      "Learning rate: 0.0001\n",
      "Beta 1: 0.85\n",
      "Beta 2: 0.99\n",
      "Weight decay: 0.01\n",
      "Accuracy: 36.60714340209961\n"
     ]
    },
    {
     "name": "stderr",
     "output_type": "stream",
     "text": [
      "100%|██████████| 123/123 [01:52<00:00,  1.15it/s]\n"
     ]
    },
    {
     "name": "stdout",
     "output_type": "stream",
     "text": [
      "Learning rate: 0.0001\n",
      "Beta 1: 0.85\n",
      "Beta 2: 0.99\n",
      "Weight decay: 0.001\n",
      "Accuracy: 31.696428298950195\n"
     ]
    },
    {
     "name": "stderr",
     "output_type": "stream",
     "text": [
      "100%|██████████| 123/123 [01:52<00:00,  1.13it/s]\n"
     ]
    },
    {
     "name": "stdout",
     "output_type": "stream",
     "text": [
      "Learning rate: 0.0001\n",
      "Beta 1: 0.85\n",
      "Beta 2: 0.99\n",
      "Weight decay: 0.0001\n",
      "Accuracy: 36.16071319580078\n"
     ]
    },
    {
     "name": "stderr",
     "output_type": "stream",
     "text": [
      "100%|██████████| 123/123 [01:51<00:00,  1.10it/s]\n"
     ]
    },
    {
     "name": "stdout",
     "output_type": "stream",
     "text": [
      "Learning rate: 0.0001\n",
      "Beta 1: 0.9\n",
      "Beta 2: 0.9\n",
      "Weight decay: 0\n",
      "Accuracy: 33.92856979370117\n"
     ]
    },
    {
     "name": "stderr",
     "output_type": "stream",
     "text": [
      "100%|██████████| 123/123 [01:52<00:00,  1.12it/s]\n"
     ]
    },
    {
     "name": "stdout",
     "output_type": "stream",
     "text": [
      "Learning rate: 0.0001\n",
      "Beta 1: 0.9\n",
      "Beta 2: 0.9\n",
      "Weight decay: 0.01\n",
      "Accuracy: 35.71428680419922\n"
     ]
    },
    {
     "name": "stderr",
     "output_type": "stream",
     "text": [
      "100%|██████████| 123/123 [01:51<00:00,  1.10it/s]\n"
     ]
    },
    {
     "name": "stdout",
     "output_type": "stream",
     "text": [
      "Learning rate: 0.0001\n",
      "Beta 1: 0.9\n",
      "Beta 2: 0.9\n",
      "Weight decay: 0.001\n",
      "Accuracy: 33.92856979370117\n"
     ]
    },
    {
     "name": "stderr",
     "output_type": "stream",
     "text": [
      "100%|██████████| 123/123 [01:51<00:00,  1.13it/s]\n"
     ]
    },
    {
     "name": "stdout",
     "output_type": "stream",
     "text": [
      "Learning rate: 0.0001\n",
      "Beta 1: 0.9\n",
      "Beta 2: 0.9\n",
      "Weight decay: 0.0001\n",
      "Accuracy: 35.26785659790039\n"
     ]
    },
    {
     "name": "stderr",
     "output_type": "stream",
     "text": [
      "100%|██████████| 123/123 [01:52<00:00,  1.12it/s]\n"
     ]
    },
    {
     "name": "stdout",
     "output_type": "stream",
     "text": [
      "Learning rate: 0.0001\n",
      "Beta 1: 0.9\n",
      "Beta 2: 0.925\n",
      "Weight decay: 0\n",
      "Accuracy: 36.60714340209961\n"
     ]
    },
    {
     "name": "stderr",
     "output_type": "stream",
     "text": [
      "100%|██████████| 123/123 [01:52<00:00,  1.13it/s]\n"
     ]
    },
    {
     "name": "stdout",
     "output_type": "stream",
     "text": [
      "Learning rate: 0.0001\n",
      "Beta 1: 0.9\n",
      "Beta 2: 0.925\n",
      "Weight decay: 0.01\n",
      "Accuracy: 36.16071319580078\n"
     ]
    },
    {
     "name": "stderr",
     "output_type": "stream",
     "text": [
      "100%|██████████| 123/123 [01:52<00:00,  1.13it/s]\n"
     ]
    },
    {
     "name": "stdout",
     "output_type": "stream",
     "text": [
      "Learning rate: 0.0001\n",
      "Beta 1: 0.9\n",
      "Beta 2: 0.925\n",
      "Weight decay: 0.001\n",
      "Accuracy: 34.375\n"
     ]
    },
    {
     "name": "stderr",
     "output_type": "stream",
     "text": [
      "100%|██████████| 123/123 [01:51<00:00,  1.11it/s]\n"
     ]
    },
    {
     "name": "stdout",
     "output_type": "stream",
     "text": [
      "Learning rate: 0.0001\n",
      "Beta 1: 0.9\n",
      "Beta 2: 0.925\n",
      "Weight decay: 0.0001\n",
      "Accuracy: 38.83928680419922\n"
     ]
    },
    {
     "name": "stderr",
     "output_type": "stream",
     "text": [
      "100%|██████████| 123/123 [01:50<00:00,  1.12it/s]\n"
     ]
    },
    {
     "name": "stdout",
     "output_type": "stream",
     "text": [
      "Learning rate: 0.0001\n",
      "Beta 1: 0.9\n",
      "Beta 2: 0.95\n",
      "Weight decay: 0\n",
      "Accuracy: 36.60714340209961\n"
     ]
    },
    {
     "name": "stderr",
     "output_type": "stream",
     "text": [
      "100%|██████████| 123/123 [01:51<00:00,  1.12it/s]\n"
     ]
    },
    {
     "name": "stdout",
     "output_type": "stream",
     "text": [
      "Learning rate: 0.0001\n",
      "Beta 1: 0.9\n",
      "Beta 2: 0.95\n",
      "Weight decay: 0.01\n",
      "Accuracy: 33.48214340209961\n"
     ]
    },
    {
     "name": "stderr",
     "output_type": "stream",
     "text": [
      "100%|██████████| 123/123 [01:51<00:00,  1.11it/s]\n"
     ]
    },
    {
     "name": "stdout",
     "output_type": "stream",
     "text": [
      "Learning rate: 0.0001\n",
      "Beta 1: 0.9\n",
      "Beta 2: 0.95\n",
      "Weight decay: 0.001\n",
      "Accuracy: 36.60714340209961\n"
     ]
    },
    {
     "name": "stderr",
     "output_type": "stream",
     "text": [
      "100%|██████████| 123/123 [01:53<00:00,  1.10it/s]\n"
     ]
    },
    {
     "name": "stdout",
     "output_type": "stream",
     "text": [
      "Learning rate: 0.0001\n",
      "Beta 1: 0.9\n",
      "Beta 2: 0.95\n",
      "Weight decay: 0.0001\n",
      "Accuracy: 33.03571319580078\n"
     ]
    },
    {
     "name": "stderr",
     "output_type": "stream",
     "text": [
      "100%|██████████| 123/123 [01:52<00:00,  1.11it/s]\n"
     ]
    },
    {
     "name": "stdout",
     "output_type": "stream",
     "text": [
      "Learning rate: 0.0001\n",
      "Beta 1: 0.9\n",
      "Beta 2: 0.99\n",
      "Weight decay: 0\n",
      "Accuracy: 35.26785659790039\n"
     ]
    },
    {
     "name": "stderr",
     "output_type": "stream",
     "text": [
      "100%|██████████| 123/123 [01:52<00:00,  1.13it/s]\n"
     ]
    },
    {
     "name": "stdout",
     "output_type": "stream",
     "text": [
      "Learning rate: 0.0001\n",
      "Beta 1: 0.9\n",
      "Beta 2: 0.99\n",
      "Weight decay: 0.01\n",
      "Accuracy: 35.71428680419922\n"
     ]
    },
    {
     "name": "stderr",
     "output_type": "stream",
     "text": [
      "100%|██████████| 123/123 [01:52<00:00,  1.11it/s]\n"
     ]
    },
    {
     "name": "stdout",
     "output_type": "stream",
     "text": [
      "Learning rate: 0.0001\n",
      "Beta 1: 0.9\n",
      "Beta 2: 0.99\n",
      "Weight decay: 0.001\n",
      "Accuracy: 37.05356979370117\n"
     ]
    },
    {
     "name": "stderr",
     "output_type": "stream",
     "text": [
      "100%|██████████| 123/123 [01:53<00:00,  1.11it/s]\n"
     ]
    },
    {
     "name": "stdout",
     "output_type": "stream",
     "text": [
      "Learning rate: 0.0001\n",
      "Beta 1: 0.9\n",
      "Beta 2: 0.99\n",
      "Weight decay: 0.0001\n",
      "Accuracy: 38.83928680419922\n"
     ]
    },
    {
     "name": "stderr",
     "output_type": "stream",
     "text": [
      "100%|██████████| 123/123 [01:51<00:00,  1.18it/s]\n"
     ]
    },
    {
     "name": "stdout",
     "output_type": "stream",
     "text": [
      "Learning rate: 0.0001\n",
      "Beta 1: 0.95\n",
      "Beta 2: 0.9\n",
      "Weight decay: 0\n",
      "Accuracy: 38.39285659790039\n"
     ]
    },
    {
     "name": "stderr",
     "output_type": "stream",
     "text": [
      "100%|██████████| 123/123 [01:51<00:00,  1.13it/s]\n"
     ]
    },
    {
     "name": "stdout",
     "output_type": "stream",
     "text": [
      "Learning rate: 0.0001\n",
      "Beta 1: 0.95\n",
      "Beta 2: 0.9\n",
      "Weight decay: 0.01\n",
      "Accuracy: 36.16071319580078\n"
     ]
    },
    {
     "name": "stderr",
     "output_type": "stream",
     "text": [
      "100%|██████████| 123/123 [01:52<00:00,  1.11it/s]\n"
     ]
    },
    {
     "name": "stdout",
     "output_type": "stream",
     "text": [
      "Learning rate: 0.0001\n",
      "Beta 1: 0.95\n",
      "Beta 2: 0.9\n",
      "Weight decay: 0.001\n",
      "Accuracy: 34.375\n"
     ]
    },
    {
     "name": "stderr",
     "output_type": "stream",
     "text": [
      "100%|██████████| 123/123 [01:51<00:00,  1.11it/s]\n"
     ]
    },
    {
     "name": "stdout",
     "output_type": "stream",
     "text": [
      "Learning rate: 0.0001\n",
      "Beta 1: 0.95\n",
      "Beta 2: 0.9\n",
      "Weight decay: 0.0001\n",
      "Accuracy: 34.82143020629883\n"
     ]
    },
    {
     "name": "stderr",
     "output_type": "stream",
     "text": [
      "100%|██████████| 123/123 [01:52<00:00,  1.14it/s]\n"
     ]
    },
    {
     "name": "stdout",
     "output_type": "stream",
     "text": [
      "Learning rate: 0.0001\n",
      "Beta 1: 0.95\n",
      "Beta 2: 0.925\n",
      "Weight decay: 0\n",
      "Accuracy: 33.03571319580078\n"
     ]
    },
    {
     "name": "stderr",
     "output_type": "stream",
     "text": [
      "100%|██████████| 123/123 [01:51<00:00,  1.12it/s]\n"
     ]
    },
    {
     "name": "stdout",
     "output_type": "stream",
     "text": [
      "Learning rate: 0.0001\n",
      "Beta 1: 0.95\n",
      "Beta 2: 0.925\n",
      "Weight decay: 0.01\n",
      "Accuracy: 36.60714340209961\n"
     ]
    },
    {
     "name": "stderr",
     "output_type": "stream",
     "text": [
      "100%|██████████| 123/123 [01:52<00:00,  1.12it/s]\n"
     ]
    },
    {
     "name": "stdout",
     "output_type": "stream",
     "text": [
      "Learning rate: 0.0001\n",
      "Beta 1: 0.95\n",
      "Beta 2: 0.925\n",
      "Weight decay: 0.001\n",
      "Accuracy: 34.82143020629883\n"
     ]
    },
    {
     "name": "stderr",
     "output_type": "stream",
     "text": [
      "100%|██████████| 123/123 [01:53<00:00,  1.11it/s]\n"
     ]
    },
    {
     "name": "stdout",
     "output_type": "stream",
     "text": [
      "Learning rate: 0.0001\n",
      "Beta 1: 0.95\n",
      "Beta 2: 0.925\n",
      "Weight decay: 0.0001\n",
      "Accuracy: 36.16071319580078\n"
     ]
    },
    {
     "name": "stderr",
     "output_type": "stream",
     "text": [
      "100%|██████████| 123/123 [01:52<00:00,  1.11it/s]\n"
     ]
    },
    {
     "name": "stdout",
     "output_type": "stream",
     "text": [
      "Learning rate: 0.0001\n",
      "Beta 1: 0.95\n",
      "Beta 2: 0.95\n",
      "Weight decay: 0\n",
      "Accuracy: 33.03571319580078\n"
     ]
    },
    {
     "name": "stderr",
     "output_type": "stream",
     "text": [
      "100%|██████████| 123/123 [01:51<00:00,  1.11it/s]\n"
     ]
    },
    {
     "name": "stdout",
     "output_type": "stream",
     "text": [
      "Learning rate: 0.0001\n",
      "Beta 1: 0.95\n",
      "Beta 2: 0.95\n",
      "Weight decay: 0.01\n",
      "Accuracy: 34.82143020629883\n"
     ]
    },
    {
     "name": "stderr",
     "output_type": "stream",
     "text": [
      "100%|██████████| 123/123 [01:52<00:00,  1.11it/s]\n"
     ]
    },
    {
     "name": "stdout",
     "output_type": "stream",
     "text": [
      "Learning rate: 0.0001\n",
      "Beta 1: 0.95\n",
      "Beta 2: 0.95\n",
      "Weight decay: 0.001\n",
      "Accuracy: 37.94643020629883\n"
     ]
    },
    {
     "name": "stderr",
     "output_type": "stream",
     "text": [
      "100%|██████████| 123/123 [01:52<00:00,  1.10it/s]\n"
     ]
    },
    {
     "name": "stdout",
     "output_type": "stream",
     "text": [
      "Learning rate: 0.0001\n",
      "Beta 1: 0.95\n",
      "Beta 2: 0.95\n",
      "Weight decay: 0.0001\n",
      "Accuracy: 32.58928680419922\n"
     ]
    },
    {
     "name": "stderr",
     "output_type": "stream",
     "text": [
      "100%|██████████| 123/123 [01:51<00:00,  1.12it/s]\n"
     ]
    },
    {
     "name": "stdout",
     "output_type": "stream",
     "text": [
      "Learning rate: 0.0001\n",
      "Beta 1: 0.95\n",
      "Beta 2: 0.99\n",
      "Weight decay: 0\n",
      "Accuracy: 36.16071319580078\n"
     ]
    },
    {
     "name": "stderr",
     "output_type": "stream",
     "text": [
      "100%|██████████| 123/123 [01:53<00:00,  1.10it/s]\n"
     ]
    },
    {
     "name": "stdout",
     "output_type": "stream",
     "text": [
      "Learning rate: 0.0001\n",
      "Beta 1: 0.95\n",
      "Beta 2: 0.99\n",
      "Weight decay: 0.01\n",
      "Accuracy: 33.92856979370117\n"
     ]
    },
    {
     "name": "stderr",
     "output_type": "stream",
     "text": [
      "100%|██████████| 123/123 [01:51<00:00,  1.18it/s]\n"
     ]
    },
    {
     "name": "stdout",
     "output_type": "stream",
     "text": [
      "Learning rate: 0.0001\n",
      "Beta 1: 0.95\n",
      "Beta 2: 0.99\n",
      "Weight decay: 0.001\n",
      "Accuracy: 37.5\n"
     ]
    },
    {
     "name": "stderr",
     "output_type": "stream",
     "text": [
      "100%|██████████| 123/123 [01:53<00:00,  1.09it/s]\n"
     ]
    },
    {
     "name": "stdout",
     "output_type": "stream",
     "text": [
      "Learning rate: 0.0001\n",
      "Beta 1: 0.95\n",
      "Beta 2: 0.99\n",
      "Weight decay: 0.0001\n",
      "Accuracy: 33.48214340209961\n",
      "Best hyperparameters:\n",
      "Learning rate: 0.001\n",
      "Beta 1: 0.8\n",
      "Beta 2: 0.925\n",
      "Weight decay: 0.01\n",
      "Accuracy: 40.625\n"
     ]
    }
   ],
   "source": [
    "from torchvision import models\n",
    "\n",
    "train_loader = DataLoader(hasy_train, batch_size=16, shuffle=True)\n",
    "test_loader = DataLoader(hasy_test, batch_size=16, shuffle=False)\n",
    "\n",
    "def calc_accuracy(model):\n",
    "    accuracies = []\n",
    "    for idx, [x_test, y_test] in enumerate(test_loader):\n",
    "        test_pred = model(x_test)\n",
    "        accuracy = 100 * torch.mean((torch.argmax(test_pred, dim=1) == y_test).float())\n",
    "        accuracies.append(accuracy)\n",
    "    return np.mean(accuracies) \n",
    "\n",
    "def print_stats(lr, beta1, beta2, decay, accuracy):\n",
    "    print(\"Learning rate: {0}\".format(lr))\n",
    "    print(\"Beta 1: {0}\".format(beta1))\n",
    "    print(\"Beta 2: {0}\".format(beta2))\n",
    "    print(\"Weight decay: {0}\".format(decay))\n",
    "    print(\"Accuracy: {0}\".format(accuracy))\n",
    "\n",
    "learning_rates = [0.01, 0.001, 0.0001]\n",
    "betas1 = [0.8, 0.85, 0.9, 0.95]\n",
    "betas2 = [0.9, 0.925, 0.95, 0.99]\n",
    "weight_decays = [0, 0.01, 0.001, 0.0001]\n",
    "\n",
    "best_lr = 0\n",
    "best_beta1 = 0\n",
    "best_beta2 = 0\n",
    "best_decay = 0\n",
    "best_accuracy = 0\n",
    "\n",
    "for lr in learning_rates:\n",
    "    for beta1 in betas1:\n",
    "        for beta2 in betas2:\n",
    "            for decay in weight_decays:\n",
    "                model = models.densenet201(num_classes=15)\n",
    "                optimizer = torch.optim.Adam(model.parameters(), lr=lr, betas=(beta1, beta2), weight_decay=decay)\n",
    "                criterion = nn.CrossEntropyLoss()\n",
    "                for step, [x_train, y_train] in enumerate(tqdm(train_loader)):\n",
    "                    optimizer.zero_grad()\n",
    "                    train_pred = model(x_train)\n",
    "                    loss = criterion(train_pred, y_train)\n",
    "                    loss.backward()\n",
    "                    optimizer.step()\n",
    "                accuracy = calc_accuracy(model)\n",
    "                print_stats(lr, beta1, beta2, decay, accuracy)\n",
    "                if accuracy > best_accuracy:\n",
    "                    best_lr = lr\n",
    "                    best_beta1 = beta1\n",
    "                    best_beta2 = beta2\n",
    "                    best_decay = decay\n",
    "                    best_accuracy = accuracy\n",
    "                    \n",
    "print(\"Best hyperparameters:\")\n",
    "print_stats(best_lr, best_beta1, best_beta2, best_decay, best_accuracy)\n",
    "                "
   ]
  },
  {
   "cell_type": "code",
   "execution_count": null,
   "metadata": {},
   "outputs": [],
   "source": []
  }
 ],
 "metadata": {
  "kernelspec": {
   "display_name": "Python 3",
   "language": "python",
   "name": "python3"
  },
  "language_info": {
   "codemirror_mode": {
    "name": "ipython",
    "version": 3
   },
   "file_extension": ".py",
   "mimetype": "text/x-python",
   "name": "python",
   "nbconvert_exporter": "python",
   "pygments_lexer": "ipython3",
   "version": "3.7.3"
  }
 },
 "nbformat": 4,
 "nbformat_minor": 2
}
