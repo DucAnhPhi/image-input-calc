{
 "cells": [
  {
   "cell_type": "code",
   "execution_count": null,
   "metadata": {},
   "outputs": [],
   "source": [
    "from torchvision import transforms\n",
    "from torchvision.datasets import MNIST\n",
    "\n",
    "train_data = MNIST('mnist_train', train=True, transform=transforms.ToTensor(), download=True)\n",
    "test_data = MNIST('mnist_test', train=False, transform=transforms.ToTensor(), download=True)\n",
    "print(\"Train data shape: {0}\".format(train_data.data.shape))"
   ]
  },
  {
   "cell_type": "code",
   "execution_count": null,
   "metadata": {
    "scrolled": true
   },
   "outputs": [],
   "source": [
    "import torch\n",
    "import torch.nn as nn\n",
    "import numpy as np\n",
    "from torch.utils.data import DataLoader\n",
    "from network import CharacterClassifier\n",
    "from tqdm import tqdm\n",
    "\n",
    "input_dim = (1, 28, 28)\n",
    "hidden_layers = [50, 100, 500]\n",
    "output_dim = 10\n",
    "\n",
    "train_loader = DataLoader(train_data, batch_size=16, shuffle=True)\n",
    "test_loader = DataLoader(test_data, batch_size=16, shuffle=False)\n",
    "\n",
    "model = CharacterClassifier(input_dim, hidden_layers, output_dim)\n",
    "model.train()\n",
    "\n",
    "epochs = 5\n",
    "optimizer = torch.optim.SGD(model.parameters(), lr=0.001, momentum=0.9)\n",
    "criterion = nn.CrossEntropyLoss()\n",
    "\n",
    "for epoch in range(epochs):\n",
    "        print(\"Epoch {0}\".format(epoch))\n",
    "        for step, [x_train, y_train] in enumerate(tqdm(train_loader)):\n",
    "            optimizer.zero_grad()\n",
    "            train_pred = model(x_train)\n",
    "            loss = criterion(train_pred, y_train)\n",
    "            loss.backward()\n",
    "            optimizer.step()\n",
    "            if step % 300 == 0:\n",
    "                print('Loss: {}'.format(loss))\n",
    "            torch.save(model.state_dict(), 'cc{}.ckpt'.format(step))                \n",
    "model.eval()\n",
    "accuracies = []\n",
    "for idx, [x_test, y_test] in enumerate(tqdm(test_loader, desc='Test')):\n",
    "    test_pred = model(x_test)\n",
    "    accuracy = 100 * torch.mean((torch.argmax(test_pred, dim=1) == y_test).float())\n",
    "    accuracies.append(accuracy)\n",
    "print(\"Accuracy: {0}\".format(np.mean(accuracies)))"
   ]
  },
  {
   "cell_type": "code",
   "execution_count": null,
   "metadata": {},
   "outputs": [],
   "source": [
    "import os\n",
    "import torch\n",
    "import cv2\n",
    "from matplotlib import pyplot as plt\n",
    "from PIL import Image\n",
    "\n",
    "file_path = \"SubImages\"\n",
    "raw_images = []\n",
    "images = []\n",
    "for file_name in os.listdir(file_path):\n",
    "    img = cv2.imread(file_path+'/'+file_name)\n",
    "    img = cv2.resize(img, (28, 28), interpolation=cv2.INTER_AREA)\n",
    "    img = cv2.cvtColor(img, cv2.COLOR_BGR2GRAY)\n",
    "    raw_images.append(img)\n",
    "    np_img = np.asarray(img).reshape((1, 28, 28))\n",
    "    images.append(np_img)  \n",
    "image_tensor = torch.Tensor(images)\n",
    "prediction = model(image_tensor)\n",
    "labels = torch.argmax(prediction, dim=1)\n",
    "\n",
    "eps = 1e-08\n",
    "\n",
    "i = 0\n",
    "for label in labels: \n",
    "    plt.imshow(raw_images[i])\n",
    "    plt.show()  \n",
    "    print(label)  \n",
    "    i+=1"
   ]
  },
  {
   "cell_type": "code",
   "execution_count": 1,
   "metadata": {},
   "outputs": [
    {
     "name": "stderr",
     "output_type": "stream",
     "text": [
      "151241it [01:09, 2189.50it/s]\n",
      "16992it [00:08, 2098.47it/s]"
     ]
    },
    {
     "name": "stdout",
     "output_type": "stream",
     "text": [
      "Train data shape: torch.Size([151241, 3, 64, 64])\n",
      "Test data shape: torch.Size([16992, 3, 64, 64])\n"
     ]
    },
    {
     "name": "stderr",
     "output_type": "stream",
     "text": [
      "\n"
     ]
    }
   ],
   "source": [
    "import torch\n",
    "import os\n",
    "import torch.nn as nn\n",
    "import numpy as np\n",
    "from torch.utils.data import DataLoader\n",
    "from network import CharacterClassifier\n",
    "from tqdm import tqdm\n",
    "from training_data import HASY\n",
    "from PIL import Image\n",
    "from matplotlib import pyplot as plt\n",
    "\n",
    "hasy_train = HASY('HASY')\n",
    "hasy_test = HASY('HASY', train=False)\n",
    "\n",
    "print(\"Train data shape: {0}\".format(hasy_train.data.shape))\n",
    "print(\"Test data shape: {0}\".format(hasy_test.data.shape))\n",
    "\n"
   ]
  },
  {
   "cell_type": "code",
   "execution_count": 2,
   "metadata": {},
   "outputs": [
    {
     "name": "stdout",
     "output_type": "stream",
     "text": [
      "tensor([[[2.1834, 2.1834, 2.1834,  ..., 2.1834, 2.1834, 2.1834],\n",
      "         [2.1834, 2.1834, 2.1834,  ..., 2.1834, 2.1834, 2.1834],\n",
      "         [2.1834, 2.1834, 2.1834,  ..., 2.1834, 2.1834, 2.1834],\n",
      "         ...,\n",
      "         [2.1834, 2.1834, 2.1834,  ..., 2.1834, 2.1834, 2.1834],\n",
      "         [2.1834, 2.1834, 2.1834,  ..., 2.1834, 2.1834, 2.1834],\n",
      "         [2.1834, 2.1834, 2.1834,  ..., 2.1834, 2.1834, 2.1834]],\n",
      "\n",
      "        [[2.1834, 2.1834, 2.1834,  ..., 2.1834, 2.1834, 2.1834],\n",
      "         [2.1834, 2.1834, 2.1834,  ..., 2.1834, 2.1834, 2.1834],\n",
      "         [2.1834, 2.1834, 2.1834,  ..., 2.1834, 2.1834, 2.1834],\n",
      "         ...,\n",
      "         [2.1834, 2.1834, 2.1834,  ..., 2.1834, 2.1834, 2.1834],\n",
      "         [2.1834, 2.1834, 2.1834,  ..., 2.1834, 2.1834, 2.1834],\n",
      "         [2.1834, 2.1834, 2.1834,  ..., 2.1834, 2.1834, 2.1834]],\n",
      "\n",
      "        [[2.1834, 2.1834, 2.1834,  ..., 2.1834, 2.1834, 2.1834],\n",
      "         [2.1834, 2.1834, 2.1834,  ..., 2.1834, 2.1834, 2.1834],\n",
      "         [2.1834, 2.1834, 2.1834,  ..., 2.1834, 2.1834, 2.1834],\n",
      "         ...,\n",
      "         [2.1834, 2.1834, 2.1834,  ..., 2.1834, 2.1834, 2.1834],\n",
      "         [2.1834, 2.1834, 2.1834,  ..., 2.1834, 2.1834, 2.1834],\n",
      "         [2.1834, 2.1834, 2.1834,  ..., 2.1834, 2.1834, 2.1834]]])\n"
     ]
    },
    {
     "data": {
      "image/png": "[encoded data removed]",
      "text/plain": [
       "<Figure size 432x288 with 1 Axes>"
      ]
     },
     "metadata": {
      "needs_background": "light"
     },
     "output_type": "display_data"
    }
   ],
   "source": [
    "from torchvision import transforms\n",
    "test_img = transforms.ToPILImage()(hasy_train.data[0])\n",
    "plt.imshow(test_img)\n",
    "plt.show()"
   ]
  },
  {
   "cell_type": "code",
   "execution_count": null,
   "metadata": {},
   "outputs": [
    {
     "name": "stderr",
     "output_type": "stream",
     "text": [
      "\n",
      "  0%|          | 0/9453 [00:00<?, ?it/s]\u001b[A"
     ]
    },
    {
     "name": "stdout",
     "output_type": "stream",
     "text": [
      "Epoch 0\n"
     ]
    },
    {
     "name": "stderr",
     "output_type": "stream",
     "text": [
      "\n",
      "\n",
      "Test:   0%|          | 0/1062 [00:00<?, ?it/s]\u001b[A\u001b[A"
     ]
    },
    {
     "name": "stdout",
     "output_type": "stream",
     "text": [
      "Loss: 5.915121078491211\n"
     ]
    }
   ],
   "source": [
    "hasy_model = CharacterClassifier((3, 64, 64), [50, 100, 500], hasy_train.no_labels)\n",
    "hasy_model.train()\n",
    "\n",
    "epochs = 5\n",
    "optimizer = torch.optim.SGD(hasy_model.parameters(), lr=0.001, momentum=0.9)\n",
    "criterion = nn.CrossEntropyLoss()\n",
    "\n",
    "train_loader = DataLoader(hasy_train, batch_size=16, shuffle=True)\n",
    "test_loader = DataLoader(hasy_test, batch_size=16, shuffle=False)\n",
    "    \n",
    "for epoch in range(epochs):\n",
    "        print(\"Epoch {0}\".format(epoch))\n",
    "        for step, [x_train, y_train] in enumerate(tqdm(train_loader)):\n",
    "            optimizer.zero_grad()\n",
    "            train_pred = hasy_model(x_train)\n",
    "            loss = criterion(train_pred, y_train)\n",
    "            loss.backward()\n",
    "            optimizer.step()\n",
    "            if step % 600 == 0:\n",
    "                print('Loss: {}'.format(loss))\n",
    "                accuracies = []\n",
    "                for idx, [x_test, y_test] in enumerate(tqdm(test_loader, desc='Test')):\n",
    "                    test_pred = hasy_model(x_test)\n",
    "                    accuracy = 100 * torch.mean((torch.argmax(test_pred, dim=1) == y_test).float())\n",
    "                    accuracies.append(accuracy)\n",
    "                print(\"Accuracy: {0}\".format(np.mean(accuracies)))  \n",
    "torch.save(hasy_model.state_dict(), 'hasy_model.ckpt')        \n",
    "           \n"
   ]
  },
  {
   "cell_type": "code",
   "execution_count": null,
   "metadata": {},
   "outputs": [],
   "source": []
  }
 ],
 "metadata": {
  "kernelspec": {
   "display_name": "Python 3",
   "language": "python",
   "name": "python3"
  },
  "language_info": {
   "codemirror_mode": {
    "name": "ipython",
    "version": 3
   },
   "file_extension": ".py",
   "mimetype": "text/x-python",
   "name": "python",
   "nbconvert_exporter": "python",
   "pygments_lexer": "ipython3",
   "version": "3.7.3"
  }
 },
 "nbformat": 4,
 "nbformat_minor": 2
}
